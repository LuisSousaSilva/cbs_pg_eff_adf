{
 "cells": [
  {
   "cell_type": "code",
   "execution_count": null,
   "metadata": {},
   "outputs": [],
   "source": [
    "import yfinance as yf\n",
    "import pandas as pd\n",
    "\n",
    "from scipy import stats\n",
    "import numpy as np\n",
    "\n",
    "import pingouin"
   ]
  },
  {
   "cell_type": "code",
   "execution_count": null,
   "metadata": {},
   "outputs": [],
   "source": [
    "def merge_time_series(df_1, df_2, how='outer'):\n",
    "    df = df_1.merge(df_2, how=how, left_index=True, right_index=True)\n",
    "    return df\n",
    "\n",
    "def normalize(df):\n",
    "    df = df.dropna()\n",
    "    return (df / df.iloc[0]) * 100\n",
    "\n",
    "def download_yahoo_data(tickers, normalize_quotes=True,\n",
    "                      start='1970-01-01', end='2030-12-31'):\n",
    "    quotes=pd.DataFrame()\n",
    "    for ticker in tickers:\n",
    "        df = yf.download(ticker, start=start, end=end, progress=False)\n",
    "        df = df[['Adj Close']]\n",
    "        df.columns=[ticker]\n",
    "        quotes = merge_time_series(quotes, df)\n",
    "\n",
    "    quotes = quotes.ffill()\n",
    "\n",
    "    if normalize_quotes:\n",
    "        quotes = normalize(quotes)\n",
    "\n",
    "    return quotes\n",
    "\n",
    "def compute_z_critical_region(alpha):\n",
    "    return stats.norm.ppf(alpha),  stats.norm.ppf(1-alpha)\n",
    "\n",
    "def compute_t_critical_region(alpha, df):\n",
    "    return stats.t.ppf(alpha,df),  stats.t.ppf(1-alpha,df)"
   ]
  },
  {
   "cell_type": "markdown",
   "metadata": {},
   "source": [
    "# Capitulo 6 - Testes de Hipótese\n",
    "\n",
    "Quando conseguimos formular uma idea ou opinião de uma forma precisa sobre o valor de quantidades a idea torna-se estatísticamente testável e passa a ser uma hipótese.\n",
    "\n",
    "Como analista podemos querer explorar questões como:\n",
    "\n",
    "- A rentabilidade média de um fundo é realmente diferente da reantabilidade média do seuu benchmark? (para provarmos se o gestor é bom ou bateu o benchmark por sorte);\n",
    "- A volatilidade dos retornos de uma acção alterou-se depois da acção ter sido adicionada ao S&P 500?\n",
    "- O aumento de market makers em impacto no bid-ask spread de uma acção?\n",
    "\n",
    "Uma hipótese é definida como uma declaração sobre uma ou mais populações.\n",
    "\n",
    "Passos num teste de hipóteses:\n",
    "\n",
    "1. Declararmos a nossa hipótese;\n",
    "2. Identificar o teste estatístico apropriado;\n",
    "3. Especificar o nível de significância;\n",
    "4. Declarar as regras para a nossa decisão;\n",
    "5. Obter os dados relevante e calcular os respectivos testes estatísticos;\n",
    "6. Tomar a decisão económica ou de investimento;"
   ]
  },
  {
   "cell_type": "markdown",
   "metadata": {},
   "source": [
    "## Passo 1: Definição da nossa hipótese\n",
    "\n",
    "Parece algo trivial mas como vamos ver mais à frente, nos casos práticos, nem sempre o é.\n",
    "\n",
    "Devemos definir uma hipótese nula $h_0$ e uma hipótese alternativa $h_a$.\n",
    "\n",
    "**Hipótese Nula:** A hipótese nula é a hipótese a ser testada. É a hipótese que assumimos verdadeira a menos que os nossos testes no levem a ter provas suficientes para a rejeitar.\n",
    "\n",
    "**Hipótese alternativa**: A hipótese alternativa é a nossa ideia, aquilo que temos \"esperança\" em provar. É uma alteração do Status Quo.\n",
    "\n",
    "**Formulação da nossa da nossa hipótese**: Podemos formular a nossa hipótese de 3 formas diferentes:\n",
    "\n",
    "**1.**\n",
    "\n",
    " - $h_0$: $\\theta$ = $\\theta_0$\n",
    " - $h_a$: $\\theta \\neq  \\theta_0$\n",
    "\n",
    " (versão \"diferente de\")\n",
    "\n",
    "**2.**\n",
    "\n",
    " - $h_0$: $\\theta \\leq \\theta_0$\n",
    " - $h_a$: $\\theta >  \\theta_0$\n",
    "\n",
    " (versão \"maior que\")\n",
    "\n",
    "**3**\n",
    "\n",
    " - $h_0$: $\\theta \\geq \\theta_0$\n",
    " - $h_a$: $\\theta <  \\theta_0$\n",
    "\n",
    "  (versão \"menor que\")\n",
    "\n",
    "\n",
    "A primeira hipótese é um **teste de hipótese de duas caudas** ou lados (two sided or two tailed);\n",
    "\n",
    "A formulação 2 e 3 são **testes de uma cauda** (one sided ou one-tailed)."
   ]
  },
  {
   "cell_type": "markdown",
   "metadata": {},
   "source": [
    "<div class=\"alert alert-block alert-info\"><b>Exercício 6.1</b>\n",
    "\n",
    "Uma analista suspeita que, no ano mais recente, os retornos excessivos das ações\n",
    "foram inferiores a 5%. Ela quer então testar se os retornos em excesso são, de facto, inferiores a 5%.\n",
    "Designando a média da população como μ, quais hipóteses são mais apropriadas\n",
    "para sua análise?\n",
    "\n",
    "* **a)** $H_0: µ$ = 5 e $H_a$: µ ≠ 5\n",
    "* **b)**  $H_0: µ$ = 5 e $H_a$: µ < 5\n",
    "* **c)** $H_0: µ$ < 5 e $H_a$: µ > 5\n",
    "\n",
    "</div>\n",
    "\n"
   ]
  },
  {
   "cell_type": "code",
   "execution_count": null,
   "metadata": {
    "tags": [
     "hide-input",
     "hide-output"
    ]
   },
   "outputs": [],
   "source": [
    "# Resposta correcta é a b) uma vez que a analista pretende testar se os retornos em excesso são menores."
   ]
  },
  {
   "cell_type": "markdown",
   "metadata": {},
   "source": [
    "## Passo 2: Identificar a estatística de teste relevante\n",
    "\n",
    "Um ponto fulcral da nossa decisão será o valor da estatística de teste. A estatística de teste vai depender do que queremos testar.\n",
    "\n",
    "Quadro resumo:\n",
    "\n",
    "![](https://s3.us-east-2.amazonaws.com/cbs.pg.repository/img/TestStatisticsandTheirDistributions2.PNG)\n",
    "\n",
    "Não se preocupem muito entretanto que quando entrarmos nos exemplos vamos perceber."
   ]
  },
  {
   "cell_type": "code",
   "execution_count": null,
   "metadata": {},
   "outputs": [],
   "source": [
    "def compute_t_single_mean(sample_mean, expected_mean, std, n):\n",
    "  '''\n",
    "  sample_mean, expected_mean, std, n\n",
    "  '''\n",
    "  return ((sample_mean-expected_mean)/(std/np.sqrt(n)))"
   ]
  },
  {
   "cell_type": "markdown",
   "metadata": {},
   "source": [
    "## Passo 3: Especificar um nível de significância\n",
    "\n",
    "Ao fazermos um teste de hipóteses temos de definir um nível de significância. Os níveis mais comuns são 10%, 5% ou 1%.\n",
    "\n",
    "Diferentes níveis de significâcia influenciam a possibilidade de rejeitarmos ou não a hipotese nula. Infelizmente não podemos também aumentar indiscriminadamente o nível de confiança pois estamos a aumentar a probabilidade de não rejeitarmos a hipótese nula falsa e eventualmente podemos estar a cair naquilo que se chama de erro II (falha em rejeitar uma hipótese nula falsa).\n",
    "\n",
    "**Conceitos**\n",
    "\n",
    "* Nível de significância ($α$)\n",
    "* Nível de confiança ($1 - α$)"
   ]
  },
  {
   "cell_type": "markdown",
   "metadata": {},
   "source": [
    "### Tipos de erro\n",
    "\n",
    "![](https://s3.us-east-2.amazonaws.com/cbs.pg.repository/img/CorrectandIncorrectDecisionsinHypothesisTesting2.PNG)\n",
    "\n",
    "1. Rejeitamos uma hipótese nula falsa. Decisão correcta;\n",
    "2. Rejeitamos uma hipótese nula verdadeira. Erro tipo I;\n",
    "3. Não rejeitamos uma hipótese nula falsa. Erro tipo II;\n",
    "4. Não rejeitamos uma hipótese nula verdadeira. Decisão correcta.\n",
    "\n",
    "Questões escolha multipla para testar o conhecimento de erros tipo I e tipo II na [Khan Academy ](https://www.khanacademy.org/math/ap-statistics/xfb5d8e68:inference-categorical-proportions/error-probabilities-power/e/type-i-error-type-ii-error-power)"
   ]
  },
  {
   "cell_type": "markdown",
   "metadata": {},
   "source": [
    "## Passo 4: Declarar as regras para a nossa decisão\n",
    "\n",
    "Tendo em consideração a distribuição, e depois de decidirmos a o nível de significância podemos analisar os nossos pontos de rejeição. A nossa estatística de teste (que vamos calcular no passo 5) vai **ou estar dentro de uma região de aceitação** onde não podemos rejeitar a hipótese nula **ou vai estar nas regiões de rejeição**, onde rejeitamos a hipótese nula.\n",
    "\n",
    "![](https://s3.us-east-2.amazonaws.com/cbs.pg.repository/img/DecisionCriteriaUsinga5%25LevelofSignificance.PNG)"
   ]
  },
  {
   "cell_type": "markdown",
   "metadata": {},
   "source": [
    "## Passo 5: Obter os dados relevante e calcular os respectivos testes estatísticos\n",
    "\n",
    "O quinto passo no teste de hipóteses é obter os dados e calcular a estatística de teste.\n",
    "\n",
    "A qualidade de nossas conclusões depende não apenas da adequação do\n",
    "modelo estatístico, mas também a qualidade dos dados que usamos na realização do teste. Primeiro, precisamos garantir que o procedimento de amostragem não inclua enviesamentos. Em segundo lugar, precisamos limpar os dados, verificando imprecisões e outros erros de medição nos dados. Uma vez assegurado que a amostra é imparcial e preciso, as informações da amostra são usadas para calcular a estatística de teste apropriada.\n",
    "\n",
    "**EXEMPLO 3** : Usando um Intervalo de Confiança em Testes de Hipóteses\n",
    "\n",
    "Ao fazermos o nosso teste de hipóteses fizemos definimos hipóteses que dão origem a um teste de duas caudas. Optamos por um nível de significância de 5%.\n",
    "\n",
    "Com base na nossa amostra calculamos um Z = 1.05. A decisão mais apropriada será:\n",
    "\n",
    "* **a)** Rejeitar a hipótese nula.\n",
    "* **b)** Aceita a hipótese nula.\n",
    "* **c)** Falha em rejeitar a hipótese nula."
   ]
  },
  {
   "cell_type": "markdown",
   "metadata": {},
   "source": [
    "## Passo 5: Obter os dados relevante e calcular os respectivos testes estatísticos\n",
    "\n",
    "O quinto passo no teste de hipóteses é obter os dados e calcular a estatística de teste.\n",
    "\n",
    "A qualidade de nossas conclusões depende não apenas da adequação do\n",
    "modelo estatístico, mas também a qualidade dos dados que usamos na realização do teste. Primeiro, precisamos garantir que o procedimento de amostragem não inclua enviesamentos. Em segundo lugar, precisamos limpar os dados, verificando imprecisões e outros erros de medição nos dados. Uma vez assegurado que a amostra é imparcial e preciso, as informações da amostra são usadas para calcular a estatística de teste apropriada.\n",
    "\n",
    "**EXEMPLO 3** : Usando um Intervalo de Confiança em Testes de Hipóteses\n",
    "\n",
    "Ao fazermos o nosso teste de hipóteses fizemos definimos hipóteses que dão origem a um teste de duas caudas. Optamos por um nível de significância de 5%.\n",
    "\n",
    "Com base na nossa amostra calculamos um Z = 1.05. A decisão mais apropriada será:\n",
    "\n",
    "* **a)** Rejeitar a hipótese nula.\n",
    "* **b)** Aceita a hipótese nula.\n",
    "* **c)** Falha em rejeitar a hipótese nula."
   ]
  },
  {
   "cell_type": "markdown",
   "metadata": {},
   "source": [
    "## Passo 6: Tomar uma decisão\n"
   ]
  },
  {
   "cell_type": "markdown",
   "metadata": {},
   "source": [
    "### Exercício 6.2\n",
    "\n",
    "Um analista pretende testar se os retornos ajustados ao risco de uma estratégia de trading (que são positivos) são estatísticamente positivos. Na amostra a média do excesso nos retornos ajustados ao risco face ao mercado é de 0.7% ao mês. A amostra é de 20 anos com dados mensais.\n",
    "\n",
    "A estatística T calculada é de 2.5. O nível de significância é de 1%.\n",
    "\n",
    "**1)** Quais são as hipóteses nula e alternativa?"
   ]
  },
  {
   "cell_type": "code",
   "execution_count": null,
   "metadata": {
    "tags": [
     "hide-input",
     "hide-output"
    ]
   },
   "outputs": [],
   "source": [
    "# A hipótese nula é o sistema de trading não ter retornos em excesso face ao mercado portanto H_0 menor ou igual que 0% e\n",
    "# a hipótese alternativa, o que o trader tem \"esperança\" em provar, é a hipótese complementar, ou seja h_a > 0%"
   ]
  },
  {
   "cell_type": "markdown",
   "metadata": {},
   "source": [
    "**2)** Ao nível de significância de 1% quais são os pontos críticos?\n",
    "\n",
    "A analisar se com uma ou duas caudas."
   ]
  },
  {
   "cell_type": "code",
   "execution_count": null,
   "metadata": {},
   "outputs": [],
   "source": [
    "compute_t_critical_region(0.01, df=239)"
   ]
  },
  {
   "cell_type": "markdown",
   "metadata": {},
   "source": [
    "**3)** Rejeitamos a hipótese nula?\n",
    "\n",
    "A analisar para que lado é a cauda."
   ]
  },
  {
   "cell_type": "code",
   "execution_count": null,
   "metadata": {
    "tags": [
     "hide-input",
     "hide-output"
    ]
   },
   "outputs": [],
   "source": [
    "# Uma vez que a estística T calculada está fora da região de aceitação rejeitamos a hipótese nula"
   ]
  },
  {
   "cell_type": "markdown",
   "metadata": {},
   "source": [
    "### p-value\n",
    "\n",
    "O p-value é o menor nível de significância no qual a hipótese nula pode ser rejeitada.\n",
    "\n",
    "> Quanto mais pequeno o p-value mais forte é a evidência contra a hipótese nula e mais a favor da hipótese alternativa. Em muitos testes temos como output do python um p-value de 0, o que representa que rejeitamos a hipótese nula. Por outro lado algumas vezes também temos um p-value maior que 0.1 o que nos leva a não rejeitar a hipótese nula para os casos mais comuns ($\\alpha$ de 1%, 5% ou 10%).\n",
    "\n",
    "Quando fizermos os testes directamente em python vamo-nos guiar pelo p-value, que é logo dado como output."
   ]
  },
  {
   "cell_type": "markdown",
   "metadata": {},
   "source": [
    "<div class=\"alert alert-block alert-info\"><b>Exercício 6.3 - Tomar uma decisão com base no p-value</b>\n",
    "\n",
    "Uma analista pretende testar as hipóteses $H_0$: $σ^2$ = 0,01 versus $H_a$: $σ_2$ ≠ 0,01. Usando\n",
    "software, ela determina que o valor-p para a estatística de teste é 0,03 ou 3%.\n",
    "Quais das seguintes afirmações são corretas?\n",
    "* **a**) Rejeite a hipótese nula nos níveis de significância de 1% e 5%.\n",
    "* **b**) Rejeitar a hipótese nula ao nível de 5%, mas não ao nível de 1% de\n",
    "significado.\n",
    "* **c**) Deixar de rejeitar a hipótese nula nos níveis de 1% e 5% de\n",
    "significado.\n",
    "\n",
    "</div>"
   ]
  },
  {
   "cell_type": "code",
   "execution_count": null,
   "metadata": {
    "tags": [
     "hide-input",
     "hide-output"
    ]
   },
   "outputs": [],
   "source": [
    "# b) está correto. A rejeição da hipótese nula requer que o p-value seja menor que\n",
    "# o nível de significância. Com base neste requisito, a hipótese é rejeitada a um\n",
    "# nível de significância de 5%, mas não no nível de significância de 1%."
   ]
  },
  {
   "cell_type": "markdown",
   "metadata": {},
   "source": [
    "## Teste de uma só média"
   ]
  },
  {
   "cell_type": "markdown",
   "metadata": {},
   "source": [
    "### Exemplo (pág. 382)\n",
    "\n",
    "**Características de risco e retorno de um fundo de ações**\n",
    "\n",
    "Suponhamos que estamos a analisar o Sendar Equity Fund, um fundo de crescimento midcap que existe há 24 meses. Nesse período, alcançou uma média de\n",
    "retorno mensal de 1,50%, com desvio padrão amostral dos retornos mensais\n",
    "de 3,60%. Dado o seu nível de risco de mercado e de acordo com um modelo CAPM de esperava-se que o fundo obtivesse um retorno mensal médio de 1,10% durante\n",
    "esse período de tempo. Assumindo que os retornos são normalmente distribuídos, os resultados reais são consistente com um retorno mensal esperado de 1,10%?\n"
   ]
  },
  {
   "cell_type": "markdown",
   "metadata": {},
   "source": [
    " **Passo 1:** Formular a hipótese nula\n",
    "\n",
    " * $H_0$: μ = 1.1%\n",
    " * $H_a$: μ ≠ 1.1%\n",
    "\n",
    "\n",
    "**Passo 2:** Identificar a estatística de teste apropriada\n",
    "\n",
    "Teste de uma média só. Ver função matemática no quadro acima. Para nós é a função compute_t_single_mean()\n",
    "\n",
    "**Passo 3:** Especificar o nível de significância\n",
    "\n",
    "$\\alpha$ = 5%\n",
    "\n",
    "**Passo 4:** Declarar as regras para a nossa decisão\n",
    "\n",
    "Ver quais os valores críticos:"
   ]
  },
  {
   "cell_type": "code",
   "execution_count": null,
   "metadata": {},
   "outputs": [],
   "source": [
    "compute_t_critical_region(0.025, 23)"
   ]
  },
  {
   "cell_type": "markdown",
   "metadata": {},
   "source": [
    "Porquê 23? A distribuição T funciona, como já vimos com graus de liberdade (df or degrees of freedom). Os graus de liberdade são iguais a n menos os números de parâmetros a serem avaliados (neste caso 1 porque é sobre um só média).\n",
    "\n",
    "<ins>Se a estatística T que vamos calcular no ponto 5 estiver entre -2.069 e 2.69 não rejeitamos a hipótese nula. Se estiver fora desse range rejeitamos a hipótese nula.</ins>\n",
    "\n",
    "**Passo 5:** Calcular a estatística de teste"
   ]
  },
  {
   "cell_type": "markdown",
   "metadata": {},
   "source": [
    "## Função python da fórmula matemática acima para testes t de uma só média"
   ]
  },
  {
   "cell_type": "code",
   "execution_count": null,
   "metadata": {},
   "outputs": [],
   "source": [
    "compute_t_single_mean(sample_mean=1.5, expected_mean=1.1, std=3.6, n=24)"
   ]
  },
  {
   "cell_type": "markdown",
   "metadata": {},
   "source": [
    "## Alternativa $z$\n",
    "\n",
    "Para amostras grandes, os profissionais às vezes usam um teste z em vez de um teste t para testes relativos a uma média. A justificação para usar o teste z neste contexto são duas.\n",
    "\n",
    "Primeiro, em amostras grandes, a média amostral deve seguir a distribuição normal pelo menos aproximadamente, como já dissemos, cumprindo o pressuposto de normalidade do z-teste.\n",
    "\n",
    "Em segundo lugar, a diferença entre os pontos de rejeição para o teste t e o teste z torna-se muito pequeno quando o tamanho da amostra é grande.\n",
    "\n",
    "Num número muito limitado de casos, podemos conhecer a variância da população; Nesses casos o uso a estatística z é teoricamente correta\n",
    "\n",
    "![](https://s3.us-east-2.amazonaws.com/cbs.pg.repository/img/z_formula2.PNG)"
   ]
  },
  {
   "cell_type": "markdown",
   "metadata": {},
   "source": [
    "## Exemplo (pág.384)\n",
    "\n",
    "Iremos só fazer a questão 2 uma vez que a questão 1 é igual à anterior.\n",
    "\n",
    "Suponhamos que queremos testar se o retorno diário no ACE High Yield Total\n",
    "Index é diferente de zero. Obtendo uma amostra de 1.304 retornos diários,\n",
    "encontramos um retorno médio diário de 0.0157%, com desvio padrão de 0.3157%.\n",
    "\n",
    "**2.** Usando a estatística de teste z-distribuída como uma aproximação, teste se o retorno médio diário é diferente de zero ao nível de 5% de significância.\n",
    "\n",
    " **Passo 1:** Formular a hipótese nula\n",
    "\n",
    " * $H_0$: μ = 0%\n",
    " * $H_a$: μ ≠ 0%\n",
    "\n",
    "(duas caudas)\n",
    "\n",
    "**Passo 2:** Identificar a estatística de teste apropriada\n",
    "\n",
    "Teste de uma média só. Iremos usar a alternativa z.\n",
    "\n",
    "Para nós é a função compute_z_single_mean()\n",
    "\n",
    "**Passo 3:** Especificar o nível de significância\n",
    "\n",
    "$\\alpha$ = 5%\n",
    "\n",
    "(duas caudas)\n",
    "\n",
    "**Passo 4:** Declarar as regras para a nossa decisão\n",
    "\n",
    "Ver quais os valores críticos:\n"
   ]
  },
  {
   "cell_type": "code",
   "execution_count": null,
   "metadata": {},
   "outputs": [],
   "source": [
    "compute_z_critical_region(0.025)"
   ]
  },
  {
   "cell_type": "markdown",
   "metadata": {},
   "source": [
    "A fórmula compute_z_critical_region() já não tem qualquer necessidade de DF. Apenas usa o $\\alpha$ (uma cauda) ou o $\\alpha/2$ (duas caudas).\n",
    "\n",
    "**Passo 5:** Calcular a estatística de teste"
   ]
  },
  {
   "cell_type": "code",
   "execution_count": null,
   "metadata": {},
   "outputs": [],
   "source": [
    "def compute_z_single_mean(sample_mean, expected_mean, std, n):\n",
    "  '''\n",
    "  sample_mean, expected_mean, std, n\n",
    "  '''\n",
    "  return ((sample_mean-expected_mean)/(std/np.sqrt(n)))\n",
    "\n",
    "compute_z_single_mean(sample_mean=0.0157, expected_mean=0, std=0.3157, n=1304)"
   ]
  },
  {
   "cell_type": "markdown",
   "metadata": {},
   "source": [
    "**Passo 6:** Tomar uma decisão"
   ]
  },
  {
   "cell_type": "markdown",
   "metadata": {},
   "source": [
    "## Exemplo (pág.386/387)\n",
    "\n",
    "Continuando o exemplo dos retornos no ACE High Yield Total Return\n",
    "Index, suponhamos que queremos testar se esses retornos são\n",
    "diferentes para dois períodos de tempo diferentes, Período 1 e Período 2.\n",
    "\n",
    "![](https://s3.us-east-2.amazonaws.com/cbs.pg.repository/img/Descriptive_Statistics_for_ACE_High_Yield.PNG)\n",
    "\n",
    " **Passo 1:** Formular a hipótese nula\n",
    "\n",
    " * $H_0$: μ_periodo_1 = μ_periodo_2\n",
    " * $H_a$: μ_periodo_1 $\\neq$ μ_periodo_2\n",
    "\n",
    "(duas caudas)\n",
    "\n",
    "**Passo 2:** Identificar a estatística de teste apropriada\n",
    "\n",
    "Teste de diferenças em médias.\n",
    "\n",
    "Para nós é a função compute_t_diference_in_means() mas um pouco mais complicado pois inclui o cálculo de variância médio:\n",
    "\n",
    "![](https://s3.us-east-2.amazonaws.com/cbs.pg.repository/img/std_p.PNG)\n",
    "\n",
    "ou com a nossa fórmula compute_std_p_from_t_diference_in_means()\n",
    "\n",
    "**Passo 3:** Especificar o nível de significância\n",
    "\n",
    "$\\alpha$ = 5%\n",
    "\n",
    "(duas caudas)\n",
    "\n",
    "**Passo 4:** Declarar as regras para a nossa decisão\n",
    "\n",
    "Ver quais os valores críticos:"
   ]
  },
  {
   "cell_type": "code",
   "execution_count": null,
   "metadata": {},
   "outputs": [],
   "source": [
    "compute_t_critical_region(0.025, 445+859)"
   ]
  },
  {
   "cell_type": "markdown",
   "metadata": {},
   "source": [
    "**Passo 5:** Calcular a estatística de teste"
   ]
  },
  {
   "cell_type": "code",
   "execution_count": null,
   "metadata": {},
   "outputs": [],
   "source": [
    "def compute_t_diference_in_means(mean_1, mean_2, std_p, n_1, n_2):\n",
    "  a = (mean_1-mean_2) - 0\n",
    "  b = np.sqrt((std_p/n_1) + (std_p/n_2))\n",
    "  return a/b\n",
    "\n",
    "def compute_std_p_from_t_diference_in_means(n_1, n_2, std_1, std_2):\n",
    "  a = (n_1-1) * std_1\n",
    "  b=  (n_2-1) * std_2\n",
    "  c = (n_1 + n_2 - 2)\n",
    "  return (a + b) / c"
   ]
  },
  {
   "cell_type": "markdown",
   "metadata": {},
   "source": [
    "A Função compute_std_p_from_t_diference_in_means está a combinar o desvio padrão de duas amostras quando se supõe que é idêntico, como neste caso ser o mesmo activo. Isso serve para podermos calcular o compute_t_diference_in_means para analisarmos se a média entre as amostras é diferente."
   ]
  },
  {
   "cell_type": "code",
   "execution_count": null,
   "metadata": {},
   "outputs": [],
   "source": [
    "compute_std_p_from_t_diference_in_means(n_1=445, n_2=859, std_1=0.31580, std_2=0.38760)"
   ]
  },
  {
   "cell_type": "code",
   "execution_count": null,
   "metadata": {},
   "outputs": [],
   "source": [
    "compute_t_diference_in_means(mean_1=0.01775, mean_2=0.01134, std_p=0.363, n_1=445, n_2=859)"
   ]
  },
  {
   "cell_type": "markdown",
   "metadata": {},
   "source": [
    "**Passo 6:** Tomar uma decisão"
   ]
  },
  {
   "cell_type": "code",
   "execution_count": null,
   "metadata": {},
   "outputs": [],
   "source": [
    "## Exemplo (pág.389)\n",
    "\n",
    "Ao analisar os retornos trimestrais para um período de três anos para dois\n",
    "carteiras geridas activamente especializadas em metais preciosos. As duas carteiras são semelhantes em risco e tinham custos de gestão quase idênticos.\n",
    "\n",
    "Um grande investimento empresa de serviços avaliou o Portfólio B como sendo melhor que Portfólio A.\n",
    "\n",
    "Ao investigar desempenho relativo das carteiras, suponhamos que queremos testar a hipótese de que o retorno trimestral médio da Carteira A é igual ao retorno trimestral médio na Carteira B durante o período de três anos. Uma vez que as duas carteiras compartilham essencialmente o mesmo conjunto de fatores de risco, seus retornos não são independentes, então teste de comparações em par é apropriado. Vamos usar um nível de significância de 10%.\n",
    "\n",
    "\n",
    "**Passo 1:** Formular a hipótese nula\n",
    "\n",
    " * $H_0$: μ = 0%\n",
    " * $H_a$: μ ≠ 0%\n",
    "\n",
    "(duas caudas)\n",
    "\n",
    "**Passo 2:** Identificar a estatística de teste apropriada\n",
    "\n",
    "Para nós é a função compute_t_mean_of_differences()\n",
    "\n",
    "**Passo 3:** Especificar o nível de significância\n",
    "\n",
    "$\\alpha$ = 5%\n",
    "\n",
    "(duas caudas)\n",
    "\n",
    "**Passo 4:** Declarar as regras para a nossa decisão\n",
    "\n",
    "Ver quais os valores críticos:"
   ]
  },
  {
   "cell_type": "code",
   "execution_count": null,
   "metadata": {},
   "outputs": [],
   "source": [
    "compute_t_critical_region(0.05, 11)"
   ]
  },
  {
   "cell_type": "markdown",
   "metadata": {},
   "source": [
    "Porquê 11? A distribuição $t$ funciona, como já vimos, com graus de liberdade (df or degrees of freedom). Os graus de liberdade são iguais a n menos os números de parâmetros a serem avaliados (neste caso 1 porque é uma só diferença de médias).\n",
    "\n",
    "**DICA**: Onde se podem enganar.\n",
    "\n",
    "* Teste de duas caudas ou uma só cauda tem influência no $\\alpha$ a colocar na fórmula.\n",
    "* df nunca é igual a n, ou é n-1 ou n-2 etc etc"
   ]
  },
  {
   "cell_type": "code",
   "execution_count": null,
   "metadata": {},
   "outputs": [],
   "source": [
    "def compute_t_mean_of_differences(mean_dif, std_dif):\n",
    "  return (mean_dif-0) / (std_dif/np.sqrt(12))\n",
    "\n",
    "compute_t_mean_of_differences(mean_dif=4.40083, std_dif=5.47434)"
   ]
  },
  {
   "cell_type": "markdown",
   "metadata": {},
   "source": [
    "**Passo 6:** Tomar uma decisão"
   ]
  },
  {
   "cell_type": "markdown",
   "metadata": {},
   "source": [
    "## S&P 500 vs MSCI World - Médias das diferenças (Exemplo real com output python)"
   ]
  },
  {
   "cell_type": "code",
   "execution_count": null,
   "metadata": {},
   "outputs": [],
   "source": [
    "tickers = ['VT', 'SPY']\n",
    "nomes = tickers\n",
    "ret = download_yahoo_data(tickers, nomes).resample('BM').last().pct_change().dropna()\n",
    "\n",
    "# ret = ret['2020-04':]\n",
    "ret = ret['2013-08':'2018-07']\n",
    "\n",
    "from pingouin import ttest\n",
    "\n",
    "ttest(ret['VT'], ret['SPY'], alternative='two-sided', paired=True)"
   ]
  },
  {
   "cell_type": "markdown",
   "metadata": {},
   "source": [
    "## Outros testes\n",
    "\n",
    "**Teste de uma variância** - Quando queremos por exemplo ver se a variância de um determinado fundo foi abaixo do valor pretendido (exemplo 12 pag. 394)\n",
    "\n",
    "**Testes de diferenças entre variâncias** - Quando queremos por exemplo ver se a variância de uma acção se alterou depois de entrada de regulação (exemplo 13 pag. 398)\n",
    "\n",
    "**Testes de correlação** - Em muitos contextos de investimentos, queremos avaliar a força da relação linear entre duas variáveis; ou seja, queremos avaliar a correlação entre elas. Um teste de significância de um coeficiente de correlação permite-nos avaliar se o relação entre duas variáveis ​​aleatórias é o resultado do acaso."
   ]
  }
 ],
 "metadata": {
  "kernelspec": {
   "display_name": "cbs_pg",
   "language": "python",
   "name": "python3"
  },
  "language_info": {
   "codemirror_mode": {
    "name": "ipython",
    "version": 3
   },
   "file_extension": ".py",
   "mimetype": "text/x-python",
   "name": "python",
   "nbconvert_exporter": "python",
   "pygments_lexer": "ipython3",
   "version": "3.11.6"
  }
 },
 "nbformat": 4,
 "nbformat_minor": 2
}
