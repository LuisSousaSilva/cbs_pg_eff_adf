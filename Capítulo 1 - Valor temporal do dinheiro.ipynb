{
  "cells": [
    {
      "cell_type": "markdown",
      "metadata": {
        "id": "WDWuJEO1JlBz"
      },
      "source": [
        "# Capítulo 1 - Valor temporal do dinheiro\n",
        "\n",
        "## 1 - Spreads, bonds e taxas de juro"
      ]
    },
    {
      "cell_type": "code",
      "execution_count": null,
      "metadata": {},
      "outputs": [],
      "source": [
        "# !pip install -r requirements.txt"
      ]
    },
    {
      "cell_type": "markdown",
      "metadata": {
        "id": "H6fIIj6kBGEY"
      },
      "source": [
        "<div class=\"alert alert-block alert-info\"><b>Exercício 1.1</b> \n",
        "\n",
        "A tabela abaixo fornece informações sobre as taxas de juros para dois investimentos de dois anos e dois de\n",
        "oito anos. A tabela também fornece as características de maturidade, liquidez e risco de default de uma nova\n",
        "possibilidade de investimento (Investimento 3). Todos os investimentos prometem apenas um único pagamento\n",
        "(pagamento na maturidade). Suponha que os prémios relativos à inflação, liquidez e risco de incumprimento\n",
        "são constantes em todos os horizontes temporais.\n",
        "\n",
        "![](https://s3.us-east-2.amazonaws.com/cbs.pg.repository/img/Chapter_1_exercice_1.PNG)\n",
        "\n",
        "Baseado na informação fornecida:\n",
        "\n",
        "A. Explique a diferença entre as taxas de juro do investimento 1 e do investimento 2;\n",
        "\n",
        "B. Estime o prémio de risco de incumprimento;\n",
        "\n",
        "C. Calcule o valor máximo e mínimo da taxa de juro do investimento 3, $r_3$\n",
        "</div>"
      ]
    },
    {
      "cell_type": "markdown",
      "metadata": {
        "id": "j-nDDLpaFEbi"
      },
      "source": [
        "**Resolução**"
      ]
    },
    {
      "cell_type": "markdown",
      "metadata": {
        "id": "OJzc_CSPCTVb"
      },
      "source": [
        "**A.**  A diferença entre o investimento 1 e o investimento 2 é o prémio de liquidez, uma vez que a única\n",
        "diferença entre ambos os investimentos é que o investimento 1 tem uma liquidez alta e o investimento 2 tem\n",
        "baixa liquidez. Uma vez que $r_1$ = 2% e $r_2$=2.5% podemos calcular o prémio de liquidez como sendo 0.5 pontos percentuais.\n",
        "\n",
        "**B** Uma vez que sabemos qual é o prémio de risco de liquidez podemos fazer um hipotético investimento 6 para nos ajudar. O investimento 6 será em tudo semelhante ao investimento 4 excepto no risco de liquidez. $r_4$ será 4.5% (4% + prémio de risco de liquidez).\n",
        "\n",
        "![](https://s3.us-east-2.amazonaws.com/cbs.pg.repository/img/Chapter_1_exercice_1_quadro_2.PNG)\n",
        "\n",
        "Daqui podemos deduzir qual é o prémio de risco de incumprimento uma vez que é a diferença entre $r_5$ e $r_6$, ou seja, 2 pontos percentuais.\n",
        "\n",
        "**C.** Sabemos que o investimento 3 não pode ter uma taxa mais alta que o investimento 6, uma vez que embora o risco de liquidez e de incumprimento seja o mesmo a maturidade do investimento 3 é inferior. Vamos por isso colocar 4.5% como o limite superior.\n",
        "\n",
        "Por outro lado sabemos que o investimento 3 não poderá ter uma taxa mais baixa do que o investimento 2, uma vez que embora o risco de liquidez e de incumprimento seja o mesmo a maturidade do investimento 3 é superior. Vamos por isso colocar 2.5% como o limite inferior.\n",
        "\n",
        "2.5% < $r_3$ < 4.5%"
      ]
    },
    {
      "cell_type": "markdown",
      "metadata": {
        "id": "QfKaXN90DtUL"
      },
      "source": [
        "## 2 - Valor futuro de um cash flow único\n",
        "\n",
        "Nesta secção, introduzimos o valor do tempo associado a um único fluxo de caixa ou montante fixo\n",
        "investimento. Descrevemos a relação entre um investimento inicial ou valor (VP), que ganha uma taxa de retorno (a taxa de juros por período) denotada como r, e o seu valor futuro (VF), que será recebido N anos ou períodos a partir de hoje.\n",
        "\n",
        "**Fórmula a perceber:**\n",
        "\n",
        "$FV = PV \\times (1 + r)^N$\n",
        "\n",
        "Transformando numa fórmula python:"
      ]
    },
    {
      "cell_type": "code",
      "execution_count": 1,
      "metadata": {},
      "outputs": [],
      "source": [
        "def compute_FV_lump_sum(PV, r, N):\n",
        "    '''\n",
        "    FV = Future value / valor futuro\n",
        "    PV = Present value / Valor presente\n",
        "    r = Interest rate rate / Taxa de juro\n",
        "    N = Número de períodos de capitalização\n",
        "    '''\n",
        "    FV = PV * (1+r)**N\n",
        "    return FV"
      ]
    },
    {
      "cell_type": "markdown",
      "metadata": {
        "id": "QRzyORtjD2aY"
      },
      "source": [
        "<div class=\"alert alert-block alert-info\"><b>Exercício 1.2</b>\n",
        "\n",
        "Ganhamos uma lotaria 5 milhões de dólares após impostos. Investimos a totalidade num depósito a prazo de cinco anos no banco. O depósito promete pagar 7% ao ano compostos anualmente. O banco também nos permite reinvestir os juros a essa taxa durante o período. Quanto teremos no final dos cinco anos se o dinheiro permanecer investido a 7%, sem levantamentos?\n",
        "</div>"
      ]
    },
    {
      "cell_type": "markdown",
      "metadata": {
        "id": "GIXvHCvjEXnc"
      },
      "source": [
        "**Resolução**"
      ]
    },
    {
      "cell_type": "code",
      "execution_count": 2,
      "metadata": {
        "colab": {
          "base_uri": "https://localhost:8080/"
        },
        "id": "LMgIZP-GEFeg",
        "outputId": "e128be42-b732-4848-cc73-9cd399f93d9d"
      },
      "outputs": [
        {
          "data": {
            "text/plain": [
              "7012758.653500002"
            ]
          },
          "execution_count": 2,
          "metadata": {},
          "output_type": "execute_result"
        }
      ],
      "source": [
        "def compute_FV_lump_sum(PV, r, N):\n",
        "    '''\n",
        "    FV = Future value / valor futuro\n",
        "    PV = Present value / Valor presente\n",
        "    r = Interest rate rate / Taxa de juro\n",
        "    N = Número de períodos de capitalização\n",
        "    '''\n",
        "    FV = PV * (1+r)**N\n",
        "    return FV\n",
        "\n",
        "FV = compute_FV_lump_sum(PV=5000000, r=0.07, N=5)\n",
        "\n",
        "FV"
      ]
    },
    {
      "cell_type": "markdown",
      "metadata": {
        "id": "YXkUJhugD2fm"
      },
      "source": [
        "### 2.1 - Frequência de capitalização\n",
        "\n",
        "Nesta secção, examinaremos os investimentos que pagam juros mais de uma vez por ano. Por exemplo, muitos\n",
        "bancos oferecem uma taxa de juros mensal que capitaliza de 12 vezes por ano. Neste formato, os bancos pagam\n",
        "juros sobre juros todos os meses. Contudo, em vez de dizerem a taxa de juros mensal periódica, as instituições financeiras costumam citar uma taxa de juros anual. A esta taxa de juros chamamos de *taxa de juros anual declarada* ou *taxa de juros cotada* com notação $r_s$.\n",
        "\n",
        "Por exemplo, um banco pode declarar que um determinado depósito a prazo paga 8% com capitalização mensal. A taxa de juros anual declarada é igual à taxa de juros mensal multiplicada por 12. Neste exemplo, a taxa de juros mensal a taxa é $\\frac{0,08}{12} = 0,0067$  ou 0,67%. Esta taxa é estritamente uma convenção de cotação porque $(1 + 0,0067) \\times 12 = 1,083$, não 1,08; O termo (1 + r) não pretende ser um futuro factor de valor quando a composição é mais frequente do que anual.\n",
        "\n",
        "Quando há mais de um período de capitalização ao ano, a fórmula de valor futuro pode ser expressa por:\n",
        "\n",
        "$FV = PV \\times (1 + \\frac{r_s}{m})^{mN}$\n",
        "\n",
        "sendo $r_s$ a taxa de juro cotada, *m* o número de períodos de capitalização anuais e *N* o número de anos\n",
        "\n",
        "Transformando numa fórmula python:"
      ]
    },
    {
      "cell_type": "code",
      "execution_count": 3,
      "metadata": {},
      "outputs": [],
      "source": [
        "def compute_FV_lump_sum(PV, r, N, m=1):\n",
        "    '''\n",
        "    FV = Future value / valor futuro\n",
        "    PV = Present value / Valor actual\n",
        "    r = Stated rate / Taxa de juro cotada\n",
        "    N = número de anos\n",
        "    m = número de capitalizações anuais\n",
        "    '''\n",
        "    FV = PV * (1+r/m)**(N*m)\n",
        "    return FV"
      ]
    },
    {
      "cell_type": "markdown",
      "metadata": {
        "id": "nEWXpH09EvKI"
      },
      "source": [
        "<div class=\"alert alert-block alert-info\"><b>Exercício 1.3</b>\n",
        "\n",
        "Um banco australiano oferece uma taxa para o depósito a prazo de 6% capitalizados mensalmente. Decidimos\n",
        "investir 1 milhão de dólares australianos por um ano. Qual é o valor futuro do nosso investimento\n",
        "se os pagamentos de juros forem reinvestidos a 6%?\n",
        "\n",
        "</div>"
      ]
    },
    {
      "cell_type": "markdown",
      "metadata": {
        "id": "QwwevA5NGEs_"
      },
      "source": [
        "**Resolução**"
      ]
    },
    {
      "cell_type": "code",
      "execution_count": 4,
      "metadata": {
        "colab": {
          "base_uri": "https://localhost:8080/"
        },
        "id": "pZGZSFgYFP41",
        "outputId": "c0e745de-1892-4b3f-be0d-580f698fc8e4"
      },
      "outputs": [
        {
          "data": {
            "text/plain": [
              "1061677.8118644983"
            ]
          },
          "execution_count": 4,
          "metadata": {},
          "output_type": "execute_result"
        }
      ],
      "source": [
        "def compute_FV_lump_sum(PV, r, N, m=1):\n",
        "    '''\n",
        "    FV = Future value / valor futuro\n",
        "    PV = Present value / Valor actual\n",
        "    r = Stated rate / Taxa de juro cotada\n",
        "    N = número de anos\n",
        "    m = número de capitalizações anuais\n",
        "    '''\n",
        "    FV = PV * (1+r/m)**(N*m)\n",
        "    return FV\n",
        "\n",
        "r = 0.06\n",
        "PV = 1000000\n",
        "N = 1\n",
        "m = 12\n",
        "\n",
        "FV = compute_FV_lump_sum(PV=PV, r=r, N=N, m=m)\n",
        "FV"
      ]
    },
    {
      "cell_type": "code",
      "execution_count": 5,
      "metadata": {
        "colab": {
          "base_uri": "https://localhost:8080/"
        },
        "id": "re4lCI5gBHTM",
        "outputId": "cd9431db-2013-4255-b486-e7b670edf7b7"
      },
      "outputs": [
        {
          "data": {
            "text/plain": [
              "197.99315994393987"
            ]
          },
          "execution_count": 5,
          "metadata": {},
          "output_type": "execute_result"
        }
      ],
      "source": [
        "def compute_FV_lump_sum(PV, r, N, m=1):\n",
        "    '''\n",
        "    FV = Future value / valor futuro\n",
        "    PV = Present value / Valor actual\n",
        "    r = Stated rate / Taxa de juro cotada\n",
        "    N = número de anos\n",
        "    m = número de capitalizações anuais\n",
        "    '''\n",
        "    FV = PV * (1+r/m)**(N*m)\n",
        "    return FV\n",
        "\n",
        "r = 0.10\n",
        "PV = 100\n",
        "N = 7\n",
        "m = 2\n",
        "\n",
        "FV = compute_FV_lump_sum(PV=PV, r=r, N=N, m=m)\n",
        "FV"
      ]
    },
    {
      "cell_type": "markdown",
      "metadata": {
        "id": "DgIfBOJ4FhnO"
      },
      "source": [
        "### 2.2 - Capitalização contínua\n",
        "\n",
        "Se até agora a discussão sobre períodos de capitalização ilustra capitalização discreta, ou seja, os juros\n",
        "após um determinado período de tempo ter decorrido vamos agora tentar perceber a capitalização contínua. Se o\n",
        "número de períodos compostos por ano são infinitos, então os juros são compostos continuamente. Embora não seja algo que vejamos com frequência no dia a dia vai nos ser útil nos próximos capitulos na avaliação de activos.\n",
        "\n",
        "A fórmula de valor futuro com capitalização contínua é:\n",
        "\n",
        "<span style=\"font-size:larger;\">$FV = PV \\times e^{(r \\times N)}$</span>\n",
        "\n",
        "Transformando numa fórmula python:"
      ]
    },
    {
      "cell_type": "code",
      "execution_count": 6,
      "metadata": {},
      "outputs": [],
      "source": [
        "import math\n",
        "\n",
        "def compute_FV_lump_sum_continuous(PV, r, N):\n",
        "    '''\n",
        "    FV = Future value / valor futuro\n",
        "    PV = Present value / Valor actual\n",
        "    r = Stated rate / Taxa de juro cotada\n",
        "    N = número de anos\n",
        "    '''\n",
        "    FV = PV * math.e**(r*N)\n",
        "    return FV"
      ]
    },
    {
      "cell_type": "markdown",
      "metadata": {
        "id": "3weyulZYFnhi"
      },
      "source": [
        "<div class=\"alert alert-block alert-info\"><b>Exercício 1.4</b>\n",
        "\n",
        "Supondo que um investimento de $10.000 renderá 8% compostos continuamente por dois anos. Qual é o valor final do investimento?\n",
        "\n",
        "</div>"
      ]
    },
    {
      "cell_type": "markdown",
      "metadata": {
        "id": "O7Su0dXAGAMo"
      },
      "source": [
        "**Resolução**"
      ]
    },
    {
      "cell_type": "code",
      "execution_count": 7,
      "metadata": {
        "colab": {
          "base_uri": "https://localhost:8080/"
        },
        "id": "i3Ta7UIlFg2H",
        "outputId": "6cdf0c2a-f8e3-4a00-852d-1a400198bb2a"
      },
      "outputs": [
        {
          "name": "stdout",
          "output_type": "stream",
          "text": [
            "Usando capitalização contínua o investimento de 10k irá crescer para 11735.108709918102 no final dos dois anos.\n"
          ]
        }
      ],
      "source": [
        "import math\n",
        "\n",
        "def compute_FV_lump_sum_continuous(PV, r, N):\n",
        "    '''\n",
        "    FV = Future value / valor futuro\n",
        "    PV = Present value / Valor actual\n",
        "    r = Stated rate / Taxa de juro cotada\n",
        "    N = número de anos\n",
        "    '''\n",
        "    FV = PV * math.e**(r*N)\n",
        "    return FV\n",
        "\n",
        "PV = 10000\n",
        "r = 0.08\n",
        "N = 2\n",
        "\n",
        "FV = compute_FV_lump_sum_continuous(PV, r, N)\n",
        "\n",
        "print('Usando capitalização contínua o investimento de 10k irá crescer para ' +\n",
        "str(FV) + ' no final dos dois anos.')"
      ]
    },
    {
      "cell_type": "markdown",
      "metadata": {
        "id": "SRunzQEwGlDV"
      },
      "source": [
        "### 2.3 - Taxas de juro cotadas e efectivas\n",
        "\n",
        "A taxa de juros anual cotada não fornece um valor futuro diretamente, portanto, precisamos de uma fórmula\n",
        "para a EAR (taxa anual efectiva). Com uma taxa de juros anual de 8% capitalizada semestralmente,\n",
        "recebemos uma taxa periódica de 4%. Ao longo de um ano, um investimento de 1€ cresceria para\n",
        "$1 \\times (1,04)^2 =  1,0816$. Os juros ganhos sobre o investimento de 1€ são, por isso 0,0816€ e\n",
        "representa uma taxa de juros anual efetiva de 8,16%. A taxa anual efetiva é calculada da seguinte forma:\n",
        "\n",
        "$EAR = (1 + r/m)^m - 1$\n",
        "\n",
        "onde *r* é taxa de juro cotada, *r/m* é a taxa de juro periódica e *m* o número de capitalizações anuais.\n",
        "\n",
        "Transformando numa fórmula python:"
      ]
    },
    {
      "cell_type": "code",
      "execution_count": 8,
      "metadata": {},
      "outputs": [],
      "source": [
        "def compute_ear(r, m):\n",
        "    '''\n",
        "    FV = Future value / valor futuro\n",
        "    PV = Present value / Valor actual\n",
        "    r = Stated rate / Taxa de juro cotada\n",
        "    m = número de capitalizações anuais\n",
        "    '''\n",
        "    ear = (1 + r/m)**m -1\n",
        "    return ear"
      ]
    },
    {
      "cell_type": "markdown",
      "metadata": {
        "id": "uBe8TD32Gp8_"
      },
      "source": [
        "<div class=\"alert alert-block alert-info\"><b>Exercício 1.5</b>\n",
        "\n",
        "Usando a fórmula acima comprove que uma taxa anual cotada de 8% capitalizada semestralmente tem mesmo uma rentabilidade superior a 8% ao final desse ano. O que acontece se aumentarmos para capitalização trimestral?\n",
        "\n",
        "</div>"
      ]
    },
    {
      "cell_type": "markdown",
      "metadata": {
        "id": "hPVyM4VeGtAX"
      },
      "source": [
        "**Resolução**"
      ]
    },
    {
      "cell_type": "code",
      "execution_count": 9,
      "metadata": {
        "colab": {
          "base_uri": "https://localhost:8080/"
        },
        "id": "L4rvecMqGkhi",
        "outputId": "81456e14-ff3c-4843-de1a-8063dbcb55f1"
      },
      "outputs": [
        {
          "data": {
            "text/plain": [
              "0.08160000000000012"
            ]
          },
          "execution_count": 9,
          "metadata": {},
          "output_type": "execute_result"
        }
      ],
      "source": [
        "def compute_ear(rs, m):\n",
        "    '''\n",
        "    FV = Future value / valor futuro\n",
        "    PV = Present value / Valor actual\n",
        "    rs = Stated rate / Taxa de juro cotada\n",
        "    m = número de capitalizações anuais\n",
        "    '''\n",
        "    ear = (1 + rs/m)**m -1\n",
        "    return ear\n",
        "\n",
        "ear = compute_ear(0.08, 2)\n",
        "\n",
        "ear"
      ]
    },
    {
      "cell_type": "markdown",
      "metadata": {
        "id": "HnE3M_wkHguN"
      },
      "source": [
        "Para uma taxa anual cotada de 8%, se o investimento tiver uma  capitalização semestral a taxa efectiva vai ser de 0.0816 ou 8.16%."
      ]
    },
    {
      "cell_type": "code",
      "execution_count": 10,
      "metadata": {
        "colab": {
          "base_uri": "https://localhost:8080/"
        },
        "id": "YuPJffIoHUD3",
        "outputId": "107cf255-aac7-483a-e9c2-8d27de1648d7"
      },
      "outputs": [
        {
          "data": {
            "text/plain": [
              "0.08243215999999998"
            ]
          },
          "execution_count": 10,
          "metadata": {},
          "output_type": "execute_result"
        }
      ],
      "source": [
        "ear = compute_ear(0.08, 4)\n",
        "ear"
      ]
    },
    {
      "cell_type": "markdown",
      "metadata": {
        "id": "bIvehGSwHW2V"
      },
      "source": [
        "A EAR para uma capitalização trimestral seria de 8.24%. Ou seja, quanto maior o número de capitalizações\n",
        "maior será a EAR."
      ]
    },
    {
      "cell_type": "markdown",
      "metadata": {
        "id": "5Zne3EsGHvjQ"
      },
      "source": [
        "### 2.4 - EAR para capitalização contínua\n",
        "\n",
        "Podemos também transformar uma taxa contínua numa efectiva com a fórmula:\n",
        "\n",
        "$EAR = e^{r_s} -1$\n",
        "\n",
        "Transformando numa fórmula em python:"
      ]
    },
    {
      "cell_type": "code",
      "execution_count": 11,
      "metadata": {},
      "outputs": [],
      "source": [
        "from numpy import log as ln\n",
        "\n",
        "def compute_ear_from_continous(r):\n",
        "    ear = math.e**(r) - 1\n",
        "    return ear"
      ]
    },
    {
      "cell_type": "markdown",
      "metadata": {
        "id": "xT53twrZH5Xb"
      },
      "source": [
        "<div class=\"alert alert-block alert-info\"><b>Exercício 1.6</b>\n",
        "\n",
        "Com base nos dados do exercício 1.5 (taxa de juro anual cotada de 8%) calcule a rentabilidade efectiva caso a capitalização fosse contínua.\n",
        "\n",
        "</div>"
      ]
    },
    {
      "cell_type": "markdown",
      "metadata": {
        "id": "9Hf2VqjUIKK7"
      },
      "source": [
        "**Resolução**"
      ]
    },
    {
      "cell_type": "code",
      "execution_count": 12,
      "metadata": {
        "colab": {
          "base_uri": "https://localhost:8080/"
        },
        "id": "4ca6T4OVHEZh",
        "outputId": "ddaa400a-1c48-488b-d7b2-72843a28018a"
      },
      "outputs": [
        {
          "data": {
            "text/plain": [
              "0.08328706767495864"
            ]
          },
          "execution_count": 12,
          "metadata": {},
          "output_type": "execute_result"
        }
      ],
      "source": [
        "from numpy import log as ln\n",
        "\n",
        "def compute_ear_from_continous(rs):\n",
        "    ear = math.e**(rs) - 1\n",
        "    return ear\n",
        "\n",
        "ear = compute_ear_from_continous(0.08)\n",
        "ear"
      ]
    },
    {
      "cell_type": "markdown",
      "metadata": {
        "id": "kWy3TX98IERV"
      },
      "source": [
        "Para uma taxa anual cotada de 8%, se o investimento tiver uma capitalização contínua a taxa efectiva vai ser de 0.0833"
      ]
    },
    {
      "cell_type": "markdown",
      "metadata": {
        "id": "AUMH7bmhISg4"
      },
      "source": [
        "## 3 - O Valor futuro de uma série de cash flows\n",
        "\n",
        "**Conceitos a saber**\n",
        "\n",
        "- *Anuidade* - é uma série sequencial e finita de cash flows;\n",
        "- *Anuidade ordinária* - Anuidade onde o primeiro cash flow ocorre no final do período 1 (momento 1);\n",
        "- *Anuidade imediata* - Anuidade onde o primeiro cash flow ocorre imediatamente (momento 0);\n",
        "- *Perpetuidade*- É uma anuidade perpétua, ou uma série de pagamentos teóricamente infinitos;"
      ]
    },
    {
      "cell_type": "markdown",
      "metadata": {
        "id": "R0xxL2nPJ1aA"
      },
      "source": [
        "### 3.1 - Cash flows idênticos\n",
        "\n",
        "*Fórmula para uma anuidade ordinária*\n",
        "\n",
        "$FV = A \\times [\\frac{(1+r) ^ {(N)} -1} {{r}}]$\n",
        "\n",
        "Transformando-a numa fórmula python"
      ]
    },
    {
      "cell_type": "code",
      "execution_count": 13,
      "metadata": {},
      "outputs": [],
      "source": [
        "def compute_FV_ordinary_annuity(A, r, N):\n",
        "    FV = A * (((1+r)**N -1) / r)\n",
        "    '''\n",
        "    FV = Future Value\n",
        "    A = Pagamento / cash flow\n",
        "    r = taxa de juro\n",
        "    N = Nr de anos\n",
        "    '''\n",
        "    return FV"
      ]
    },
    {
      "cell_type": "markdown",
      "metadata": {
        "id": "NUm4GjFAJve4"
      },
      "source": [
        "<div class=\"alert alert-block alert-info\"><b>Exercício 1.7</b>\n",
        "\n",
        "Suponha que o vamos investir 20 mil euros por ano no nosso plano de poupança para a reforma. Se assumirmos\n",
        "que a rentabilidade do investimento será de 9% em média nos próximos 30 anos (altura que nos reformamos). Quanto dinheiro teremos quando começarmos a reforma?\n",
        "\n",
        "</div>"
      ]
    },
    {
      "cell_type": "markdown",
      "metadata": {
        "id": "3wR1s99jKpuA"
      },
      "source": [
        "**Resolução**"
      ]
    },
    {
      "cell_type": "code",
      "execution_count": 14,
      "metadata": {
        "colab": {
          "base_uri": "https://localhost:8080/"
        },
        "id": "8MtIfKxKIcBc",
        "outputId": "a5e06033-7748-4367-adff-beebcff4fe07"
      },
      "outputs": [
        {
          "data": {
            "text/plain": [
              "2726150.7709180615"
            ]
          },
          "execution_count": 14,
          "metadata": {},
          "output_type": "execute_result"
        }
      ],
      "source": [
        "def compute_FV_ordinary_annuity(A, r, N):\n",
        "    FV = A * (((1+r)**N -1) / r)\n",
        "    '''\n",
        "    FV = Future Value\n",
        "    A = Pagamento / cash flow\n",
        "    r = taxa de juro\n",
        "    N = Nr de anos\n",
        "    '''\n",
        "    return FV\n",
        "\n",
        "A = 20000\n",
        "r = 0.09\n",
        "N = 30\n",
        "\n",
        "VF = compute_FV_ordinary_annuity(A=A, r=r, N=N)\n",
        "\n",
        "VF"
      ]
    },
    {
      "cell_type": "markdown",
      "metadata": {
        "id": "rvagYhhiJ9a_"
      },
      "source": [
        "Se assumirmos que o investimento tem uma rentabilidade média de 9% ao ano teremos 2,726,150.77 euros quando nos\n",
        "reformarmos."
      ]
    },
    {
      "cell_type": "markdown",
      "metadata": {
        "id": "HI1kPM0CKv5i"
      },
      "source": [
        "### 3.2 - Cash flows desiguais\n",
        "\n",
        "Em muitos casos, os fluxos de caixa são desiguais, impossibilitando o da fórmula anterior. A forma mais directa de abordar isso é calcular o valor furo de cada pagamento e soma-los.\n",
        "\n",
        "Felizmente em python conseguimos fazer isso facilmente através de um *for loop*."
      ]
    },
    {
      "cell_type": "code",
      "execution_count": 15,
      "metadata": {},
      "outputs": [],
      "source": [
        "# Compute Future Value\n",
        "def compute_FV_ordinary_annuity_ucf(cf, r, N, m=1):\n",
        "    '''\n",
        "    ucf = unequal cash flows\n",
        "    cf = série de cash flows\n",
        "    r = taxa de juro\n",
        "    N = Nr de anos\n",
        "    '''\n",
        "    FV_total = 0 # criar uma variável para somar os valores futuros dos cash flows\n",
        "    \n",
        "    for cash_flow in cf: # Para cada cash flow na série de cash flows\n",
        "        N = N - 1\n",
        "        FV = compute_FV_lump_sum(cash_flow, r=r, N=N) # calcular o cash flow\n",
        "        FV_total = FV_total + FV # somar cada valor futuro ao valor total\n",
        "        \n",
        "    return FV_total"
      ]
    },
    {
      "cell_type": "markdown",
      "metadata": {
        "id": "SQp1ZNtdK1qK"
      },
      "source": [
        "<div class=\"alert alert-block alert-info\"><b>Exercício 1.8</b>\n",
        "\n",
        "\n",
        "Se fizermos um investimento com uma rentabilidade anualizada de 5% durante 5 anos, em que os cash flows anuais são 1000 euros no ano 1, 2000 euros no ano 2, 3000 euros no ano 3, 4000 euros no ano 4 e 5000 euros no ano 5 qual o montante que teremos no final do período?\n",
        "\n",
        "</div>"
      ]
    },
    {
      "cell_type": "markdown",
      "metadata": {
        "id": "3bjY0DlkLP2m"
      },
      "source": [
        "**Resolução**"
      ]
    },
    {
      "cell_type": "code",
      "execution_count": 16,
      "metadata": {
        "colab": {
          "base_uri": "https://localhost:8080/"
        },
        "id": "BkZGIDzMKvCb",
        "outputId": "2a885853-26c5-443e-8614-3535f5f999f1"
      },
      "outputs": [
        {
          "name": "stdout",
          "output_type": "stream",
          "text": [
            "16038.25625\n"
          ]
        }
      ],
      "source": [
        "def compute_FV_ordinary_annuity_ucf(cf, r, N, m=1):\n",
        "    '''\n",
        "    ucf = unequal cash flows\n",
        "    cf = série de cash flows\n",
        "    r = taxa de juro\n",
        "    N = Nr de anos\n",
        "    '''\n",
        "    FV_total = 0 # criar uma variável para somar os valores futuros dos cash flows\n",
        "\n",
        "    for cash_flow in cf: # Para cada cash flow na série de cash flows\n",
        "        N = N - 1\n",
        "        FV = compute_FV_lump_sum(cash_flow, r=r, N=N) # calcular o cash flow\n",
        "        FV_total = FV_total + FV # somar cada valor futuro ao valor total\n",
        "\n",
        "    return FV_total\n",
        "\n",
        "VF = compute_FV_ordinary_annuity_ucf([1000, 2000, 3000, 4000, 5000], 0.05, 5)\n",
        "\n",
        "print(VF)"
      ]
    },
    {
      "cell_type": "markdown",
      "metadata": {
        "id": "S3EVrc0cLWjK"
      },
      "source": [
        "## 4 - Valor presente de um cash flow único\n",
        "\n",
        "O valor futuro liga o valor actual com o o valor no futuro, o valor presente permite-nos descontar o valor futuro para o valor presente.\n",
        "\n",
        "Por exemplo, com uma taxa de juros de 5% gerando um retorno futuro de 105 euros num ano, qual valor actual investido a 5% por um ano crescerá para esses 105 euros? A resposta é 100 euros; portanto, 100 euros é o valor presente de 105 euros a ser recebido num ano a uma taxa de desconto de 5%.\n",
        "\n",
        "A fórmula para calcular o valor presente (ou presente value) é:\n",
        "\n",
        "$PV = FV \\times (1+r)^{-N}$\n",
        "\n",
        "Transformando num fórmula python:"
      ]
    },
    {
      "cell_type": "code",
      "execution_count": 17,
      "metadata": {},
      "outputs": [],
      "source": [
        "def compute_PV_lump_sum(FV, r, N):\n",
        "    '''\n",
        "    PV = Present Value\n",
        "    r = taxa de juro\n",
        "    N = Nr de anos/períodos\n",
        "    '''\n",
        "    PV = FV * (1+r)**(-N)\n",
        "    return PV"
      ]
    },
    {
      "cell_type": "markdown",
      "metadata": {
        "id": "XAmJNEDXLdr6"
      },
      "source": [
        "<div class=\"alert alert-block alert-info\"><b>Exercício 1.9</b>\n",
        "\n",
        "\n",
        "Uma companhia de seguros emitiu um Contrato de Investimento Garantido (GIC) que promete pagar 100.000 euros daqui a seis anos com uma taxa de retorno de 8%. Qual a quantia de dinheiro que a seguradora deve investir hoje a 8% por seis anos para realizar o pagamento prometido?\n",
        "\n",
        "</div>"
      ]
    },
    {
      "cell_type": "markdown",
      "metadata": {
        "id": "gdTY5rHxLoDh"
      },
      "source": [
        "**Resolução**"
      ]
    },
    {
      "cell_type": "code",
      "execution_count": 18,
      "metadata": {
        "colab": {
          "base_uri": "https://localhost:8080/"
        },
        "id": "TD5npULRLW3b",
        "outputId": "25da8821-9cfb-4468-a1e8-5649a4ce2e92"
      },
      "outputs": [
        {
          "data": {
            "text/plain": [
              "63016.96268831045"
            ]
          },
          "execution_count": 18,
          "metadata": {},
          "output_type": "execute_result"
        }
      ],
      "source": [
        "def compute_PV_lump_sum(FV, r, N):\n",
        "    '''\n",
        "    PV = Present Value\n",
        "    r = taxa de juro\n",
        "    N = Nr de anos/períodos\n",
        "    '''\n",
        "    PV = FV * (1+r)**(-N)\n",
        "    return PV\n",
        "\n",
        "PV = compute_PV_lump_sum(FV=100000, r=0.08, N=6)\n",
        "\n",
        "PV"
      ]
    },
    {
      "cell_type": "markdown",
      "metadata": {
        "id": "IOiT4AopLmNJ"
      },
      "source": [
        "Se assumirmos que o investimento tem uma rentabilidade média de 8% ao ano a companhia de seguros teria de\n",
        "investir 63,016.96 euros hoje para ter os 100 mil euros daqui a 6 anos."
      ]
    },
    {
      "cell_type": "markdown",
      "metadata": {
        "id": "AmMbu2N6LyRn"
      },
      "source": [
        "<div class=\"alert alert-block alert-info\"><b>Exercício 1.10</b>\n",
        "\n",
        "Um cliente possui um activo financeiro líquido que lhe pagará 100.000 euros daqui a  10 anos. A sua filha planeia frequentar a faculdade daqui a quatro anos, e pretendemos saber qual será o valor presente do activo naquele momento. Dado um taxa de desconto de 8%, quanto valerá o activo daqui a quatro anos? Qual é o valor inicial do investimento?\n",
        "\n",
        "</div>"
      ]
    },
    {
      "cell_type": "markdown",
      "metadata": {
        "id": "yubni6u3BKMU"
      },
      "source": [
        "**Resolução**"
      ]
    },
    {
      "cell_type": "code",
      "execution_count": 19,
      "metadata": {
        "colab": {
          "base_uri": "https://localhost:8080/"
        },
        "id": "09vBorFfLgrr",
        "outputId": "726831fc-f70e-4be4-d87e-8cf5e14a5320"
      },
      "outputs": [
        {
          "data": {
            "text/plain": [
              "63016.96268831045"
            ]
          },
          "execution_count": 19,
          "metadata": {},
          "output_type": "execute_result"
        }
      ],
      "source": [
        "FV=100000\n",
        "N=6\n",
        "r=0.08\n",
        "\n",
        "PV_4 = compute_PV_lump_sum(FV=FV, r=r, N=N)\n",
        "PV_4"
      ]
    },
    {
      "cell_type": "markdown",
      "metadata": {
        "id": "wRYrBoTdL5YN"
      },
      "source": [
        "Se assumirmos que o investimento tem uma rentabilidade média de 8% ao ano o valor inicial terá o valor de 46,319.35.\n",
        "\n",
        "![](https://s3.us-east-2.amazonaws.com/cbs.pg.repository/img/Chapter_1_Image_1.PNG)\n",
        "\n",
        "Este tipo de pensamento \"em passos\" é bastante importante pois uma grande parte dos problemas na vida real têm pelo menos 2 períodos, a fase de acumulação e a fase de distribuição (ex: poupança até à reforma e fase pós-reforma).\n"
      ]
    },
    {
      "cell_type": "markdown",
      "metadata": {
        "id": "TNICoPBeL-A4"
      },
      "source": [
        "### 4.1 - Frequência de capitalização"
      ]
    },
    {
      "cell_type": "markdown",
      "metadata": {
        "id": "mwetSNakMAA-"
      },
      "source": [
        "Tal como a calcular o valor futuro aqui também podemos ter outras frequências de capitalização para além da anual. temos assim que alterar um pouco a nossa fórmula de cálculo para albergar essa possibilidade.\n",
        "\n",
        "$PV = FV \\times (1+\\frac{r_s}{m})^{-mN}$\n",
        "\n",
        "onde:\n",
        "\n",
        "m = número de períodos de capitalização por ano\n",
        "$r_s$ = taxa anual cotada\n",
        "N = número de anos\n",
        "\n",
        "Transformando num fórmula python:"
      ]
    },
    {
      "cell_type": "code",
      "execution_count": 20,
      "metadata": {},
      "outputs": [],
      "source": [
        "def compute_PV_lump_sum(FV, r, N, m=1):\n",
        "    '''\n",
        "    FV = Future Value\n",
        "    r = taxa de juro\n",
        "    N = Nr de anos/períodos\n",
        "    m = 1 para ter capitalização anual por defeito\n",
        "    '''\n",
        "    PV = FV * (1+(r/m))**(-N*m)\n",
        "    return PV"
      ]
    },
    {
      "cell_type": "markdown",
      "metadata": {
        "id": "G4HAoRhUMCqE"
      },
      "source": [
        "<div class=\"alert alert-block alert-info\"><b>Exercício 1.11</b>\n",
        "\n",
        "A administradora de um fundo de pensão no Canadá sabe que o fundo tem de fazer um pagamento único de 5 milhões de dólares canadianos daqui a 10 anos. Ela pretende investir um valor hoje num produto financeiro de forma a que o investimento valorize o necessário. A actual a taxa de juros desse investimento é de 6% ao ano, capitalizada mensalmente. Qual o valor que precisa de investir hoje?\n",
        "\n",
        "</div>"
      ]
    },
    {
      "cell_type": "markdown",
      "metadata": {
        "id": "0gQtCB3vlMHN"
      },
      "source": [
        "**Resolução**"
      ]
    },
    {
      "cell_type": "code",
      "execution_count": 21,
      "metadata": {
        "colab": {
          "base_uri": "https://localhost:8080/"
        },
        "id": "oYeGGHHvL4sL",
        "outputId": "e6dd0f27-3358-45f3-b33e-a508f7a7b339"
      },
      "outputs": [
        {
          "data": {
            "text/plain": [
              "2748163.6668208186"
            ]
          },
          "execution_count": 21,
          "metadata": {},
          "output_type": "execute_result"
        }
      ],
      "source": [
        "def compute_PV_lump_sum(FV, r, N, m=1):\n",
        "    '''\n",
        "    FV = Future Value\n",
        "    rs= taxa de juro\n",
        "    N = Nr de anos/períodos\n",
        "    m = 1 para ter capitalização anual por defeito\n",
        "    '''\n",
        "    PV = FV * (1+(r/m))**(-N*m)\n",
        "    return PV\n",
        "\n",
        "FV=5000000\n",
        "N=10\n",
        "r=0.06\n",
        "m=12\n",
        "\n",
        "PV = compute_PV_lump_sum(FV=FV, N=N, r=r, m=m)\n",
        "PV"
      ]
    },
    {
      "cell_type": "markdown",
      "metadata": {
        "id": "_s4J6AJnMJyW"
      },
      "source": [
        "O investimento inicial precisa de ser 2,748,163.67 dólares canadianos."
      ]
    },
    {
      "cell_type": "markdown",
      "metadata": {
        "id": "OVA0oemWMNvu"
      },
      "source": [
        "## 5 - O valor presente de uma série de cash flows\n",
        "\n",
        "Muitas aplicações na gestão de investimentos envolvem activos que têm uma série de\n",
        "cash flows ao longo do tempo. Nesta secção, discutimos como encontrar o valor presente de um\n",
        "série de cash flows."
      ]
    },
    {
      "cell_type": "markdown",
      "metadata": {
        "id": "S1DwJWg1lYpa"
      },
      "source": [
        "### 5.1 -  Série de cash flows idênticos numa anuidade ordinária\n",
        "\n",
        "![](https://s3.us-east-2.amazonaws.com/cbs.pg.repository/img/Chapter_1_Image_2.PNG)\n",
        "\n",
        "Transformando num fórmula python:"
      ]
    },
    {
      "cell_type": "code",
      "execution_count": 22,
      "metadata": {},
      "outputs": [],
      "source": [
        "def compute_PV_ordinary_annuity(A, r, N):\n",
        "    \n",
        "    # A = Pagamento / cash flow\n",
        "    # r = taxa de juro\n",
        "    # N = Nr. de anos\n",
        "    \n",
        "    PV = A * (1-1/(1+r)**N)/ r\n",
        "    return PV"
      ]
    },
    {
      "cell_type": "markdown",
      "metadata": {
        "id": "XsJ7HakqMQt0"
      },
      "source": [
        "<div class=\"alert alert-block alert-info\"><b>Exercício 1.12</b>\n",
        "\n",
        "Suponhamos que pretendemos comprar um activo financeiro que promete pagar 1.000€ por ano durante cinco anos,\n",
        "com o primeiro pagamento daqui a um ano. A taxa de retorno exigida é de 12% ao ano. Quanto devemos pagar\n",
        "este activo?\n",
        "\n",
        "</div>"
      ]
    },
    {
      "cell_type": "markdown",
      "metadata": {
        "id": "SYGq-2kSlidK"
      },
      "source": [
        "**Resolução**"
      ]
    },
    {
      "cell_type": "code",
      "execution_count": 23,
      "metadata": {
        "colab": {
          "base_uri": "https://localhost:8080/"
        },
        "id": "rtZ_ArM-MIVS",
        "outputId": "6971851b-f8c5-466f-821f-a4c65983af00"
      },
      "outputs": [
        {
          "data": {
            "text/plain": [
              "3604.776202345007"
            ]
          },
          "execution_count": 23,
          "metadata": {},
          "output_type": "execute_result"
        }
      ],
      "source": [
        "def compute_PV_ordinary_annuity(A, r, N):\n",
        "\n",
        "    # A = Pagamento / cash flow\n",
        "    # r = taxa de juro\n",
        "    # N = Nr. de anos\n",
        "\n",
        "    PV = A * (1-1/(1+r)**N)/ r\n",
        "    return PV\n",
        "\n",
        "A = 1000\n",
        "r = 0.12\n",
        "N = 5\n",
        "\n",
        "PV = compute_PV_ordinary_annuity(A=A, r=r, N=N)\n",
        "PV"
      ]
    },
    {
      "cell_type": "markdown",
      "metadata": {
        "id": "_qZwKh-8lzUt"
      },
      "source": [
        "O valor que devemos pagar pelo activo não deve ser superior a 3604,78 euros."
      ]
    },
    {
      "cell_type": "markdown",
      "metadata": {
        "id": "zcf-e534MeeB"
      },
      "source": [
        "<div class=\"alert alert-block alert-info\"><b>Exercício 1.13</b>\n",
        "\n",
        "Um gestor de fundo de pensões alemão antecipa que terá de pagar de reformas no valor de 1 milhões de euros por ano. Contudo as reformas apenas ocorrerão daqui a 10 anos a partir de agora (no tempo t = 10). Assim que as reformas começarem a ser pagas, elas irão se estender no tempo até t = 39, totalizando 30 pagamentos. Qual é o valor presente do passivo se a taxa de desconto anual apropriada é de 5% capitalizada anualmente?\n",
        "\n",
        "</div>"
      ]
    },
    {
      "cell_type": "markdown",
      "metadata": {
        "id": "aP6656LCMjPo"
      },
      "source": [
        "**Resolução**"
      ]
    },
    {
      "cell_type": "markdown",
      "metadata": {
        "id": "QnIRb0bIMmNe"
      },
      "source": [
        "Este exercício é muito semelhante ao que poderíamos fazer para um investidor comum com duas fases de investimento. Uma fase de poupança (embora neste caso sem reforços mas apenas com um investimento inicial), e posteriormente uma fase de desinvestimento, neste caso literalmente reformas.\n",
        "\n",
        "Calcular valor no final do momento 9/início do momento 10:\n"
      ]
    },
    {
      "cell_type": "code",
      "execution_count": 24,
      "metadata": {
        "id": "OnDY9VL_MWn7"
      },
      "outputs": [],
      "source": [
        "PV_9 = compute_PV_ordinary_annuity(1000000, 0.05, 30)"
      ]
    },
    {
      "cell_type": "markdown",
      "metadata": {
        "id": "XCclyo9pMrBM"
      },
      "source": [
        "O fundo de pensões precisa de 15.372.451,03 no final do ano 9/início do ano 10.\n",
        "\n",
        "Calcular agora qual o montante inicial que seria preciso investir:"
      ]
    },
    {
      "cell_type": "code",
      "execution_count": 25,
      "metadata": {
        "id": "FrO6FzXyMcfT"
      },
      "outputs": [],
      "source": [
        "PV_0 = compute_PV_lump_sum(PV_9, 0.05, 9)"
      ]
    },
    {
      "cell_type": "markdown",
      "metadata": {
        "id": "dkYXW4pFMwK4"
      },
      "source": [
        "O fundo de pensões teria de investir 9.909.219 euros no momento 0.\n",
        "\n",
        "Porquê PV_9 e não PV_10? Porque o pagamento é no final do ano/período. O diagrama temporal é muito útil na compreensão:\n",
        "\n",
        "![O valor presente de uma anuidade ordinária com o primeiro pagamento em t=10 (valores em milhões)](https://s3.us-east-2.amazonaws.com/cbs.pg.repository/img/Chapter_1_figure_7.PNG)\n"
      ]
    },
    {
      "cell_type": "markdown",
      "metadata": {
        "id": "WbCMmLAZmJzi"
      },
      "source": []
    },
    {
      "cell_type": "markdown",
      "metadata": {
        "id": "2VQoq7BCmbuU"
      },
      "source": [
        "### 5.2 - Série de cash flows idênticos numa anuidade imediata\n",
        "\n",
        "\n",
        "\n"
      ]
    },
    {
      "cell_type": "markdown",
      "metadata": {
        "id": "g2uBpgHjmbw2"
      },
      "source": [
        "Fórmula a saber:\n",
        "\n",
        "![](https://s3.us-east-2.amazonaws.com/cbs.pg.repository/img/Chapter_1_annuity_due_formula.PNG)\n",
        "\n",
        "Transformando em fórmula Python"
      ]
    },
    {
      "cell_type": "code",
      "execution_count": 26,
      "metadata": {},
      "outputs": [],
      "source": [
        "def compute_annuity_due(A, r, N):\n",
        "    PV = (A * ((1-(1+r)**-N)) / r) * (1+r)\n",
        "    return PV"
      ]
    },
    {
      "cell_type": "markdown",
      "metadata": {
        "id": "aze_TZWjMzCP"
      },
      "source": [
        "<div class=\"alert alert-block alert-info\"><b>Exercício 1.14</b>\n",
        "\n",
        "Vamo-nos reformar hoje e o director do fundo de aposentações da nossa empresa apresentou-nos duas alternativas:\n",
        "um montante fixo imediato de 2 milhões euros ou uma anuidade com 20 pagamentos de 200.000 euros por\n",
        "ano com o primeiro pagamento a partir de hoje. A taxa de juros de desconto banco é de 7%\n",
        "por ano composto anualmente (porque hipoteticamente poderíamos investir num activo com essa rentabilidade). Qual opção tem o maior valor presente? (Ignorar quaisquer diferenças fiscais entre as duas opções.)\n",
        "\n",
        "</div>"
      ]
    },
    {
      "cell_type": "markdown",
      "metadata": {
        "id": "ABipyq5jM19r"
      },
      "source": [
        "**Resolução**"
      ]
    },
    {
      "cell_type": "markdown",
      "metadata": {
        "id": "-zHGlShBM5si"
      },
      "source": [
        "A questão aqui é descobrir se o valor presente de uma anuidade imediata com 20 pagamentos de 200 mil euros a uma taxa de desconto de 7% tem um valor presente superior a 2 milhões de euros."
      ]
    },
    {
      "cell_type": "code",
      "execution_count": 27,
      "metadata": {
        "colab": {
          "base_uri": "https://localhost:8080/"
        },
        "id": "7XcWZqKMMuAa",
        "outputId": "3147baa8-028a-47e8-bdf5-49013494c841"
      },
      "outputs": [
        {
          "data": {
            "text/plain": [
              "2267119.0485404595"
            ]
          },
          "execution_count": 27,
          "metadata": {},
          "output_type": "execute_result"
        }
      ],
      "source": [
        "def compute_annuity_due(A, r, N):\n",
        "    PV = (A * ((1-(1+r)**-N)) / r) * (1+r)\n",
        "    return PV\n",
        "\n",
        "A = 200000\n",
        "r = 0.07\n",
        "N = 20\n",
        "\n",
        "PV = compute_annuity_due(A, r, N)\n",
        "PV"
      ]
    },
    {
      "cell_type": "markdown",
      "metadata": {
        "id": "n2X0qRA65kOI"
      },
      "source": [
        "O Valor Presente da anuidade imediata é de 2.267.119 euros, pelo que é a opção mais vantajosa"
      ]
    },
    {
      "cell_type": "markdown",
      "metadata": {
        "id": "CZgawGpc54BE"
      },
      "source": [
        "### 5.3 - Série de cash flows infinita (perpetuidade)\n",
        "\n",
        "Fórmula a saber:\n",
        "\n",
        "$PV = \\LARGE\\frac{A}{{r}}$\n",
        "\n",
        "Transformando em fórmula Python:"
      ]
    },
    {
      "cell_type": "code",
      "execution_count": 28,
      "metadata": {},
      "outputs": [],
      "source": [
        "def compute_PV_perpetuity(A, r):\n",
        "    return A/r"
      ]
    },
    {
      "cell_type": "markdown",
      "metadata": {
        "id": "XT7wKbOa7sYX"
      },
      "source": [
        "<div class=\"alert alert-block alert-info\"><b>Exercício 1.15</b>\n",
        "\n",
        "O governo britânico emitiu uma obrigação perpétua, que prometeu pagar um fluxo de caixa nivelado indefinidamente. Se esta obrigação pagar £ 100 por ano para a perpetuidade, o que valeria hoje se a taxa de retorno exigida fosse 5 por cento?\n",
        "\n",
        "</div>"
      ]
    },
    {
      "cell_type": "markdown",
      "metadata": {
        "id": "q_LDxW7v7LQ5"
      },
      "source": [
        "**Resolução**"
      ]
    },
    {
      "cell_type": "code",
      "execution_count": 29,
      "metadata": {
        "colab": {
          "base_uri": "https://localhost:8080/"
        },
        "id": "pB7p_hFJM8ci",
        "outputId": "d8f0e714-e27d-463d-bc08-0da9c5cf7f00"
      },
      "outputs": [
        {
          "data": {
            "text/plain": [
              "2000.0"
            ]
          },
          "execution_count": 29,
          "metadata": {},
          "output_type": "execute_result"
        }
      ],
      "source": [
        "def compute_PV_perpetuity(A, r):\n",
        "    return A/r\n",
        "\n",
        "A = 100\n",
        "r = 0.05\n",
        "\n",
        "PV = compute_PV_perpetuity(A, r)\n",
        "\n",
        "PV"
      ]
    },
    {
      "cell_type": "markdown",
      "metadata": {
        "id": "Oaq-z2Xi7-zy"
      },
      "source": [
        "A obrigação valeria 2,000 libras."
      ]
    },
    {
      "cell_type": "markdown",
      "metadata": {
        "id": "ZifjyqJf8EJy"
      },
      "source": [
        "### 5.4 - Valores presentes indexados a outros momentos que não o momento **0**"
      ]
    },
    {
      "cell_type": "markdown",
      "metadata": {
        "id": "VtYgRq-p8OP-"
      },
      "source": [
        "<div class=\"alert alert-block alert-info\"><b>Exercício 1.16</b>\n",
        "\n",
        "Consideremos a mesma obrigação perpétua do exercício anterior (com pagamentos anuais de £ 100). Mas o primeiro pagamento começa apenas em t = 5. Qual é seu valor presente hoje (em t = 0), dada uma taxa de desconto de 5%?\n",
        "\n",
        "</div>"
      ]
    },
    {
      "cell_type": "markdown",
      "metadata": {
        "id": "FDF09L_9ApYj"
      },
      "source": [
        "**Resolução**"
      ]
    },
    {
      "cell_type": "code",
      "execution_count": 30,
      "metadata": {
        "colab": {
          "base_uri": "https://localhost:8080/"
        },
        "id": "bS2DDVam7Y9C",
        "outputId": "0c258652-c583-47bd-d847-7351a0b58569"
      },
      "outputs": [
        {
          "data": {
            "text/plain": [
              "2000.0"
            ]
          },
          "execution_count": 30,
          "metadata": {},
          "output_type": "execute_result"
        }
      ],
      "source": [
        "A = 100\n",
        "r = 0.05\n",
        "\n",
        "PV_4 = compute_PV_perpetuity(A, r)\n",
        "\n",
        "PV_4\n"
      ]
    },
    {
      "cell_type": "markdown",
      "metadata": {
        "id": "yz-4-sca8Zw2"
      },
      "source": [
        "A obrigação valeria 2,000 libras em t = 5.\n",
        "\n",
        "Actualizando para t = 0.\n",
        "\n",
        "Lembrem-se de que uma perpetuidade ou uma anuidade ordinária tem o sua primeiro pagamento a um período de distância, explicando o índice t = 4 para nosso cálculo de valor presente."
      ]
    },
    {
      "cell_type": "code",
      "execution_count": 31,
      "metadata": {
        "colab": {
          "base_uri": "https://localhost:8080/"
        },
        "id": "ly371msv8Vth",
        "outputId": "8ccfe440-15b5-4e6f-f64c-86f8b8e2db36"
      },
      "outputs": [
        {
          "data": {
            "text/plain": [
              "1645.4049495837637"
            ]
          },
          "execution_count": 31,
          "metadata": {},
          "output_type": "execute_result"
        }
      ],
      "source": [
        "PV_0 = compute_PV_lump_sum(FV=PV_4, N=4, r=0.05)\n",
        "\n",
        "PV_0"
      ]
    },
    {
      "cell_type": "markdown",
      "metadata": {
        "id": "6P_yLDQ78eXz"
      },
      "source": [
        "A obrigação valeria 1,645 libras em t = 0."
      ]
    },
    {
      "cell_type": "markdown",
      "metadata": {
        "id": "OhTImTll8o_W"
      },
      "source": [
        "\n",
        "---\n",
        "## 6 - Descobrir taxas, números de períodos ou tamanho dos pagamentos das anuidade\n",
        "\n",
        "\n",
        "Nos exemplo anteriores algumas informações foram fornecidas mas na realidade podemos ou ter de as calcular ou queremos calcular outros valores."
      ]
    },
    {
      "cell_type": "markdown",
      "metadata": {
        "id": "beyLvRuS802n"
      },
      "source": [
        "### 6.1 - Taxas de juro e/ou de crescimento\n",
        "\n",
        "**Fórmula a saber**\n",
        "\n",
        "$g = (\\LARGE\\frac{FV}{PV})^ {\\frac{1}{N}} -1$\n",
        "\n",
        "Transformando numa fórmula python:"
      ]
    },
    {
      "cell_type": "code",
      "execution_count": 32,
      "metadata": {},
      "outputs": [],
      "source": [
        "def compute_g(FV, PV, N):\n",
        "    g = ((FV/PV)**(1/N))-1\n",
        "    return g"
      ]
    },
    {
      "cell_type": "markdown",
      "metadata": {
        "id": "5wot3AdA89of"
      },
      "source": [
        "<div class=\"alert alert-block alert-info\"><b>Exercício 1.17</b>\n",
        "\n",
        "Sabendo que o nosso investimento subiu de 100 mil euros para 246 mil em 10 anos. Qual foi a taxa de crescimento anualizada?\n",
        "\n",
        "</div>"
      ]
    },
    {
      "cell_type": "markdown",
      "metadata": {
        "id": "x4oYjuso8_3e"
      },
      "source": [
        "**Resolução**"
      ]
    },
    {
      "cell_type": "code",
      "execution_count": 33,
      "metadata": {
        "colab": {
          "base_uri": "https://localhost:8080/"
        },
        "id": "g_ABmzpZ8bRZ",
        "outputId": "15493651-d9dc-4589-f5c7-43ac498e9582"
      },
      "outputs": [
        {
          "data": {
            "text/plain": [
              "0.09419193834360873"
            ]
          },
          "execution_count": 33,
          "metadata": {},
          "output_type": "execute_result"
        }
      ],
      "source": [
        "def compute_g(FV, PV, N):\n",
        "    g = ((FV/PV)**(1/N))-1\n",
        "    return g\n",
        "\n",
        "FV = 246\n",
        "PV = 100\n",
        "N = 10\n",
        "\n",
        "g = compute_g(FV, PV, N)\n",
        "\n",
        "g"
      ]
    },
    {
      "cell_type": "markdown",
      "metadata": {
        "id": "D70XiFp_9a1t"
      },
      "source": [
        "A taxa anualizada do investimento foi de 0.09419, ou seja, 9.42%."
      ]
    },
    {
      "cell_type": "markdown",
      "metadata": {
        "id": "LOHDSXAt9YyK"
      },
      "source": [
        "### 6.2 - Número de períodos\n",
        "\n",
        "**Fórmula a saber**\n",
        "\n",
        "$\\LARGE\\frac{ln(\\frac{FV}{PV})}{ln(1 + r)}$\n",
        "\n",
        "Transformando numa fórmula python:"
      ]
    },
    {
      "cell_type": "code",
      "execution_count": 34,
      "metadata": {},
      "outputs": [],
      "source": [
        "from numpy import log as ln\n",
        "\n",
        "def compute_N(FV, PV, r):\n",
        "    N = ln(FV/PV) / ln(1+r)\n",
        "    return N"
      ]
    },
    {
      "cell_type": "markdown",
      "metadata": {
        "id": "GFU_nU2kEYW9"
      },
      "source": [
        "<div class=\"alert alert-block alert-info\"><b>Exercício 1.18</b>\n",
        "\n",
        "\n",
        "Queremos determinar quanto tempo levará um investimento de 10.000 € a duplicar em valor. A taxa de juros actual é de 7% compostos anualmente. Quantos anos levarão os 10 mil euros a duplicar para 20 mil?\n",
        "\n",
        "</div>"
      ]
    },
    {
      "cell_type": "code",
      "execution_count": 35,
      "metadata": {
        "colab": {
          "base_uri": "https://localhost:8080/"
        },
        "id": "KTihYNXp8uKx",
        "outputId": "8edd03f1-1f92-4dcb-b279-77d2e6c5ff71"
      },
      "outputs": [
        {
          "data": {
            "text/plain": [
              "10.244768351058712"
            ]
          },
          "execution_count": 35,
          "metadata": {},
          "output_type": "execute_result"
        }
      ],
      "source": [
        "from numpy import log as ln\n",
        "\n",
        "def compute_N(FV, PV, r):\n",
        "    N = ln(FV/PV) / ln(1+r)\n",
        "    return N\n",
        "\n",
        "PV = 10000000\n",
        "FV = PV * 2\n",
        "r = 0.07\n",
        "\n",
        "N = compute_N(FV, PV, r)\n",
        "\n",
        "N"
      ]
    },
    {
      "cell_type": "markdown",
      "metadata": {
        "id": "TVZIa1q_-mWq"
      },
      "source": [
        "Um investimento a valorizar a uma taxa de 7% anualizados vai demorar 10.24 anos a duplicar."
      ]
    },
    {
      "cell_type": "markdown",
      "metadata": {
        "id": "IODsyYjf-313"
      },
      "source": [
        "### 6.3 - Valor dos pagamentos\n",
        "\n",
        "**Fórmula a saber**\n",
        "\n",
        "![](https://s3.us-east-2.amazonaws.com/cbs.pg.repository/img/Chapter_1_Image_3.PNG)\n",
        "\n",
        "![](https://s3.us-east-2.amazonaws.com/cbs.pg.repository/img/Chapter_1_Image_4.PNG)\n",
        "\n",
        "Transformando numa fórmula python:"
      ]
    },
    {
      "cell_type": "code",
      "execution_count": 36,
      "metadata": {},
      "outputs": [],
      "source": [
        "def compute_A(PV, r, N, m=1):\n",
        "    PVAF = (1-1/(1+(r/m))**(m*N))/(r/m)\n",
        "    A=PV/PVAF\n",
        "    return A"
      ]
    },
    {
      "cell_type": "markdown",
      "metadata": {
        "id": "xDAo9gH3-9zs"
      },
      "source": [
        "<div class=\"alert alert-block alert-info\"><b>Exercício 1.19</b>\n",
        "\n",
        "Estamos a planear comprar uma casa por 120 mil euros fazendo um pagamento inicial de 20 mil. O montante\n",
        "restante será um empréstimo hipotecário de taxa fica a 30 anos com pagamentos anuais e primeiro pagamento\n",
        "em t = 1. As taxas de juro hipotecárias, para um crédito de taxa fixa a 30 anos é 8%/ano com capitalização\n",
        "mensal. Qual será o pagamento mensal que teremos de efectuar?\n",
        "\n",
        "</div>"
      ]
    },
    {
      "cell_type": "markdown",
      "metadata": {
        "id": "x26CY98Q-_jv"
      },
      "source": [
        "**Resolução**"
      ]
    },
    {
      "cell_type": "code",
      "execution_count": 37,
      "metadata": {
        "colab": {
          "base_uri": "https://localhost:8080/"
        },
        "id": "ImPiMn-t_MZ-",
        "outputId": "61f0a6a7-a3a5-4606-81ba-d7ec2c9f9b2a"
      },
      "outputs": [
        {
          "data": {
            "text/plain": [
              "733.764573879378"
            ]
          },
          "execution_count": 37,
          "metadata": {},
          "output_type": "execute_result"
        }
      ],
      "source": [
        "def compute_A(PV, rs, N, m=1):\n",
        "    PVAF = (1-1/(1+(rs/m))**(m*N))/(rs/m)\n",
        "    A=PV/PVAF\n",
        "    return A\n",
        "\n",
        "PV=100000\n",
        "rs=0.08\n",
        "m=12\n",
        "N=30\n",
        "\n",
        "A = compute_A(PV=PV, rs=rs, N=N, m=m)\n",
        "A"
      ]
    },
    {
      "cell_type": "markdown",
      "metadata": {
        "id": "-jPbFqXe_KaV"
      },
      "source": [
        "Teremos um pagamento mensal de 733.76."
      ]
    },
    {
      "cell_type": "markdown",
      "metadata": {
        "id": "cUXSE5qd_U6h"
      },
      "source": [
        "### 6.4 - Montantes de poupança\n"
      ]
    },
    {
      "cell_type": "markdown",
      "metadata": {
        "id": "5peVXIAuAI1H"
      },
      "source": [
        "Para calcular a poupança anual necessária usaremos uma fórmula python (também disponível em calculadora/excel)."
      ]
    },
    {
      "cell_type": "code",
      "execution_count": 38,
      "metadata": {},
      "outputs": [],
      "source": [
        "import numpy_financial as npf\n",
        "\n",
        "def compute_pmt(FV, r, N):\n",
        "    pmt = npf.pmt(rate=r, nper=N, fv=FV, pv=0)\n",
        "    return pmt"
      ]
    },
    {
      "cell_type": "markdown",
      "metadata": {
        "id": "eaxI0TwP_pD2"
      },
      "source": [
        "<div class=\"alert alert-block alert-info\"><b>Exercício 1.20</b>\n",
        "Um cliente planeia enviar o filho para a faculdade por quatro anos, 18 anos a partir de hoje. Tendo reservado dinheiro para as mensalidades decide planear os custos com estadia também. Ele estima esses custos em 20.000 euros por ano, com pagamento no início de cada ano, assim que o seu filho for para a faculdade. Se o cliente começar no próximo ano e fizer 17 pagamentos numa conta poupança com uma rentabilidade de\n",
        "5% ao ano, que pagamentos anuais ela deve fazer?\n",
        "\n",
        "</div>"
      ]
    },
    {
      "cell_type": "markdown",
      "metadata": {
        "id": "Djfuvlu5_gPu"
      },
      "source": [
        "**Resolução**"
      ]
    },
    {
      "cell_type": "markdown",
      "metadata": {
        "id": "88QgIvOV_xzu"
      },
      "source": [
        "Calculando o valor total que terá de ter no final do ano 17."
      ]
    },
    {
      "cell_type": "code",
      "execution_count": 39,
      "metadata": {
        "colab": {
          "base_uri": "https://localhost:8080/"
        },
        "id": "gvyjQG0V-Yx5",
        "outputId": "5ff38c22-36e9-4950-e725-0f3905cf639c"
      },
      "outputs": [
        {
          "data": {
            "text/plain": [
              "70919.01008324725"
            ]
          },
          "execution_count": 39,
          "metadata": {},
          "output_type": "execute_result"
        }
      ],
      "source": [
        "import numpy_financial as npf\n",
        "\n",
        "def compute_pmt(FV, rs, N):\n",
        "    pmt = npf.pmt(rate=rs, nper=N, fv=FV, pv=0)\n",
        "    return pmt\n",
        "\n",
        "PV_17 = compute_PV_ordinary_annuity(A=20000, r=0.05, N=4)\n",
        "PV_17"
      ]
    },
    {
      "cell_type": "code",
      "execution_count": 40,
      "metadata": {
        "colab": {
          "base_uri": "https://localhost:8080/"
        },
        "id": "EUw8Cdl1AX-9",
        "outputId": "62ac68b4-e923-4c4f-9a62-9328c9872d8b"
      },
      "outputs": [
        {
          "data": {
            "text/plain": [
              "-2744.50482265409"
            ]
          },
          "execution_count": 40,
          "metadata": {},
          "output_type": "execute_result"
        }
      ],
      "source": [
        "import numpy_financial as npf\n",
        "\n",
        "def compute_pmt(FV, rs, N):\n",
        "    pmt = npf.pmt(rate=rs, nper=N, fv=FV, pv=0)\n",
        "    return pmt\n",
        "\n",
        "pmt = compute_pmt(FV=PV_17, rs=0.05, N=17)\n",
        "pmt"
      ]
    },
    {
      "cell_type": "markdown",
      "metadata": {
        "id": "zzsXOkJYAd31"
      },
      "source": [
        "O cliente terá poupar -2,744.5 euros por ano."
      ]
    }
  ],
  "metadata": {
    "colab": {
      "provenance": []
    },
    "kernelspec": {
      "display_name": "Python 3",
      "name": "python3"
    },
    "language_info": {
      "codemirror_mode": {
        "name": "ipython",
        "version": 3
      },
      "file_extension": ".py",
      "mimetype": "text/x-python",
      "name": "python",
      "nbconvert_exporter": "python",
      "pygments_lexer": "ipython3",
      "version": "3.10.12"
    }
  },
  "nbformat": 4,
  "nbformat_minor": 0
}
