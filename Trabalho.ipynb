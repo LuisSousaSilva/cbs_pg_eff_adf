{
 "cells": [
  {
   "cell_type": "markdown",
   "metadata": {},
   "source": [
    "# Trabalho: Um dia no papel de um analista de dados financeiros\n",
    "\n",
    "## Pedido do Cliente\n",
    "\n",
    "Um cliente questionou-nos se tem sido mais vantajoso investir no MSCI World ou no S&P 500, durante a última década (vamos imaginar inicialmente um período de 2011-12-30 a 2021-12-30).\n",
    "\n",
    "Pediu um gráfico onde pudesse ver isso mas também a taxa de crescimento de cada investimento.\n",
    "\n",
    "Pediu também que analisássemos o Lyxor Euro Government Bond 15+Y (DR) que é de obrigações governamentais europeis de muito longo prazo.\n",
    "\n",
    "No fim pediu-nos uma opinião sobre a combinação de dois fundos que neste período analisado trouxeram maior diversificação e quais os dois ETFs que deveria usar na criação da sua carteira diversificada.\n",
    "\n",
    "## O que vamos precisar de fazer\n",
    "\n",
    "1) Faça um gráfico de linhas comparativo entre:\n",
    "\n",
    "- CSPX.AS (S&P 500 UCITS ETF)\n",
    "- IWDA.AS (MSCI World UCITS ETF)\n",
    "- LYXF.F (Lyxor Euro Government Bond 15+Y)\n",
    "\n",
    "desde 2011-12-30 até 2021-12-31\n",
    "\n",
    "2) Faça um gráfico de dispersão para cada 3 dos pares. Qual é a conclusão a que chegamos?\n",
    "\n",
    "3) Faça um map de calor das correlações. Confirmou as suas suspeitas?\n",
    "\n",
    "4) Qual é o g (crescimento) de cada ETF nestes 10 anos? O que é que isto representa?\n",
    "\n",
    "5) Com a fórmula compute_FV_lump_sum() confirme os dados do g.\n",
    "\n",
    "6) Actualize a análise para o dia de hoje.\n",
    "\n",
    "7) Vamos para além do que o cliente pediu e vamos fazer um gráfico de barras com os retornos anuais. É um informação útil e o cliente vai ficar satisfeito."
   ]
  }
 ],
 "metadata": {
  "kernelspec": {
   "display_name": "Python 3",
   "language": "python",
   "name": "python3"
  },
  "language_info": {
   "codemirror_mode": {
    "name": "ipython",
    "version": 3
   },
   "file_extension": ".py",
   "mimetype": "text/x-python",
   "name": "python",
   "nbconvert_exporter": "python",
   "pygments_lexer": "ipython3",
   "version": "3.11.3"
  }
 },
 "nbformat": 4,
 "nbformat_minor": 2
}
