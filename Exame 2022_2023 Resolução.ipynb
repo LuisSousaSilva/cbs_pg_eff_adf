{
  "cells": [
    {
      "cell_type": "markdown",
      "metadata": {},
      "source": [
        "# Exame 2022/2023 (com resolução)"
      ]
    },
    {
      "cell_type": "code",
      "execution_count": null,
      "metadata": {
        "colab": {
          "base_uri": "https://localhost:8080/",
          "height": 171
        },
        "id": "4r_tpsTUklcT",
        "outputId": "c2e9801b-d766-4dda-879a-2bb86c01573b"
      },
      "outputs": [
        {
          "name": "stderr",
          "output_type": "stream",
          "text": [
            "WARNING: pip is being invoked by an old script wrapper. This will fail in a future version of pip.\n",
            "Please see https://github.com/pypa/pip/issues/5599 for advice on fixing the underlying issue.\n",
            "To avoid this problem you can invoke Python with '-m pip' instead of running pip directly.\n"
          ]
        },
        {
          "data": {
            "text/html": [
              "<pre style=\"white-space:pre;overflow-x:auto;line-height:normal;font-family:Menlo,'DejaVu Sans Mono',consolas,'Courier New',monospace\">Looking in indexes: https://pypi.org/simple, https://us-python.pkg.dev/colab-wheels/public/simple/\n",
              "</pre>\n"
            ],
            "text/plain": [
              "Looking in indexes: https://pypi.org/simple, https://us-python.pkg.dev/colab-wheels/public/simple/\n"
            ]
          },
          "metadata": {},
          "output_type": "display_data"
        },
        {
          "data": {
            "text/html": [
              "<pre style=\"white-space:pre;overflow-x:auto;line-height:normal;font-family:Menlo,'DejaVu Sans Mono',consolas,'Courier New',monospace\">Collecting numpy_financial\n",
              "</pre>\n"
            ],
            "text/plain": [
              "Collecting numpy_financial\n"
            ]
          },
          "metadata": {},
          "output_type": "display_data"
        },
        {
          "data": {
            "text/html": [
              "<pre style=\"white-space:pre;overflow-x:auto;line-height:normal;font-family:Menlo,'DejaVu Sans Mono',consolas,'Courier New',monospace\">  Downloading numpy_financial-1.0.0-py3-none-any.whl (14 kB)\n",
              "</pre>\n"
            ],
            "text/plain": [
              "  Downloading numpy_financial-1.0.0-py3-none-any.whl (14 kB)\n"
            ]
          },
          "metadata": {},
          "output_type": "display_data"
        },
        {
          "data": {
            "text/html": [
              "<pre style=\"white-space:pre;overflow-x:auto;line-height:normal;font-family:Menlo,'DejaVu Sans Mono',consolas,'Courier New',monospace\">Requirement already satisfied: numpy&gt;=1.15 in /usr/local/lib/python3.8/dist-packages (from numpy_financial) (1.21.6)\n",
              "</pre>\n"
            ],
            "text/plain": [
              "Requirement already satisfied: numpy>=1.15 in /usr/local/lib/python3.8/dist-packages (from numpy_financial) (1.21.6)\n"
            ]
          },
          "metadata": {},
          "output_type": "display_data"
        },
        {
          "data": {
            "text/html": [
              "<pre style=\"white-space:pre;overflow-x:auto;line-height:normal;font-family:Menlo,'DejaVu Sans Mono',consolas,'Courier New',monospace\">Installing collected packages: numpy_financial\n",
              "</pre>\n"
            ],
            "text/plain": [
              "Installing collected packages: numpy_financial\n"
            ]
          },
          "metadata": {},
          "output_type": "display_data"
        },
        {
          "data": {
            "text/html": [
              "<pre style=\"white-space:pre;overflow-x:auto;line-height:normal;font-family:Menlo,'DejaVu Sans Mono',consolas,'Courier New',monospace\">Successfully installed numpy_financial-1.0.0\n",
              "</pre>\n"
            ],
            "text/plain": [
              "Successfully installed numpy_financial-1.0.0\n"
            ]
          },
          "metadata": {},
          "output_type": "display_data"
        }
      ],
      "source": [
        "import pip\n",
        "\n",
        "def import_or_install(package):\n",
        "    try:\n",
        "        __import__(package)\n",
        "    except ImportError:\n",
        "        pip.main(['install', package])\n",
        "\n",
        "import_or_install('numpy_financial')"
      ]
    },
    {
      "cell_type": "code",
      "execution_count": null,
      "metadata": {
        "colab": {
          "base_uri": "https://localhost:8080/",
          "height": 34
        },
        "id": "MsYtypgmkFJ6",
        "outputId": "a4decabe-22ad-4baf-af67-95e395f8b857"
      },
      "outputs": [
        {
          "data": {
            "text/html": [
              "<pre style=\"white-space:pre;overflow-x:auto;line-height:normal;font-family:Menlo,'DejaVu Sans Mono',consolas,'Courier New',monospace\">NumExpr defaulting to 2 threads.\n",
              "</pre>\n"
            ],
            "text/plain": [
              "NumExpr defaulting to 2 threads.\n"
            ]
          },
          "metadata": {},
          "output_type": "display_data"
        }
      ],
      "source": [
        "import numpy_financial as npf\n",
        "import pandas as pd\n",
        "import scipy\n",
        "import math\n",
        "\n",
        "from scipy.stats import binom\n",
        "from numpy import log as ln\n",
        "from numpy import log as ln\n",
        "\n",
        "\n",
        "def create_frequency_table(df, bins, column):\n",
        "    df = pd.DataFrame(df[column]).groupby(pd.cut(df[column], bins)).count()\n",
        "    df.columns = ['Frequência Absoluta']\n",
        "    df['Frequência relativa (%)'] = round(df['Frequência Absoluta'] /\n",
        "                                    df['Frequência Absoluta'].sum() * 100, 2)\n",
        "    df['Frequência Absoluta acumulada'] = df['Frequência Absoluta'].cumsum()\n",
        "    df['Frequência relativa acumulada (%)'] = df['Frequência relativa (%)'].cumsum()\n",
        "    return df\n",
        "\n",
        "def compute_continuous_return(pv, fv):\n",
        "    return ln(fv/pv)\n",
        "\n",
        "def compute_srf(mean, std, minimum_value):\n",
        "    return (mean - minimum_value) / (std)\n",
        "\n",
        "def compute_normal_cdf(mu, std, value):\n",
        "    return scipy.stats.norm(mu, std).cdf(value)\n",
        "\n",
        "def compute_uniform_cdf_continuous(min_value, max_value, value):\n",
        "    if value < max_value and value > min_value:\n",
        "        return (value - min_value)  / (max_value - min_value)\n",
        "    else:\n",
        "        return (\"Error: value is probably not betwwen the min and max values\")\n",
        "\n",
        "def compute_binomial_pmf(p, n, k):\n",
        "    '''\n",
        "    p = probabilidade de sucesso\n",
        "    n = número de tentativas\n",
        "    k = número de sucessos\n",
        "    '''\n",
        "    return scipy.stats.binom.pmf(p=p, n=n, k=k)\n",
        "\n",
        "def compute_binomial_cdf(p, n, k):\n",
        "    '''\n",
        "    p = probabilidade de sucesso\n",
        "    n = número de tentativas\n",
        "    k = número de sucessos\n",
        "    '''\n",
        "    return scipy.stats.binom.cdf(p=p, n=n, k=k)\n",
        "\n",
        "def compute_binomial_var(p, n):\n",
        "    '''\n",
        "    p = probabilidade de sucesso\n",
        "    n = número de tentativas\n",
        "    '''\n",
        "    return scipy.stats.binom.var(p=p, n=n)\n",
        "\n",
        "def compute_binomial_std(p, n):\n",
        "    '''\n",
        "    p = probabilidade de sucesso\n",
        "    n = número de tentativas\n",
        "    '''\n",
        "    return scipy.stats.binom.std(p=p, n=n)\n",
        "\n",
        "def compute_FV_ordinary_annuity(A, r, N):\n",
        "\n",
        "    # A = Pagamento / cash flow\n",
        "    # r = taxa de juro\n",
        "    # N = Nr. de anos\n",
        "\n",
        "    FV = A * (((1+r)**N -1) / r)\n",
        "    return FV\n",
        "\n",
        "def compute_FV_lump_sum(PV, rs, N, m=1):\n",
        "\n",
        "    # FV = Future value / valor futuro\n",
        "    # PV = Present value / Valor actual\n",
        "    # rs = Stated rate / Taxa de juro cotada\n",
        "    # N = número de anos\n",
        "\n",
        "    FV = PV * (1+rs/m)**(N*m)\n",
        "    return FV\n",
        "\n",
        "def compute_PV_lump_sum(FV, rs, N, m=1):\n",
        "\n",
        "    # PV = Present Value\n",
        "    # rs = taxa de juro\n",
        "    # N = Nr de anos/períodos\n",
        "    # m = 1 para ter capitalizaçãoo anual por defeito\n",
        "\n",
        "    PV = FV * (1+(rs/m))**(-N*m)\n",
        "    return PV\n",
        "\n",
        "def compute_PV_ordinary_annuity(A, r, N):\n",
        "\n",
        "    # A = Pagamento / cash flow\n",
        "    # r = taxa de juro\n",
        "    # N = Nr. de anos\n",
        "\n",
        "    PV = A * (1-1/(1+r)**N)/ r\n",
        "    return PV\n",
        "\n",
        "def compute_PV_ordinary_annuity_ucf(cf, r, m=1):\n",
        "    PV_total = 0\n",
        "    N=0\n",
        "    for cash_flow in cf:\n",
        "        N = N + 1\n",
        "        PV = compute_PV_lump_sum(cash_flow, rs=r, N=N)\n",
        "        PV_total = PV_total + PV\n",
        "\n",
        "    return PV_total\n",
        "\n",
        "def compute_pmt(FV, rs, N):\n",
        "\n",
        "    # FV = Future value / valor futuro\n",
        "    # rs = taxa de juro\n",
        "    # N = Nr de anos/per�odos\n",
        "    # pmt = pagamento\n",
        "\n",
        "    pmt = npf.pmt(rate=rs, nper=N, fv=FV, pv=0)\n",
        "    return pmt\n",
        "\n",
        "def compute_PV_annuity_due(A, r, N):\n",
        "    PV = (A * ((1-(1+r)**-N)) / r) * (1+r)\n",
        "    return PV\n",
        "\n",
        "def compute_ear(rs, m):\n",
        "\n",
        "    # FV = Future value / valor futuro\n",
        "    # PV = Present value / Valor actual\n",
        "    # rs = Stated rate / Taxa de juro cotada\n",
        "    # m = n�mero de capitaliza��es anuais\n",
        "\n",
        "    ear = (1 + rs/m)**m -1\n",
        "    return ear\n",
        "\n",
        "def compute_N(FV, PV, r):\n",
        "    N = ln(FV/PV) / ln(1+r)\n",
        "    return N\n",
        "\n",
        "def compute_FV_lump_sum_continuous(PV, rs, N):\n",
        "\n",
        "    # FV = Future value / valor futuro\n",
        "    # PV = Present value / Valor actual\n",
        "    # rs = Stated rate / Taxa de juro cotada\n",
        "    # N = n�mero de anos\n",
        "\n",
        "    FV = PV * math.e**(rs*N)\n",
        "    return FV\n",
        "\n",
        "def compute_PV_perpetuity(A, r, m=1):\n",
        "    return A/(r/m)\n",
        "\n",
        "def compute_FV_ordinary_annuity_ucf(cf, r, N, m=1):\n",
        "\n",
        "    # ucf = unequal cash flows\n",
        "    # cf = série de cash flows\n",
        "    # r = taxa de juro\n",
        "    # N = Nr de anos\n",
        "\n",
        "    FV_total = 0 # criar uma variável para somar os valores futuros dos cash flows\n",
        "\n",
        "    for cash_flow in cf: # Para cada cash flow na série de cash flows\n",
        "        N = N - 1\n",
        "        FV = compute_FV_lump_sum(cash_flow, rs=r, N=N) # calcular o cash flow\n",
        "        FV_total = FV_total + FV # somar cada valor futuro ao valor total\n",
        "\n",
        "    return FV_total\n",
        "\n",
        "def compute_g(FV, PV, N):\n",
        "    g = ((FV/PV)**(1/N))-1\n",
        "    return g\n",
        "\n",
        "def compute_A(PV, rs, N, m=1):\n",
        "    PVAF = (1-1/(1+(rs/m))**(m*N))/(rs/m)\n",
        "    A=PV/PVAF\n",
        "    return A\n",
        "\n",
        "def normalize(df):\n",
        "    df = df.dropna()\n",
        "    return (df / df.iloc[0]) * 100\n",
        "\n",
        "def compute_binomial_pmf(p, n, k):\n",
        "    '''\n",
        "    p = probabilidade de sucesso\n",
        "    n = número de tentativas\n",
        "    k = número de sucessos\n",
        "    '''\n",
        "    return scipy.stats.binom.pmf(p=p, n=n, k=k)\n",
        "\n",
        "def compute_binomial_cdf(p, n, k):\n",
        "    '''\n",
        "    p = probabilidade de sucesso\n",
        "    n = número de tentativas\n",
        "    k = número de sucessos\n",
        "    '''\n",
        "    return scipy.stats.binom.cdf(p=p, n=n, k=k)\n",
        "\n",
        "def compute_binomial_var(p, n):\n",
        "    '''\n",
        "    p = probabilidade de sucesso\n",
        "    n = número de tentativas\n",
        "    '''\n",
        "    return scipy.stats.binom.var(p=p, n=n)\n",
        "\n",
        "def compute_binomial_std(p, n):\n",
        "    '''\n",
        "    p = probabilidade de sucesso\n",
        "    n = número de tentativas\n",
        "    '''\n",
        "    return scipy.stats.binom.std(p=p, n=n)"
      ]
    },
    {
      "cell_type": "markdown",
      "metadata": {
        "id": "okMEga9lkFJ8"
      },
      "source": [
        "## Capítulo 1"
      ]
    },
    {
      "cell_type": "markdown",
      "metadata": {
        "id": "2BNl3aqbkFJ-"
      },
      "source": [
        "### Questão 1\n",
        "\n",
        "Um investidor está a contemplar um investimento em obrigações 5 anos. Comparou obrigações a 5 anos do Tesouro Português e uma obrigação a 5 anos da Mota Engil. Enquanto a obrigação do Tesouro tinha uma yield de 3.5% a da Mota Engil apresentava uma yield de 5%. Esta diferença deve-se a:\n",
        "\n",
        "a) Prémio de Insolvência  \n",
        "b) Prémio de Maturidade  \n",
        "c) Prémio de Inflação  "
      ]
    },
    {
      "cell_type": "markdown",
      "metadata": {
        "id": "dyha2EYPkFJ-"
      },
      "source": [
        "Resposta: a)"
      ]
    },
    {
      "cell_type": "markdown",
      "metadata": {
        "id": "0QafTBYwkFJ-"
      },
      "source": [
        "### Questão 2\n",
        "\n",
        "Um aforrador pretende fazer um depósito a prazo e está a considerar os seguintes bancos:\n",
        "\n",
        "- Banco A oferece uma taxa de 5.85% com capitalização anual;\n",
        "- Banco B oferece uma taxa de 5.75% com capitalização mensal\n",
        "- Banco C oferece uma taxa de 5.7% com capitalização diária\n",
        "\n",
        "Assumindo que o aforrador vai o depósito que paga mais no final do ano qual o banco que ele escolhe:\n",
        "\n",
        "a) O banco A  \n",
        "b) O banco B  \n",
        "c) O banco C  \n",
        "\n",
        "Resposta b)"
      ]
    },
    {
      "cell_type": "code",
      "execution_count": null,
      "metadata": {
        "id": "9c_Kvv0RkFJ-"
      },
      "outputs": [],
      "source": [
        "def compute_FV_lump_sum(PV, rs, N, m=1):\n",
        "\n",
        "    # FV = Future value / valor futuro\n",
        "    # PV = Present value / Valor actual\n",
        "    # rs = Stated rate / Taxa de juro cotada\n",
        "    # N = número de anos\n",
        "\n",
        "    FV = PV * (1+rs/m)**(N*m)\n",
        "    return FV"
      ]
    },
    {
      "cell_type": "code",
      "execution_count": null,
      "metadata": {
        "colab": {
          "base_uri": "https://localhost:8080/"
        },
        "id": "cBtE2r2FkFJ-",
        "outputId": "7eb3b22d-7476-4341-c22b-8d291cb4b7c1"
      },
      "outputs": [
        {
          "data": {
            "text/plain": [
              "105.85"
            ]
          },
          "execution_count": 5,
          "metadata": {},
          "output_type": "execute_result"
        }
      ],
      "source": [
        "PV=100\n",
        "rs=0.0585\n",
        "N=1\n",
        "m=1\n",
        "\n",
        "compute_FV_lump_sum(PV, rs, N, m)"
      ]
    },
    {
      "cell_type": "code",
      "execution_count": null,
      "metadata": {
        "colab": {
          "base_uri": "https://localhost:8080/"
        },
        "id": "tbc1TkYLkFJ_",
        "outputId": "adbdbd0b-f874-46f3-f4ee-e526dbf81b5b"
      },
      "outputs": [
        {
          "data": {
            "text/plain": [
              "105.90398312815978"
            ]
          },
          "execution_count": 6,
          "metadata": {},
          "output_type": "execute_result"
        }
      ],
      "source": [
        "PV=100\n",
        "rs=0.0575\n",
        "N=1\n",
        "m=12\n",
        "\n",
        "compute_FV_lump_sum(PV, rs, N, m)"
      ]
    },
    {
      "cell_type": "code",
      "execution_count": null,
      "metadata": {
        "colab": {
          "base_uri": "https://localhost:8080/"
        },
        "id": "zK54CrBRkFJ_",
        "outputId": "e3a78236-ba65-47f5-b094-f6bc22297352"
      },
      "outputs": [
        {
          "data": {
            "text/plain": [
              "105.86510991530207"
            ]
          },
          "execution_count": 7,
          "metadata": {},
          "output_type": "execute_result"
        }
      ],
      "source": [
        "PV=100\n",
        "rs=0.057\n",
        "N=1\n",
        "m=365\n",
        "\n",
        "compute_FV_lump_sum(PV, rs, N, m)"
      ]
    },
    {
      "cell_type": "markdown",
      "metadata": {
        "id": "FSzwnp-SkFJ_"
      },
      "source": [
        "### Questão 3\n",
        "\n",
        "Um investidor fez um investimento de 500 euros num ETF há 4 anos atrás. Obteve uma rentabilidade anualizada de 7.5%. Assumindo que o ETF é acumulativo (não pagou juros nem fez qualquer tipo de distribuição de rendimento) qual é o valor que o investidor tem ao dia de hoje?\n",
        "\n",
        "A) 892€  \n",
        "B) 650€  \n",
        "C) 668€  \n",
        "\n",
        "Resposta: C)\n",
        "\n",
        "\n",
        "\n"
      ]
    },
    {
      "cell_type": "code",
      "execution_count": null,
      "metadata": {
        "colab": {
          "base_uri": "https://localhost:8080/"
        },
        "id": "YLKo_46hkFJ_",
        "outputId": "9986c578-31f9-46bc-8858-8ef17237c9f5"
      },
      "outputs": [
        {
          "data": {
            "text/plain": [
              "667.7345703125"
            ]
          },
          "execution_count": 8,
          "metadata": {},
          "output_type": "execute_result"
        }
      ],
      "source": [
        "compute_FV_lump_sum(PV=500, rs=0.075, N=4, m=1)"
      ]
    },
    {
      "cell_type": "markdown",
      "metadata": {
        "id": "3Y42UHx9kFKA"
      },
      "source": [
        "### Questão 4\n",
        "\n",
        "Um investidor pretende poupar 2000 euros ao ano durante os próximos 45 anos numa conta reforma que tem uma taxa de 8.5%. O valor aproximado que o investidor terá no final dos 45 anos será de:\n",
        "\n",
        "A) 900 000 euros  \n",
        "B) 270 000 euros  \n",
        "C) 180 000 euros  \n",
        "\n",
        "Resposta A)\n"
      ]
    },
    {
      "cell_type": "code",
      "execution_count": null,
      "metadata": {
        "id": "llP0PWBHkFKA"
      },
      "outputs": [],
      "source": [
        "def compute_PV_annuity_due(A, r, N):\n",
        "    PV = (A * ((1-(1+r)**-N)) / r) * (1+r)\n",
        "    return PV"
      ]
    },
    {
      "cell_type": "code",
      "execution_count": null,
      "metadata": {
        "colab": {
          "base_uri": "https://localhost:8080/"
        },
        "id": "91-mQ5yYkFKA",
        "outputId": "89a569da-0229-46c0-c9d3-ce132962c6bb"
      },
      "outputs": [
        {
          "data": {
            "text/plain": [
              "901060.7932196334"
            ]
          },
          "execution_count": 10,
          "metadata": {},
          "output_type": "execute_result"
        }
      ],
      "source": [
        "compute_FV_ordinary_annuity(A=2000, r=0.085, N=45)"
      ]
    },
    {
      "cell_type": "markdown",
      "metadata": {
        "id": "ew8XeBjckFKA"
      },
      "source": [
        "### Questão 5\n",
        "\n",
        "Uma acção preferencial paga um dividendo de 3.75 euros por acção. Assumindo que um investidor pretende ganhar um retorno de 8.5% qual o valor máximo que ele está disposto a pagar pela acção?\n",
        "\n",
        "A) 31,88 €  \n",
        "B) 44,12 €  \n",
        "C) 42,10 €  \n",
        "\n",
        "Resposta B)"
      ]
    },
    {
      "cell_type": "code",
      "execution_count": null,
      "metadata": {
        "colab": {
          "base_uri": "https://localhost:8080/"
        },
        "id": "NFb5vlerkFKA",
        "outputId": "dbfa0c6f-3f59-4d70-dc0f-63b1a36cce46"
      },
      "outputs": [
        {
          "data": {
            "text/plain": [
              "44.11764705882353"
            ]
          },
          "execution_count": 11,
          "metadata": {},
          "output_type": "execute_result"
        }
      ],
      "source": [
        "def compute_PV_perpetuity(A, r, m=1):\n",
        "    return A/(r/m)\n",
        "\n",
        "compute_PV_perpetuity(3.75, 0.085)"
      ]
    },
    {
      "cell_type": "markdown",
      "metadata": {
        "id": "TJC_NODBkFKA"
      },
      "source": [
        "## Capítulo 2"
      ]
    },
    {
      "cell_type": "markdown",
      "metadata": {
        "id": "f_v5IY-NkFKB"
      },
      "source": [
        "### Questão 6\n",
        "\n",
        "Qual o melhor tipo de gr￡fico para visualizarmos uma s￩rie temporal? (cole￧￣o de observa￧￵es de dados num￩ricos feitas sequencialmente ao longo do tempo )\n",
        "\n",
        "A) Mapa de calor;  \n",
        "B) Nuvem de palavras;  \n",
        "C) Gráfico de linhas.  \n",
        "\n",
        "Resposta: C)"
      ]
    },
    {
      "cell_type": "markdown",
      "metadata": {
        "id": "pxbjH6AKkFKB"
      },
      "source": [
        "### Questão 7\n",
        "\n",
        "Qual das seguintes frases é **falsa**, assumindo que estamos a ver rentabilidade de um investimento:\n",
        "\n",
        "A) A média geométrica é sempre superior ou igual à média aritmética;  \n",
        "B) A média geométrica é sempre inferior ou igual à média aritmética;  \n",
        "C) O diferencial entre a média geométrica e a média aritmética na rentabilidade de um investimento é tanto maior quanto maior for o desvio padrão dos retornos desse investimento.  \n",
        "\n",
        "Resposta: A)\n",
        "\n"
      ]
    },
    {
      "cell_type": "markdown",
      "metadata": {
        "id": "JdkOcLCXkFKB"
      },
      "source": [
        "### Questão 8\n",
        "\n",
        "Vamos assumir que a morningstar divide equitativamente os fundos em categorias entre 1 e 5 estrelas com base na sua performance, face aos rivais, nos últimos 3 anos (ou seja por quintis), sendo que os melhores têm 5 estrelas e os piores 1 estrela. Quantas estrelas tem um fundo que bateu 75% dos rivais nos últimos 3 anos?\n",
        "\n",
        "A) 3 estrelas  \n",
        "B) 4 estrelas   \n",
        "C) 5 estrelas  \n",
        "\n",
        "Resposta: B)"
      ]
    },
    {
      "cell_type": "markdown",
      "metadata": {
        "id": "7HYiHWw_kFKB"
      },
      "source": [
        "### Questão 9\n",
        "\n",
        "Um investidor tem um portfolio que consiste em 7000 €uros no ETF A e 5000 €uros no ETF B. No ano de 2021 o ETF A teve uma performance de 20% e o ETF B teve uma performance de 10%. Qual foi a performance da carteira do investidor?\n",
        "\n",
        "A) 15,8%  \n",
        "B) 15%  \n",
        "C) 30%  \n",
        "\n",
        "Resposta: A)"
      ]
    },
    {
      "cell_type": "code",
      "execution_count": null,
      "metadata": {
        "colab": {
          "base_uri": "https://localhost:8080/"
        },
        "id": "AD_XvZ1XkFKB",
        "outputId": "a8caaf31-b459-4626-ef7a-ae97420de0f8"
      },
      "outputs": [
        {
          "data": {
            "text/plain": [
              "1900.0"
            ]
          },
          "execution_count": 12,
          "metadata": {},
          "output_type": "execute_result"
        }
      ],
      "source": [
        "(7000*0.2)+(5000*0.1)"
      ]
    },
    {
      "cell_type": "code",
      "execution_count": null,
      "metadata": {
        "colab": {
          "base_uri": "https://localhost:8080/"
        },
        "id": "cD8jgJdqkFKB",
        "outputId": "af188bd5-3744-4455-f96c-aa0c5dce7dd9"
      },
      "outputs": [
        {
          "data": {
            "text/plain": [
              "1.1583333333333334"
            ]
          },
          "execution_count": 13,
          "metadata": {},
          "output_type": "execute_result"
        }
      ],
      "source": [
        "(7000+5000+1900) /(7000+5000)"
      ]
    },
    {
      "cell_type": "markdown",
      "metadata": {
        "id": "DLJAqdw7kFKB"
      },
      "source": [
        "### Questão 10\n",
        "\n",
        "Na teoria da probabilidade, eventos mutuamente exclusivos são melhor descritos como o conjunto de eventos que:\n",
        "\n",
        "A) Não podem acontecer ao mesmo tempo;  \n",
        "B) Incluem todos os resultados potenciais;   \n",
        "C) Podem acontecer simultâneamente.\n",
        "\n",
        "Resposta: A)"
      ]
    },
    {
      "cell_type": "markdown",
      "metadata": {
        "id": "dIy_aBaUkFKC"
      },
      "source": [
        "### Questão 11\n",
        "\n",
        "Qual parâmetro é igual a 3 numa distribuição normal padrão?\n",
        "\n",
        "A) Curtose  \n",
        "B) Assimetria  \n",
        "C) Desvio padrão\n",
        "\n",
        "Resposta: A)"
      ]
    },
    {
      "cell_type": "markdown",
      "metadata": {
        "id": "3cDeHE0okFKC"
      },
      "source": [
        "### Questão 12\n",
        "\n",
        "A acção X tem um desvio padrão dos retornos de 18.9% e a acção Y tem um desvio padrão de 14.73%. Assumindo que as acções são perfeita e positivamente correlacionadas qual o desvio padrão de um portfolio com pesos iguais em ambas as acções?\n",
        "\n",
        "A) 10.25%  \n",
        "B) 14.67%  \n",
        "C) 16.82%  \n",
        "\n",
        "Resposta: C)"
      ]
    },
    {
      "cell_type": "code",
      "execution_count": null,
      "metadata": {
        "colab": {
          "base_uri": "https://localhost:8080/"
        },
        "id": "acXTZVqLkFKC",
        "outputId": "c50f6a39-a6e1-43c9-f413-010b7953c732"
      },
      "outputs": [
        {
          "data": {
            "text/plain": [
              "16.814999999999998"
            ]
          },
          "execution_count": 14,
          "metadata": {},
          "output_type": "execute_result"
        }
      ],
      "source": [
        "(18.9+14.73) / 2"
      ]
    },
    {
      "cell_type": "markdown",
      "metadata": {
        "id": "FBNxpDuVkFKC"
      },
      "source": [
        "Isto só é possível quando a correlação entre as acções é de 1."
      ]
    },
    {
      "cell_type": "markdown",
      "metadata": {
        "id": "JA1QQ234kFKC"
      },
      "source": [
        "### Questão 13\n",
        "\n",
        "A resposta à questão 12 seria diferente se as acções não fossem perfeita e positivamente correlacionadas porque, caso não o fossem, **aumentava**:\n",
        "\n",
        "A) A diversificação;  \n",
        "B) A rentabilidade;  \n",
        "C) O desvio padrão.\n",
        "\n",
        "Resposta: A)"
      ]
    },
    {
      "cell_type": "markdown",
      "metadata": {
        "id": "wUX15BOPkFKC"
      },
      "source": [
        "### Questão 14\n",
        "\n",
        "Uma empresa muito grande tem quantidades iguais de funcionários homens e mulheres. Se uma amostra aleatória de quatro funcionários for selecionada, qual é a probabilidade de que todos os quatro funcionários selecionados sejam mulheres?\n",
        "\n",
        "A) 0.0256  \n",
        "B) 0.1600  \n",
        "C) 0.0625  \n",
        "\n",
        "Resposta: C"
      ]
    },
    {
      "cell_type": "code",
      "execution_count": null,
      "metadata": {
        "colab": {
          "base_uri": "https://localhost:8080/"
        },
        "id": "ibs51jLCkFKC",
        "outputId": "dd2d63db-8373-42ec-f9b6-1211c2cc5542"
      },
      "outputs": [
        {
          "data": {
            "text/plain": [
              "0.0625"
            ]
          },
          "execution_count": 15,
          "metadata": {},
          "output_type": "execute_result"
        }
      ],
      "source": [
        "0.5*0.5*0.5*0.5"
      ]
    },
    {
      "cell_type": "markdown",
      "metadata": {
        "id": "Rlt4uT84kFKD"
      },
      "source": [
        "## Capítulo 4"
      ]
    },
    {
      "cell_type": "markdown",
      "metadata": {
        "id": "R8QL52XhkFKD"
      },
      "source": [
        "### Questão 15\n",
        "\n",
        "Para uma distribuição uniforme contínua que só pode assumir valores entre 2 e 10, a\n",
        "probabilidade de um resultado:\n",
        "\n",
        "A) igual a 4 é de 11,1%;  \n",
        "B) menor que 3 é de 12,5%;  \n",
        "C) maior que 5 é de 27,5%.\n",
        "\n",
        "Resposta: B)"
      ]
    },
    {
      "cell_type": "code",
      "execution_count": null,
      "metadata": {
        "colab": {
          "base_uri": "https://localhost:8080/"
        },
        "id": "9EqMr77lkFKD",
        "outputId": "d6e4f823-c5c9-46d7-d9df-6823a77b74db"
      },
      "outputs": [
        {
          "data": {
            "text/plain": [
              "0.125"
            ]
          },
          "execution_count": 16,
          "metadata": {},
          "output_type": "execute_result"
        }
      ],
      "source": [
        "def compute_uniform_cdf_continuous(min_value, max_value, value):\n",
        "    if value < max_value and value > min_value:\n",
        "        return (value - min_value)  / (max_value - min_value)\n",
        "    else:\n",
        "        return (\"Error: value is probably not betwwen the min and max values\")\n",
        "\n",
        "compute_uniform_cdf_continuous(2, 10, 3)"
      ]
    },
    {
      "cell_type": "markdown",
      "metadata": {
        "id": "G_kVwmZMkFKD"
      },
      "source": [
        "### Questão 16\n",
        "\n",
        "A probabilidade de uma variável aleatória normalmente distribuída ter um valor  mais de dois desvios padrão **acima** da sua média é:\n",
        "\n",
        "A) 0,0456;  \n",
        "B) 0,0228;  \n",
        "C) 0,9772\n",
        "\n",
        "Resposta: B)"
      ]
    },
    {
      "cell_type": "code",
      "execution_count": null,
      "metadata": {
        "colab": {
          "base_uri": "https://localhost:8080/"
        },
        "id": "FQpaD2YokFKD",
        "outputId": "c07d0cad-c5b3-44fe-ce4d-02657bfa963b"
      },
      "outputs": [
        {
          "data": {
            "text/plain": [
              "0.02275013194817921"
            ]
          },
          "execution_count": 17,
          "metadata": {},
          "output_type": "execute_result"
        }
      ],
      "source": [
        "def compute_normal_cdf(mu, std, value):\n",
        "    return scipy.stats.norm(mu, std).cdf(value)\n",
        "\n",
        "1 - compute_normal_cdf(0, 3, 6)"
      ]
    },
    {
      "cell_type": "markdown",
      "metadata": {
        "id": "Co5NMnG7kFKD"
      },
      "source": [
        "### Questão 17:\n",
        "\n",
        "Um investimento tem um retorno esperado de 10% com um desvio padrão de 5%. Se os retornos são normalmente distribuídos, a probabilidade de perda de dinheiro é a mais próxima de:\n",
        "\n",
        "A) 10,0%;  \n",
        "B) 5,0%;  \n",
        "C) 2,3%."
      ]
    },
    {
      "cell_type": "code",
      "execution_count": null,
      "metadata": {
        "colab": {
          "base_uri": "https://localhost:8080/"
        },
        "id": "ASLSYg2TkFKD",
        "outputId": "307c0b6b-6d67-4971-b9e7-18f5e26fe663"
      },
      "outputs": [
        {
          "data": {
            "text/plain": [
              "0.022750131948179195"
            ]
          },
          "execution_count": 18,
          "metadata": {},
          "output_type": "execute_result"
        }
      ],
      "source": [
        "import scipy\n",
        "\n",
        "# Transformando em função\n",
        "def compute_normal_cdf(mu, std, value):\n",
        "    return scipy.stats.norm(mu, std).cdf(value)\n",
        "\n",
        "retorno_esperado = 0.10\n",
        "desvio_padrao = 0.05\n",
        "meta_minima = 0.00\n",
        "\n",
        "compute_normal_cdf(retorno_esperado, desvio_padrao, meta_minima)"
      ]
    },
    {
      "cell_type": "markdown",
      "metadata": {
        "id": "wh4siTVjkFKE"
      },
      "source": [
        "O facto da questão 16 e 17 terem a mesma resposta (2.28%) foi pura coincidência. As perguntas são escolhidas de uma pool de centenas de perguntas de preparação para o CFA e nem tinha reparado (até pelo uso numa de percentagem e noutra de número decimal). A Pergunta 17 podia ser feita de forma semelhante à 16 mas se quisessemos saber \"a probabilidade de uma variável aleatória normalmente distribuída ter um valor mais de dois desvios padrão **abaixo** da sua média\".\n",
        "\n",
        "Acabou por ser uma sinergia interessante e mostra:\n",
        "\n",
        "* Aplicação da questão 16 no mundo dos investimentos;\n",
        "* A simetria da distribuição normal."
      ]
    },
    {
      "cell_type": "markdown",
      "metadata": {
        "id": "HlYGCKuLkFKE"
      },
      "source": [
        "### Questão 18\n",
        "\n",
        "Uma variável aleatória que tem um número contável de valores possíveis é melhor descrita como:\n",
        "\n",
        "A) Uma variável aleatória discreta;  \n",
        "B) Distribuição de probabilidade;  \n",
        "C) Uma variável aleatória contínua.  \n",
        "\n",
        "Resposta: A)"
      ]
    },
    {
      "cell_type": "markdown",
      "metadata": {
        "id": "nBhql4fSkFKE"
      },
      "source": [
        "### Questão 19\n",
        "\n",
        "Qual das seguintes afirmações sobre a distribuição t é a mais precisa/verdadeira?\n",
        "\n",
        "A) A distribuição t tem assimetria positiva;  \n",
        "B) A distribuição t tem caudas mais finas em comparação com a distribuição normal;  \n",
        "C) A distribuição t aproxima-se da distribuição normal padrão à medida que os graus de liberdade aumentam.  \n",
        "\n",
        "Resposta: C)"
      ]
    },
    {
      "cell_type": "markdown",
      "metadata": {
        "id": "nMHDT1MvkFKE"
      },
      "source": [
        "## Capítulo 5"
      ]
    },
    {
      "cell_type": "markdown",
      "metadata": {
        "id": "3Us1PvvpkFKE"
      },
      "source": [
        "### Questão 20\n",
        "\n",
        "Thomas Merton, um analista da indústria automóvel, pretende investigar uma relação entre os tipos de anúncios utilizados em campanhas publicitárias e as vendas a clientes em determinados grupos de idade. Para garantir que inclua fabricantes de todos os tamanhos, Merton divide a indústria em quatro grupos de tamanho e retira amostras aleatórias de cada grupo. Qual método de amostragem Merton está a usar?\n",
        "\n",
        "A) Amostragem transversal  \n",
        "B) Amostragem aleatória estratificada  \n",
        "C) Amostragem simples aleatória  \n",
        "\n",
        "Resposta: B)"
      ]
    },
    {
      "cell_type": "markdown",
      "metadata": {
        "id": "1NwDC5AskFKE"
      },
      "source": [
        "### Questão 21\n",
        "\n",
        "Ao aumentar tamanho da amostra aumenta, qual das seguintes afirmações **melhor** descreve a mudança no erro padrão da média amostral e o tamanho do intervalo de confiança para a verdadeira média?\n",
        "\n",
        "A) O erro padrão diminui e o intervalo de confiança estreita  \n",
        "B) O intervalo de confiança amplia enquanto o erro padrão diminui  \n",
        "C) O erro padrão aumenta enquanto o intervalo de confiança estreita  \n",
        "\n",
        "Resposta: A)"
      ]
    },
    {
      "cell_type": "markdown",
      "metadata": {
        "id": "n2BPWSj0kFKE"
      },
      "source": [
        "### Questão 22\n",
        "\n",
        "Um cientista que trabalha para uma empresa farmcêutica tenta vários modelos usando os mesmaos dados antes de relatar aquele que mostra que o medicamento dado não tem efeitos colaterias graves.\n",
        "\n",
        "Os resultados do cientista são mais propensos a exibir:\n",
        "\n",
        "A) Enviesamento de antecipação (Look-ahead bias)\n",
        "B) Enviesamento de sobrevivência (Survivourship bias)\n",
        "C) Enviesamento de manipulação de dados (Data-Snooping Bias)  \n",
        "\n",
        "Resposta C)"
      ]
    },
    {
      "cell_type": "markdown",
      "metadata": {
        "id": "5RmPBv3jkFKE"
      },
      "source": [
        "### Questão 23\n",
        "\n",
        "Numa análise ao retorno anual médio ao longo de 20 anos para um setor de fundos de investimento o analista usou apenas uma amostra de fundos desse setor que possuem histórico de desempenho de 20 anos. A média de rentabilidades:\n",
        "\n",
        "A) expressa de forma justa os retornos do setor de fundos  \n",
        "B) subestima os retornos do setor de fundos  \n",
        "C) Sobrestima os retornos do setor de fundos  \n",
        "\n",
        "Resposta: C)"
      ]
    },
    {
      "cell_type": "markdown",
      "metadata": {
        "id": "IS0UDVQAkFKF"
      },
      "source": [
        "### Questão 24:\n",
        "\n",
        "Um analista está a testar a hipótese que o retorno excessivo médio de uma estratégia de negociação é menor ou igual a zero. O analista relata que este teste de hipótese produz um valor-p de 0,034. Isso sugere provavelmente que:\n",
        "\n",
        "A) A melhor estimativa do retorno excessivo médio produzido pela estratégia é de 3,4%  \n",
        "B) A hipótese nula pode ser rejeitada no nível de significância de 5%  \n",
        "C) O menor nível de significância no qual a hipótese nula pode ser rejeitada é de 6,8%  \n",
        "\n",
        "Resposta: B)"
      ]
    },
    {
      "cell_type": "markdown",
      "metadata": {
        "id": "J59qMk5TkFKF"
      },
      "source": [
        "### Questão 25:\n",
        "\n",
        "Joe Sutton está a avaliar os efeitos da queda de mercado de 1987 no volume de negociação. Especificamente, ele quer testar se a queda afetou o volume de negociação. Ele selecionou uma amostra de 500 empresas e recolheu dados sobre o volume total nos 12 meses antes da queda e nos 12 meses a seguir à queda. Qual é o conjunto de hipóteses que Sutton está a testar?\n",
        "\n",
        "A) Ho: μd = μd0 versus Ha: μd > μd0  \n",
        "B) Ho: μd = μd0 versus Ha: μd ≠ μd0  \n",
        "C) Ho: μd ≠ μd0 versus Ha: μd = μd0\n",
        "\n",
        "Resposta: B"
      ]
    },
    {
      "cell_type": "markdown",
      "metadata": {
        "id": "zxJ7G0Z1kFKF"
      },
      "source": [
        "### Questão 26:\n",
        "\n",
        "Se a probabilidade de um erro do tipo I diminui, então a probabilidade de:\n",
        "\n",
        "A) um erro do tipo II aumenta  \n",
        "B) aceitar incorretamente a hipótese nula diminui  \n",
        "C) rejeitar incorretamente a hipótese nula aumenta  \n",
        "\n",
        "Resposta: A)\n",
        "\n"
      ]
    },
    {
      "cell_type": "markdown",
      "metadata": {
        "id": "byp26rNQkFKF"
      },
      "source": [
        "### Questão 27:\n",
        "\n",
        "O coeficiente de determinação (R^2) para uma regressão linear é melhor descrito como:\n",
        "\n",
        "A) percentagem da variação da variável dependente explicada pela variação da variável independente  \n",
        "B) covariância das variáveis ​​independentes e dependentes  \n",
        "C) percentagem da variação da variável independente explicada pela variação da variável dependente\n",
        "\n",
        "Resposta: A)"
      ]
    },
    {
      "cell_type": "markdown",
      "metadata": {
        "id": "VdCi-PkLkFKF"
      },
      "source": [
        "### Questão 28:\n",
        "\n",
        "Qual dos seguintes é **menos provável** ser um pressuposto da regressão linear?\n",
        "\n",
        "A) Os valores da variável independente não estão correlacionados com o termo de erro  \n",
        "B) Os termos de erro de uma regressão são positivamente correlacionados   \n",
        "C) A variância dos termos de erro de cada período permanece a mesma"
      ]
    },
    {
      "cell_type": "markdown",
      "metadata": {
        "id": "zZD9B4pekFKF"
      },
      "source": [
        "Resposta B)"
      ]
    },
    {
      "cell_type": "markdown",
      "metadata": {
        "id": "veYFmuWwkFKF"
      },
      "source": [
        "### Questões 29 e 30 dizem respeito ao seguinte texto:"
      ]
    },
    {
      "cell_type": "markdown",
      "metadata": {
        "id": "6XXQab2fkFKF"
      },
      "source": [
        "Damon Washburn, CFA, está atualmente matriculado como estudante de pós-graduação. Uma de suas recentes atribuições para seu curso de Análise Quantitativa é realizar uma análise de regressão utilizando os conceitos abordados durante o semestre. Ele deve interpretar os resultados da regressão, bem como as estatísticas de teste. Washburn está confiante na sua capacidade de calcular as estatísticas porque a turma pode usar software estatístico.\n",
        "No entanto, ele percebe que a interpretação das estatísticas será o verdadeiro teste de sua conhecimento de análise de regressão. O seu professor deu aos alunos uma lista de perguntas que deve ser respondida pelos resultados da análise.\n",
        "\n",
        "Washburn estimou uma equação de regressão na qual 160 retornos trimestrais do S&P 500 são explicados por três variáveis ​​macroeconômicas:\n",
        "\n",
        "Crescimento do emprego (EMP) como medida por folha de pagamento não-agrícola;  \n",
        "Crescimento do produto interno bruto (PIB);  \n",
        "Investimento (INV).\n",
        "\n",
        "Os resultados da análise de regressão são os seguintes:\n",
        "\n",
        "![](https://s3.us-east-2.amazonaws.com/cbs.pg.repository/teste_29.png)"
      ]
    },
    {
      "cell_type": "markdown",
      "metadata": {
        "id": "wg_8maXXkFKG"
      },
      "source": [
        "### Questão 29:\n",
        "\n",
        "Qual é o retorno trimestral previsto para as acções, dadas as seguintes previsões?  \n",
        "\n",
        "Crescimento do emprego = 2,0%  \n",
        "Crescimento do PIB = 1,0%  \n",
        "Crescimento do investimento privado = -1,0%  \n",
        "\n",
        "A) 4,7%  \n",
        "B) 5,0%  \n",
        "C) 4,4%  \n",
        "\n",
        "Resposta: B)"
      ]
    },
    {
      "cell_type": "code",
      "execution_count": null,
      "metadata": {
        "colab": {
          "base_uri": "https://localhost:8080/"
        },
        "id": "tbctBYFWkFKG",
        "outputId": "4dae9ba2-f5c3-490b-ef7f-35c9e056e315"
      },
      "outputs": [
        {
          "data": {
            "text/plain": [
              "5.0"
            ]
          },
          "execution_count": 19,
          "metadata": {},
          "output_type": "execute_result"
        }
      ],
      "source": [
        "9.5+(-4.5*2)+(4.2*1)+(-0.3*-1)"
      ]
    },
    {
      "cell_type": "markdown",
      "metadata": {
        "id": "CTPePb_lkFKG"
      },
      "source": [
        "### Questão 30\n",
        "\n",
        "De acordo com a estatística Durbin-Watson, existe:\n",
        "\n",
        "A) heterocedasticidade significativa nos resíduos  \n",
        "B) nenhuma correlação em série positiva significativa nos resíduos  \n",
        "C) correlação em série positiva significativa nos resíduos  \n",
        "\n",
        "Resposta: C)"
      ]
    },
    {
      "cell_type": "markdown",
      "metadata": {
        "id": "6N2GMoMykFKG"
      },
      "source": [
        "### Questão 31\n",
        "\n",
        "Uma série temporal possui quantos componentes?\n",
        "\n",
        "A) 1  \n",
        "B) 2  \n",
        "C) 3  \n",
        "D) 4\n",
        "\n",
        "Resposta: D)"
      ]
    },
    {
      "cell_type": "markdown",
      "metadata": {
        "id": "UNrTemAWkFKG"
      },
      "source": [
        "### Questão 32\n",
        "\n",
        "A figura apresenta os primeiros 26 termos de uma série temporal. Sabendo que a equação da regressão estimada para a série temporal é  $Y_t=16,23 + 0,52Y_{t−1}+0,37Y_{t−2}$ determine o valor previsto para o período de tempo 27? (devem clicar na imagem para a ver com maiores dimensões)\n",
        "\n",
        "![](https://s3.us-east-2.amazonaws.com/cbs.pg.repository/teste_32.png)\n",
        "\n",
        "a) 53,32  \n",
        "b) 109,5  \n",
        "c) 116,65  \n",
        "d) 116,95  \n",
        "\n",
        "Resposta d)"
      ]
    },
    {
      "cell_type": "code",
      "execution_count": null,
      "metadata": {
        "colab": {
          "base_uri": "https://localhost:8080/"
        },
        "id": "Gqc0bVN5kFKG",
        "outputId": "5fccfdff-38c3-4d45-a37a-92df20b699e5"
      },
      "outputs": [
        {
          "data": {
            "text/plain": [
              "116.95"
            ]
          },
          "execution_count": 20,
          "metadata": {},
          "output_type": "execute_result"
        }
      ],
      "source": [
        "16.23+0.52*114+0.37*112"
      ]
    },
    {
      "cell_type": "markdown",
      "metadata": {
        "id": "oRJRYFMpkFKG"
      },
      "source": [
        "### Questão 33\n",
        "\n",
        "A linha de tendência mais adequada para uma série temporal é aquela para a qual a soma dos quadrados dos resíduos ou erros é?\n",
        "\n",
        "a) Estacionária  \n",
        "b) Uniforme  \n",
        "c) Mínima  \n",
        "d) Máxima  \n",
        "\n",
        "Resposta: c)"
      ]
    },
    {
      "cell_type": "markdown",
      "metadata": {
        "id": "lHA6_4C5kFKG"
      },
      "source": [
        "### Questão 34\n",
        "\n",
        "O que é que a auto covariância mede numa série temporal?\n",
        "\n",
        "a) Dependência linear entre múltiplos pontos de diferentes séries temporais em diferentes momentos  \n",
        "b) Dependência quadrática entre dois pontos da mesma série temporal em momentos diferentes  \n",
        "c) Dependência linear entre dois pontos de séries temporais diferentes observadas no mesmo momento  \n",
        "d) Dependência linear entre dois pontos da mesma série temporal em momentos diferentes  \n",
        "\n",
        "Resposta: d)"
      ]
    },
    {
      "cell_type": "markdown",
      "metadata": {
        "id": "0-_BpVaEkFKH"
      },
      "source": [
        "**Questão 35**\n",
        "\n",
        "A figura apresenta um gráfico da função de autocorrelação parcial (PACF). Com base neste gráfico indique qual o modelo autorregressivo apropriado. (devem clicar na imagem para a ver com maiores dimensões)\n",
        "\n",
        "![](https://s3.us-east-2.amazonaws.com/cbs.pg.repository/teste_35.png)\n",
        "\n",
        "a) AR(1)  \n",
        "b) AR(2)  \n",
        "c) AR(3)  \n",
        "d) AR(4)  \n",
        "\n",
        "Resposta: C)"
      ]
    },
    {
      "cell_type": "markdown",
      "metadata": {
        "id": "cNWyWFXskFKH"
      },
      "source": [
        "**Questão 36**\n",
        "\n",
        "__________ analisa a relação entre as variáveis independentes e a dependente.\n",
        "\n",
        "a) K-means clustering  \n",
        "b) Big data  \n",
        "c) Aprendizagem não supervisionada  \n",
        "d) Análise de regressão\n",
        "\n",
        "Resposta: d)"
      ]
    },
    {
      "cell_type": "markdown",
      "metadata": {
        "id": "Te3c_60GkFKH"
      },
      "source": [
        "**Questão 37**\n",
        "\n",
        "Imagine que trabalha para um serviço de streaming de música e quer utilizar a aprendizagem supervisionada para classificar a música em diferentes géneros. O seu serviço já recolheu milhares de canções em cada género, e utilizou-as como dados de treino. Agora retira um pequeno subconjunto aleatório de todas as canções do seu serviço. Como se chama este subconjunto?\n",
        "\n",
        "a) Conjunto de teste  \n",
        "b) Cluster de dados  \n",
        "c) Overfitting  \n",
        "d) Big Data"
      ]
    },
    {
      "cell_type": "markdown",
      "metadata": {
        "id": "Eqq6eV7UkFKH"
      },
      "source": [
        "**Questão 38**\n",
        "\n",
        "Imagine que trabalha para uma gelataria e criou o gráfico igual ao da figura, que mostra a relação entre a temperatura exterior e a venda de gelados. Qual é a melhor descrição deste gráfico?\n",
        "\n",
        "![](https://s3.us-east-2.amazonaws.com/cbs.pg.repository/teste_38.png)\n",
        "\n",
        "a) É um gráfico de aprendizagem não supervisionada  \n",
        "b) É um gráfico de uma árvore de decisão  \n",
        "c) É um gráfico de uma regressão linear  \n",
        "d) É um gráfico de clustering\n",
        "\n",
        "Respota: c)"
      ]
    },
    {
      "cell_type": "markdown",
      "metadata": {
        "id": "fwV-rkt9kFKH"
      },
      "source": [
        "**Questão 39**\n",
        "\n",
        "Qual dos seguintes gráficos, se algum, apresenta um modelo a sofrer de overfitting? (devem clicar na imagem para a ver com maiores dimensões)\n",
        "\n",
        "![](https://s3.us-east-2.amazonaws.com/cbs.pg.repository/teste_39.png)\n",
        "\n",
        "a) O gráfico mais à esquerda da figura  \n",
        "b) O gráfico no meio da figura  \n",
        "c) O gráfico mais à direita da figura  \n",
        "d) Nenhum dos gráficos da figura  \n",
        "\n",
        "Resposta: c)"
      ]
    },
    {
      "cell_type": "markdown",
      "metadata": {
        "id": "8SquYwG8kFKH"
      },
      "source": [
        "**Questão 40**\n",
        "\n",
        "O resultado do processo de treino em machine learning é ____________\n",
        "\n",
        "a) um algoritmo de machine learning  \n",
        "b) um modelo de machine learning  \n",
        "c) a exatidão do algoritmo de machine learning  \n",
        "d) a precisão do algoritmo de machine learning  \n",
        "\n",
        "Resposta: b)"
      ]
    },
    {
      "cell_type": "code",
      "execution_count": null,
      "metadata": {
        "id": "aGbb2Z6wSM4d"
      },
      "outputs": [],
      "source": []
    }
  ],
  "metadata": {
    "colab": {
      "provenance": []
    },
    "kernelspec": {
      "display_name": "base",
      "language": "python",
      "name": "python3"
    },
    "language_info": {
      "codemirror_mode": {
        "name": "ipython",
        "version": 3
      },
      "file_extension": ".py",
      "mimetype": "text/x-python",
      "name": "python",
      "nbconvert_exporter": "python",
      "pygments_lexer": "ipython3",
      "version": "3.9.12"
    },
    "orig_nbformat": 4,
    "vscode": {
      "interpreter": {
        "hash": "3ab9f130009031cba5cb86806735bce0511dc9df1d607c7afcf45783391ad4b5"
      }
    }
  },
  "nbformat": 4,
  "nbformat_minor": 0
}
