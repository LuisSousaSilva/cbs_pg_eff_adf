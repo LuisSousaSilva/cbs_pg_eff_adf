{
  "cells": [
    {
      "cell_type": "markdown",
      "metadata": {
        "id": "IDhPFUvW1hmg"
      },
      "source": [
        "# Capítulo 8 - Regressão Linear Múltipla"
      ]
    },
    {
      "cell_type": "markdown",
      "metadata": {
        "id": "g0jFO36P1u35"
      },
      "source": [
        "No capítulo anterior vimos o caso de termos duas variáveis, uma dependente e outra independente.\n",
        "\n",
        "Mas e se acharmos que há mais que uma variável independente que tem impacto na variável dependente?"
      ]
    },
    {
      "cell_type": "code",
      "execution_count": null,
      "metadata": {
        "id": "6bGunQB8l1ON",
        "tags": [
          "hide-input"
        ]
      },
      "outputs": [],
      "source": [
        "import statsmodels.formula.api as smf\n",
        "import pandas as pd\n",
        "import yfinance as yf\n",
        "from scipy import stats\n",
        "\n",
        "def normalize(df):\n",
        "    df = df.dropna()\n",
        "    return (df / df.iloc[0]) * 100\n",
        "\n",
        "def merge_time_series(df_1, df_2, how='outer'):\n",
        "    df = df_1.merge(df_2, how=how, left_index=True, right_index=True)\n",
        "    return df\n",
        "\n",
        "def download_yahoo_data(tickers, normalize_quotes=True,\n",
        "                      start='1970-01-01', end='2030-12-31'):\n",
        "    quotes=pd.DataFrame()\n",
        "    for ticker in tickers:\n",
        "        df = yf.download(ticker, start=start, end=end, progress=False)\n",
        "        df = df[['Adj Close']]\n",
        "        df.columns=[ticker]\n",
        "        quotes = merge_time_series(quotes, df)\n",
        "\n",
        "    quotes = quotes.ffill()\n",
        "\n",
        "    if normalize_quotes:\n",
        "        quotes = normalize(quotes)\n",
        "\n",
        "    return quotes\n",
        "\n",
        "def compute_t_critical_region(alpha, df):\n",
        "    return stats.t.ppf(alpha,df),  stats.t.ppf(1-alpha,df)"
      ]
    },
    {
      "cell_type": "markdown",
      "metadata": {
        "id": "zC2dYMezCdv3"
      },
      "source": [
        "## Equação\n",
        "\n",
        "Passamos a ter uma regressão linear múltipla.\n",
        "\n",
        "Se no modelo linear tinhamos como função:\n",
        "\n",
        "$Y_i = b_0 + b_1X_i + ε_i$\n",
        "\n",
        "No modelo múltiplo temos:\n",
        "\n",
        "$Y_i = b_0 + b_1X1_i + b_2X_{2i} + … + b_kX_{ki} + ε_i$"
      ]
    },
    {
      "cell_type": "markdown",
      "metadata": {
        "id": "JXwhTY5wCpMM"
      },
      "source": [
        "## Exemplo (Exhibit 1 página 594)\n",
        "\n",
        "Queremos analisar o bid/ask spread de uma acção. A nossa teoria é que o número de [market makers](https://www.investopedia.com/terms/m/marketmaker.asp#:~:text=The%20term%20market%20maker%20refers,in%20the%20bid%2Dask%20spread.) **e** a capitalização bolsista da empresa têm ambos impacto no bid/ask spread.\n",
        "\n",
        "Ou seja, o nosso modelo vai ter em consideração duas variáveis independentes e uma dependente.\n",
        "\n",
        "- Variável dependente: Bid/ask spread da acção de uma empresa\n",
        "- Variável independente 1: O número de market makers\n",
        "- Variável independente 2: O capitalização bolsista da empresa\n",
        "\n",
        "A regressão resultou no seguinte quadro ANOVA:\n",
        "\n",
        "![](https://s3.us-east-2.amazonaws.com/cbs.pg.repository/img/BidAskSpreadExample.PNG)"
      ]
    },
    {
      "cell_type": "markdown",
      "metadata": {
        "id": "_Tit9SwLCzb0"
      },
      "source": [
        "### Equação\n",
        "\n",
        "Neste caso temos o modelo:\n",
        "\n",
        "$Y_i = 1.5949 - 1.5186 X1_i - 0.3790_2X_{2i} + ε_i$"
      ]
    },
    {
      "cell_type": "markdown",
      "metadata": {
        "id": "0mklG5SNDD9g"
      },
      "source": [
        "### Análise dos regressores\n",
        "\n",
        "Na análise da equação temos de ter cuidado pois ao analisarmos o impacto de uma variável temos de ter o cuidado que tudo o resto tem de se manter constante, ou seja as outras variáveis não se mexem.\n",
        "\n",
        "> Para aplicar este processo à nossa regressão vemos que o coeficiente da estimativa do coeficiente no logaritmo natural da capitalização de mercado é -0,3790. Portanto, o modelo prevê que um aumento de 1 no logaritmo natural da empresa a capitalização de mercado está associada a uma mudança de -0,3790 no logaritmo natural de a relação entre o spread bid-ask e o preço da ação, mantendo o logaritmo natural de o número de criadores de mercado constante."
      ]
    },
    {
      "cell_type": "markdown",
      "metadata": {
        "id": "j_lppSo-DL8l"
      },
      "source": [
        "### Significância ($F$)\n",
        "\n",
        "O \"Significance F\" mostra se o nosso modelo é explicativo. No nosso exemplo o analista tinha um intervalo de confiança de 0.01, ou 1%. Um Significance F inferior diz que o nosso modelo é de facto explicativo.\n",
        "\n",
        "Python e R mostram um p-value para cada variável independente e podemos ver imediatamente quais as variáveis que têm poder explicativo: [Multiple Regression Using Statsmodels](https://www.datarobot.com/blog/multiple-regression-using-statsmodels/) (no livro, neste exemplo eles calculam à mão)."
      ]
    },
    {
      "cell_type": "markdown",
      "metadata": {
        "id": "mtevs9aHDVxM"
      },
      "source": [
        "### Significância ($r^2$)\n",
        "\n",
        "Neste caso podemos ver no quadro o mutiple $r^2$ que no nosso caso é de 0.63 o que representa um valor significativo e nos diz que o modelo é significativo.\n",
        "\n",
        "Normalmente encontram também um $r^2$ ajustado. (ver no link do statsmodel acima).\n",
        "\n",
        "O que é o $r^2$?\n",
        "\n",
        "> This represents the R-squared value, adjusted for the number of predictor variables in the model.\n",
        "\n",
        "> This metric would be useful if we, say, fit another regression model with 10 predictors and found that the Adjusted R-squared of that model was 0.88. This would indicate that the regression model with just two predictors is better because it has a higher adjusted R-squared value.\n",
        "\n",
        "**Fonte**: statology.org"
      ]
    },
    {
      "cell_type": "markdown",
      "metadata": {
        "id": "05wkwWbiHDYv"
      },
      "source": [
        "### Variáveis que devemos tirar do modelo\n",
        "\n",
        "Nem todos as variáveis são necessáriamente explicativas: [An introduction to Statistical Learning](https://hastie.su.domains/ISLR2/ISLRv2_website.pdf) (página 84).\n",
        "\n",
        "Quando isso acontece devemos tirar as variáveis do modelo e se estamos correctos o r^2 ajustado no deverá descer e poderá até aumentar. Um modelo mais simples é superior ao mais complesxo. Não devemos adicionar variáveis só porque sim."
      ]
    },
    {
      "cell_type": "markdown",
      "metadata": {
        "id": "PzwMQXwdxfAc"
      },
      "source": [
        "## Pressupostos do modelo de Regressão Linear Múltipla\n",
        "\n",
        " - 1) A relação entre a variável deprendente e as variáveis independentes é linear;\n",
        " - 2) As variáveis independentes não são aleatórias, isto é são fixas e conhecidas. Não existe uma relação linear exacta entre as variáveis independentes;\n",
        " - 3) O valor esperado do termo de erro ε é 0;\n",
        " - 4) A variância do termo de erro é a mesma para todas as observações;\n",
        " - 5) As observações do termo de erro não são correlacionadas;\n",
        " - 6) O termo de erro é normalmente distribuído;\n",
        "\n",
        " Reparem que quase todas os pressupostos são semelhantes ao do modelo simples, sendo que adicionamos o pressuposto 2. A violação do pressuposto 2 resulta em multicolinearidade (exemplo do \"An introduction to Statistical Learning\" em que newspaper foi tirado por ser uma relação muito próxima com rádio)."
      ]
    },
    {
      "cell_type": "markdown",
      "metadata": {
        "id": "rzMcucXK842x"
      },
      "source": [
        "## Exemplo (Exhibit 3 pag. 602)\n",
        "\n",
        "Suponhamos que estamos a considerar um investimento no fundo Fidelity Select Technology Portfolio (FSPTX), um fundo de investimento dos EUA especializado em ações de tecnologia. Queremos saber se o fundo se comporta mais como um fundo de crescimento (growth) ou um fundo de grande valor (value).\n",
        "\n",
        "Vamos por isso comparar os retornos mensais de FSPTX com o índice S&P Growth 500 e com o índice S&P 500 Value.\n",
        "\n",
        "Este é o output do software:\n",
        "\n",
        "![](https://s3.us-east-2.amazonaws.com/cbs.pg.repository/img/FSPTX.PNG)\n",
        "\n",
        "Que é que podemos ver logo assim de relance?\n",
        "\n",
        "Significância do modelo? Coeficiente de determinação? Relação com o S&P 500 Growth e Value, positiva ou negativa?"
      ]
    },
    {
      "cell_type": "markdown",
      "metadata": {
        "id": "Mqpr0CinA1x3"
      },
      "source": [
        "### Exercício 1\n",
        "\n",
        "Num determinado mês há uma valorização do indíce growth de 1% e uma desvalorização do indíce Value em 2%. Qual o valor da variação que o nosso modelo estima para o fundo FSPTX?"
      ]
    },
    {
      "cell_type": "code",
      "execution_count": null,
      "metadata": {
        "colab": {
          "base_uri": "https://localhost:8080/"
        },
        "id": "jrD6_d-B8-Ye",
        "outputId": "f099bc6f-5eb3-4d0e-ad5d-b43df2bdc320"
      },
      "outputs": [
        {
          "data": {
            "text/plain": [
              "0.024753999999999998"
            ]
          },
          "execution_count": 16,
          "metadata": {},
          "output_type": "execute_result"
        }
      ],
      "source": [
        "# Yt = b0 + b1X1t + b2X2t + εt\n",
        "\n",
        "0.0011 + (1.5850*0.01) + (-0.3902*-0.02)"
      ]
    },
    {
      "cell_type": "markdown",
      "metadata": {
        "id": "QlU_i5xjAjIl"
      },
      "source": [
        "Contudo queremos saber se o indíce Growth tem um impacto no modelo, ou seja, se é individualmente significativo, com um grau de confiança de 5%\n",
        "\n",
        "Neste exemplo não temos o p-value mas temos a t-Statistic para cada uma das duas variáveis independentes.\n",
        "\n",
        "Podemos calcular a t-Statistic a partir da qual rejeitamos a hipotese nula.\n",
        "\n",
        "Neste caso a t-Statistic é:"
      ]
    },
    {
      "cell_type": "code",
      "execution_count": null,
      "metadata": {
        "colab": {
          "base_uri": "https://localhost:8080/"
        },
        "id": "rLPLQDfAUT3u",
        "outputId": "05e6a2a3-398b-4766-b1c8-5c524cd8e156"
      },
      "outputs": [
        {
          "data": {
            "text/plain": [
              "(-2.002465458054599, 2.0024654580545986)"
            ]
          },
          "execution_count": 20,
          "metadata": {},
          "output_type": "execute_result"
        }
      ],
      "source": [
        "compute_t_critical_region(0.025, 57)"
      ]
    },
    {
      "cell_type": "markdown",
      "metadata": {
        "id": "F5u_HTbPVjwe"
      },
      "source": [
        "Como o valor absoluto da t-Statistic para o Value é de 2.93, que sendo maior que 2 podemos dizer que é significativo.\n",
        "\n",
        "O que acontece se aumentarmos o grau de confiança para 1%?"
      ]
    },
    {
      "cell_type": "markdown",
      "metadata": {
        "id": "yJMWbFhlmfTY"
      },
      "source": [
        "### Fazendo o exercício em python\n",
        "\n",
        "Demonstração realista do exercício acima. Não é preciso saber mas precisam de saber intrepretar."
      ]
    },
    {
      "cell_type": "code",
      "execution_count": null,
      "metadata": {
        "colab": {
          "base_uri": "https://localhost:8080/"
        },
        "id": "Ks4d7rFXmiHr",
        "outputId": "3c1a300f-3b94-4a5f-ac92-bb2a1a7367cf"
      },
      "outputs": [
        {
          "name": "stdout",
          "output_type": "stream",
          "text": [
            "                            OLS Regression Results                            \n",
            "==============================================================================\n",
            "Dep. Variable:                  Ftech   R-squared:                       0.798\n",
            "Model:                            OLS   Adj. R-squared:                  0.797\n",
            "Method:                 Least Squares   F-statistic:                     483.2\n",
            "Date:                Fri, 25 Nov 2022   Prob (F-statistic):           1.40e-85\n",
            "Time:                        22:55:27   Log-Likelihood:                 479.35\n",
            "No. Observations:                 247   AIC:                            -952.7\n",
            "Df Residuals:                     244   BIC:                            -942.2\n",
            "Df Model:                           2                                         \n",
            "Covariance Type:            nonrobust                                         \n",
            "==============================================================================\n",
            "                 coef    std err          t      P>|t|      [0.025      0.975]\n",
            "------------------------------------------------------------------------------\n",
            "Intercept     -0.0007      0.002     -0.323      0.747      -0.005       0.004\n",
            "Growth         1.7925      0.100     17.959      0.000       1.596       1.989\n",
            "Value         -0.2709      0.097     -2.801      0.006      -0.461      -0.080\n",
            "==============================================================================\n",
            "Omnibus:                       25.452   Durbin-Watson:                   2.232\n",
            "Prob(Omnibus):                  0.000   Jarque-Bera (JB):               86.095\n",
            "Skew:                           0.318   Prob(JB):                     2.02e-19\n",
            "Kurtosis:                       5.822   Cond. No.                         60.3\n",
            "==============================================================================\n",
            "\n",
            "Notes:\n",
            "[1] Standard Errors assume that the covariance matrix of the errors is correctly specified.\n"
          ]
        }
      ],
      "source": [
        "# ANALIZAR QUEBRA EM 2020\n",
        "\n",
        "tickers = ['FSPTX', 'IVW', 'IVE']\n",
        "nomes = ['Ftech', 'Growth', 'Value']\n",
        "\n",
        "quotes = download_yahoo_data(tickers, nomes).resample('BM').last().pct_change().dropna()\n",
        "\n",
        "quotes = quotes['2000':'2020']\n",
        "\n",
        "#create dataset\n",
        "df = pd.DataFrame({'Ftech': list(quotes['FSPTX']),\n",
        "                   'Growth': list(quotes['IVW']),\n",
        "                   'Value': list(quotes['IVE'])\n",
        "                   })\n",
        "\n",
        "# As variáveis independentes do modelo\n",
        "#fit regression model\n",
        "fit = smf.ols('Ftech ~ Growth+Value', data=df).fit()\n",
        "\n",
        "#view model summary\n",
        "print(fit.summary())"
      ]
    },
    {
      "cell_type": "markdown",
      "metadata": {
        "id": "vRYMqWnldVMz"
      },
      "source": [
        "## Análise de qualidade do modelo"
      ]
    },
    {
      "cell_type": "markdown",
      "metadata": {
        "id": "RHbGnAyjgBPQ"
      },
      "source": [
        "### Estatística F\n",
        "\n",
        "Como já vimos em cima o test F diz-nos se o modelo como um todo é significativo mas não nos diz se cada variável é significativa.\n",
        "\n",
        "Temos também interessantes interacções entre a validade individual e colectiva das variáveis independentes\n",
        "\n",
        "- Se nenhuma das variáveis ​​independentes num modelo de regressão for significativa, o modelo como um todo também não o é;\n",
        "\n",
        "- Numa regressão múltipla, no entanto, não podemos apenas testar individualmente todas as variáveis independentes, porque os testes individuais não têm em conta os efeitos das interações entre as variáveis ​​independentes. Ou seja, podem haver variáveis independentes que individualmente são significativas mas colectivamente não acrescentam capacidade explicativa ao modelo.\n",
        "\n",
        "- A estatística $F$ mede o quanto as variáveis independentes, como um todo, têm boa capacidade explicativa da variável dependente;\n",
        "\n",
        "- A estatística $T$ mede o quanto um variável independente têm capacidade explicativa sobre a variável dependente. Um análise individual de relevância não é suficiente para extrapolar para relevância num modelo múltiplo."
      ]
    },
    {
      "cell_type": "markdown",
      "metadata": {
        "id": "36Ok_-SSgOrh"
      },
      "source": [
        "### $r^2$ Ajustado\n",
        "\n",
        "Em modelos de regressão múltipla não usamos o $r^2$ normal mas sim o $r^2$ ajustado. Chama-se ajustado porque tem em conta o número de variáveis independentes. Assim, ao adicionarmos uma variável a um modelo se ela não tiver capacidade explicativa estaremos a diminuir o $r^2$ ajustado enquanto o $r^2$ fica estável."
      ]
    },
    {
      "cell_type": "markdown",
      "metadata": {
        "id": "pcbWUnR5Aj07"
      },
      "source": [
        "## Caso real. Decomposição de um ETF\n",
        "\n",
        "https://deepnote.com/@luisilva/IWDA-vs-Smart-Beta-62f360bf-772a-4260-9112-a75b9ae652ba"
      ]
    },
    {
      "cell_type": "markdown",
      "metadata": {
        "id": "sqJT2H7JkLYV"
      },
      "source": [
        "## Violação dos pressupostos"
      ]
    },
    {
      "cell_type": "markdown",
      "metadata": {
        "id": "GA_E6qjBkP-G"
      },
      "source": [
        "### Existência de heterocedasticidade\n",
        "\n",
        "![](https://s3.us-east-2.amazonaws.com/cbs.pg.repository/img/Homoskedasticity.PNG)\n",
        "\n",
        "![](https://s3.us-east-2.amazonaws.com/cbs.pg.repository/img/Heteroskedasticity.PNG)\n",
        "\n",
        "> Quando os erros são heterocedásticos, o teste F para a significância geral da regressão não é confiável. Isso ocorre porque o erro médio quadrado é um estimador enviesado do verdadeiro variância populacional dada a heteroscedasticidade.\n",
        "\n",
        "> Além disso, testes t para a significância de\n",
        "coeficientes de regressão individuais não são confiáveis ​​porque a heteroscedasticidade introduz envisamentos nos estimadores do erro padrão dos coeficientes de regressão. Se uma regressão mostra heterocedasticidade significativa, os erros padrão e estatísticas de teste dados por\n",
        "software de regressão estarão incorretos, a menos que sejam ajustados para heterocedasticidade."
      ]
    },
    {
      "cell_type": "markdown",
      "metadata": {
        "id": "OIH7yOul27sk"
      },
      "source": [
        "#### Podemos testar heterocedasticidade?\n",
        "\n",
        "Sim, com o teste de Breush and Pagan. Vamos aproveitar para fazer uma regressão linear multipla em python ao mesmo tempo que fazemos um teste de Breush and Pagan."
      ]
    },
    {
      "cell_type": "code",
      "execution_count": null,
      "metadata": {
        "colab": {
          "base_uri": "https://localhost:8080/",
          "height": 363
        },
        "id": "N4grMIm60B-h",
        "outputId": "63595a0c-a798-4017-f9c0-2ab533efb178"
      },
      "outputs": [
        {
          "data": {
            "text/html": [
              "\n",
              "  <div id=\"df-32e3dbea-9208-41f3-8159-5ca711d2c2b9\">\n",
              "    <div class=\"colab-df-container\">\n",
              "      <div>\n",
              "<style scoped>\n",
              "    .dataframe tbody tr th:only-of-type {\n",
              "        vertical-align: middle;\n",
              "    }\n",
              "\n",
              "    .dataframe tbody tr th {\n",
              "        vertical-align: top;\n",
              "    }\n",
              "\n",
              "    .dataframe thead th {\n",
              "        text-align: right;\n",
              "    }\n",
              "</style>\n",
              "<table border=\"1\" class=\"dataframe\">\n",
              "  <thead>\n",
              "    <tr style=\"text-align: right;\">\n",
              "      <th></th>\n",
              "      <th>rating</th>\n",
              "      <th>points</th>\n",
              "      <th>assists</th>\n",
              "      <th>rebounds</th>\n",
              "    </tr>\n",
              "  </thead>\n",
              "  <tbody>\n",
              "    <tr>\n",
              "      <th>0</th>\n",
              "      <td>90</td>\n",
              "      <td>25</td>\n",
              "      <td>5</td>\n",
              "      <td>11</td>\n",
              "    </tr>\n",
              "    <tr>\n",
              "      <th>1</th>\n",
              "      <td>85</td>\n",
              "      <td>20</td>\n",
              "      <td>7</td>\n",
              "      <td>8</td>\n",
              "    </tr>\n",
              "    <tr>\n",
              "      <th>2</th>\n",
              "      <td>82</td>\n",
              "      <td>14</td>\n",
              "      <td>7</td>\n",
              "      <td>10</td>\n",
              "    </tr>\n",
              "    <tr>\n",
              "      <th>3</th>\n",
              "      <td>88</td>\n",
              "      <td>16</td>\n",
              "      <td>8</td>\n",
              "      <td>6</td>\n",
              "    </tr>\n",
              "    <tr>\n",
              "      <th>4</th>\n",
              "      <td>94</td>\n",
              "      <td>27</td>\n",
              "      <td>5</td>\n",
              "      <td>6</td>\n",
              "    </tr>\n",
              "    <tr>\n",
              "      <th>5</th>\n",
              "      <td>90</td>\n",
              "      <td>20</td>\n",
              "      <td>7</td>\n",
              "      <td>9</td>\n",
              "    </tr>\n",
              "    <tr>\n",
              "      <th>6</th>\n",
              "      <td>76</td>\n",
              "      <td>12</td>\n",
              "      <td>6</td>\n",
              "      <td>6</td>\n",
              "    </tr>\n",
              "    <tr>\n",
              "      <th>7</th>\n",
              "      <td>75</td>\n",
              "      <td>15</td>\n",
              "      <td>9</td>\n",
              "      <td>10</td>\n",
              "    </tr>\n",
              "    <tr>\n",
              "      <th>8</th>\n",
              "      <td>87</td>\n",
              "      <td>14</td>\n",
              "      <td>9</td>\n",
              "      <td>10</td>\n",
              "    </tr>\n",
              "    <tr>\n",
              "      <th>9</th>\n",
              "      <td>86</td>\n",
              "      <td>19</td>\n",
              "      <td>5</td>\n",
              "      <td>7</td>\n",
              "    </tr>\n",
              "  </tbody>\n",
              "</table>\n",
              "</div>\n",
              "      <button class=\"colab-df-convert\" onclick=\"convertToInteractive('df-32e3dbea-9208-41f3-8159-5ca711d2c2b9')\"\n",
              "              title=\"Convert this dataframe to an interactive table.\"\n",
              "              style=\"display:none;\">\n",
              "        \n",
              "  <svg xmlns=\"http://www.w3.org/2000/svg\" height=\"24px\"viewBox=\"0 0 24 24\"\n",
              "       width=\"24px\">\n",
              "    <path d=\"M0 0h24v24H0V0z\" fill=\"none\"/>\n",
              "    <path d=\"M18.56 5.44l.94 2.06.94-2.06 2.06-.94-2.06-.94-.94-2.06-.94 2.06-2.06.94zm-11 1L8.5 8.5l.94-2.06 2.06-.94-2.06-.94L8.5 2.5l-.94 2.06-2.06.94zm10 10l.94 2.06.94-2.06 2.06-.94-2.06-.94-.94-2.06-.94 2.06-2.06.94z\"/><path d=\"M17.41 7.96l-1.37-1.37c-.4-.4-.92-.59-1.43-.59-.52 0-1.04.2-1.43.59L10.3 9.45l-7.72 7.72c-.78.78-.78 2.05 0 2.83L4 21.41c.39.39.9.59 1.41.59.51 0 1.02-.2 1.41-.59l7.78-7.78 2.81-2.81c.8-.78.8-2.07 0-2.86zM5.41 20L4 18.59l7.72-7.72 1.47 1.35L5.41 20z\"/>\n",
              "  </svg>\n",
              "      </button>\n",
              "      \n",
              "  <style>\n",
              "    .colab-df-container {\n",
              "      display:flex;\n",
              "      flex-wrap:wrap;\n",
              "      gap: 12px;\n",
              "    }\n",
              "\n",
              "    .colab-df-convert {\n",
              "      background-color: #E8F0FE;\n",
              "      border: none;\n",
              "      border-radius: 50%;\n",
              "      cursor: pointer;\n",
              "      display: none;\n",
              "      fill: #1967D2;\n",
              "      height: 32px;\n",
              "      padding: 0 0 0 0;\n",
              "      width: 32px;\n",
              "    }\n",
              "\n",
              "    .colab-df-convert:hover {\n",
              "      background-color: #E2EBFA;\n",
              "      box-shadow: 0px 1px 2px rgba(60, 64, 67, 0.3), 0px 1px 3px 1px rgba(60, 64, 67, 0.15);\n",
              "      fill: #174EA6;\n",
              "    }\n",
              "\n",
              "    [theme=dark] .colab-df-convert {\n",
              "      background-color: #3B4455;\n",
              "      fill: #D2E3FC;\n",
              "    }\n",
              "\n",
              "    [theme=dark] .colab-df-convert:hover {\n",
              "      background-color: #434B5C;\n",
              "      box-shadow: 0px 1px 3px 1px rgba(0, 0, 0, 0.15);\n",
              "      filter: drop-shadow(0px 1px 2px rgba(0, 0, 0, 0.3));\n",
              "      fill: #FFFFFF;\n",
              "    }\n",
              "  </style>\n",
              "\n",
              "      <script>\n",
              "        const buttonEl =\n",
              "          document.querySelector('#df-32e3dbea-9208-41f3-8159-5ca711d2c2b9 button.colab-df-convert');\n",
              "        buttonEl.style.display =\n",
              "          google.colab.kernel.accessAllowed ? 'block' : 'none';\n",
              "\n",
              "        async function convertToInteractive(key) {\n",
              "          const element = document.querySelector('#df-32e3dbea-9208-41f3-8159-5ca711d2c2b9');\n",
              "          const dataTable =\n",
              "            await google.colab.kernel.invokeFunction('convertToInteractive',\n",
              "                                                     [key], {});\n",
              "          if (!dataTable) return;\n",
              "\n",
              "          const docLinkHtml = 'Like what you see? Visit the ' +\n",
              "            '<a target=\"_blank\" href=https://colab.research.google.com/notebooks/data_table.ipynb>data table notebook</a>'\n",
              "            + ' to learn more about interactive tables.';\n",
              "          element.innerHTML = '';\n",
              "          dataTable['output_type'] = 'display_data';\n",
              "          await google.colab.output.renderOutput(dataTable, element);\n",
              "          const docLink = document.createElement('div');\n",
              "          docLink.innerHTML = docLinkHtml;\n",
              "          element.appendChild(docLink);\n",
              "        }\n",
              "      </script>\n",
              "    </div>\n",
              "  </div>\n",
              "  "
            ],
            "text/plain": [
              "   rating  points  assists  rebounds\n",
              "0      90      25        5        11\n",
              "1      85      20        7         8\n",
              "2      82      14        7        10\n",
              "3      88      16        8         6\n",
              "4      94      27        5         6\n",
              "5      90      20        7         9\n",
              "6      76      12        6         6\n",
              "7      75      15        9        10\n",
              "8      87      14        9        10\n",
              "9      86      19        5         7"
            ]
          },
          "execution_count": 7,
          "metadata": {},
          "output_type": "execute_result"
        }
      ],
      "source": [
        "import numpy as np\n",
        "import pandas as pd\n",
        "\n",
        "#create dataset\n",
        "df = pd.DataFrame({'rating': [90, 85, 82, 88, 94, 90, 76, 75, 87, 86],\n",
        "                   'points': [25, 20, 14, 16, 27, 20, 12, 15, 14, 19],\n",
        "                   'assists': [5, 7, 7, 8, 5, 7, 6, 9, 9, 5],\n",
        "                   'rebounds': [11, 8, 10, 6, 6, 9, 6, 10, 10, 7]})\n",
        "\n",
        "#view dataset\n",
        "df"
      ]
    },
    {
      "cell_type": "code",
      "execution_count": null,
      "metadata": {
        "colab": {
          "base_uri": "https://localhost:8080/"
        },
        "id": "8odLWFagyUqA",
        "outputId": "dd20b380-1ded-4468-c315-485af3e4d7ad"
      },
      "outputs": [
        {
          "name": "stdout",
          "output_type": "stream",
          "text": [
            "                            OLS Regression Results                            \n",
            "==============================================================================\n",
            "Dep. Variable:                 rating   R-squared:                       0.623\n",
            "Model:                            OLS   Adj. R-squared:                  0.434\n",
            "Method:                 Least Squares   F-statistic:                     3.299\n",
            "Date:                Wed, 23 Nov 2022   Prob (F-statistic):             0.0995\n",
            "Time:                        17:16:11   Log-Likelihood:                -26.862\n",
            "No. Observations:                  10   AIC:                             61.72\n",
            "Df Residuals:                       6   BIC:                             62.93\n",
            "Df Model:                           3                                         \n",
            "Covariance Type:            nonrobust                                         \n",
            "==============================================================================\n",
            "                 coef    std err          t      P>|t|      [0.025      0.975]\n",
            "------------------------------------------------------------------------------\n",
            "Intercept     62.4716     14.588      4.282      0.005      26.776      98.168\n",
            "points         1.1193      0.411      2.724      0.034       0.114       2.125\n",
            "assists        0.8834      1.381      0.640      0.546      -2.495       4.262\n",
            "rebounds      -0.4278      0.851     -0.503      0.633      -2.510       1.655\n",
            "==============================================================================\n",
            "Omnibus:                        2.711   Durbin-Watson:                   2.392\n",
            "Prob(Omnibus):                  0.258   Jarque-Bera (JB):                0.945\n",
            "Skew:                          -0.751   Prob(JB):                        0.624\n",
            "Kurtosis:                       3.115   Cond. No.                         217.\n",
            "==============================================================================\n",
            "\n",
            "Notes:\n",
            "[1] Standard Errors assume that the covariance matrix of the errors is correctly specified.\n"
          ]
        },
        {
          "name": "stderr",
          "output_type": "stream",
          "text": [
            "/usr/local/lib/python3.7/dist-packages/scipy/stats/stats.py:1542: UserWarning: kurtosistest only valid for n>=20 ... continuing anyway, n=10\n",
            "  \"anyway, n=%i\" % int(n))\n"
          ]
        }
      ],
      "source": [
        "import statsmodels.formula.api as smf\n",
        "\n",
        "# TESTAR TIRAR UMA OU OUTRA VARIÁVEL E VER O R^R, R^2 AJUSTADO E O F E NO PROB\n",
        "#fit regression model\n",
        "fit = smf.ols('rating ~ points+assists+rebounds', data=df).fit()\n",
        "\n",
        "#view model summary\n",
        "print(fit.summary())"
      ]
    },
    {
      "cell_type": "code",
      "execution_count": null,
      "metadata": {
        "colab": {
          "base_uri": "https://localhost:8080/"
        },
        "id": "V-Sevikv0fCh",
        "outputId": "1fccaad4-6165-49ba-8d28-7a2222374963"
      },
      "outputs": [
        {
          "data": {
            "text/plain": [
              "[('Lagrange multiplier statistic', 6.003951995818433),\n",
              " ('p-value', 0.11141811013399583),\n",
              " ('f-value', 3.004944880309618),\n",
              " ('f p-value', 0.11663863538255281)]"
            ]
          },
          "execution_count": 9,
          "metadata": {},
          "output_type": "execute_result"
        }
      ],
      "source": [
        "from statsmodels.compat import lzip\n",
        "import statsmodels.stats.api as sms\n",
        "\n",
        "#perform Bresuch-Pagan test\n",
        "names = ['Lagrange multiplier statistic', 'p-value',\n",
        "        'f-value', 'f p-value']\n",
        "test = sms.het_breuschpagan(fit.resid, fit.model.exog)\n",
        "\n",
        "lzip(names, test)"
      ]
    },
    {
      "cell_type": "markdown",
      "metadata": {
        "id": "E0Bw0lMZ29cJ"
      },
      "source": [
        "#### Corrigir heterocedasticidade\n",
        "\n",
        "heterocedasticidade"
      ]
    },
    {
      "cell_type": "code",
      "execution_count": null,
      "metadata": {
        "colab": {
          "base_uri": "https://localhost:8080/"
        },
        "id": "f86xhqm_0gt4",
        "outputId": "0c967cf8-f9e0-4767-bff5-371f4b15ab9e"
      },
      "outputs": [
        {
          "name": "stdout",
          "output_type": "stream",
          "text": [
            "                            OLS Regression Results                            \n",
            "==============================================================================\n",
            "Dep. Variable:                 rating   R-squared:                       0.623\n",
            "Model:                            OLS   Adj. R-squared:                  0.434\n",
            "Method:                 Least Squares   F-statistic:                     3.414\n",
            "Date:                Wed, 23 Nov 2022   Prob (F-statistic):             0.0937\n",
            "Time:                        17:16:11   Log-Likelihood:                -26.862\n",
            "No. Observations:                  10   AIC:                             61.72\n",
            "Df Residuals:                       6   BIC:                             62.93\n",
            "Df Model:                           3                                         \n",
            "Covariance Type:                  HC3                                         \n",
            "==============================================================================\n",
            "                 coef    std err          z      P>|z|      [0.025      0.975]\n",
            "------------------------------------------------------------------------------\n",
            "Intercept     62.4716     21.501      2.906      0.004      20.331     104.612\n",
            "points         1.1193      0.441      2.537      0.011       0.255       1.984\n",
            "assists        0.8834      1.923      0.459      0.646      -2.886       4.653\n",
            "rebounds      -0.4278      0.748     -0.572      0.567      -1.894       1.038\n",
            "==============================================================================\n",
            "Omnibus:                        2.711   Durbin-Watson:                   2.392\n",
            "Prob(Omnibus):                  0.258   Jarque-Bera (JB):                0.945\n",
            "Skew:                          -0.751   Prob(JB):                        0.624\n",
            "Kurtosis:                       3.115   Cond. No.                         217.\n",
            "==============================================================================\n",
            "\n",
            "Notes:\n",
            "[1] Standard Errors are heteroscedasticity robust (HC3)\n"
          ]
        },
        {
          "name": "stderr",
          "output_type": "stream",
          "text": [
            "/usr/local/lib/python3.7/dist-packages/scipy/stats/stats.py:1542: UserWarning: kurtosistest only valid for n>=20 ... continuing anyway, n=10\n",
            "  \"anyway, n=%i\" % int(n))\n"
          ]
        }
      ],
      "source": [
        "import statsmodels.formula.api as smf\n",
        "\n",
        "# SE O MODELO SOFRESSE DE HETEROCEDASTICIDADE (que não é o caso)\n",
        "#fit regression model\n",
        "fit = smf.ols('rating ~ points+assists+rebounds', data=df).fit(cov_type = \"HC3\")\n",
        "\n",
        "#view model summary\n",
        "print(fit.summary())"
      ]
    },
    {
      "cell_type": "markdown",
      "metadata": {
        "id": "H_RXVYEh5LTd"
      },
      "source": [
        "### Correlação em série\n",
        "\n",
        "Um problema mais comum - e potencialmente mais sério - do que a violação do pressuposto de homoscedasticidade é a violação do pressuposto de que os erros de regressão não estão correlacionados entre as observações.\n",
        "\n",
        "Tentar explicar uma relação financeira específica ao longo de vários períodos é arriscado porque erros em modelos de regressão financeira são muitas vezes correlacionados ao longo do tempo.\n",
        "\n",
        "Quando os erros de regressão são correlacionados entre as observações, dizemos que eles são correlacionados (ou autocorrelacionados). A correlação em série geralmente surge em regressões de séries temporais\n",
        "\n",
        "\n",
        "Tal como acontece com a heteroscedasticidade, o principal problema causado pela correlação em série numa regressão linear é uma estimativa incorreta dos erros padrão do coeficiente de egressão computados por pacotes de software estatístico. Desde que nenhuma das variáveis ​​independentes seja um valor defasado da variável dependente (um valor da variável dependente\n",
        "de um período anterior), então os próprios parâmetros estimados serão consistentes e não precisam ser ajustados para os efeitos da correlação em série. Se, porém, uma das variáveis ​​independentes é um valor defasado da variável dependente regressão de efeito - então a correlação emsérie no termo de erro fará com que todos os parâmetros estimados pela regressão linear sejam inconsistentes e não serão estimativas válidas dos verdadeiros parâmetros."
      ]
    },
    {
      "cell_type": "markdown",
      "metadata": {
        "id": "piKDGguR-aC8"
      },
      "source": [
        "#### Testar correlação em série\n",
        "\n",
        "Embora haja muitos testes para analisar se o nosso modelo sofre de correlação em série a mais comum e que é output padrão de software estatístico é o teste de Durbin-Watson.\n",
        "\n",
        "Se o nosso modelo **não** sofrer de correlação em série o valor de DW vai ser próximo de 2 (ver acima análise do fundo tecnológico). Se DW variar muito (para cima ou para baixo) é provável que o nosso modelo sofra de correlação em série e mais testes serão necessários para confirmarmos (fazemos um teste de hipótese que o valor de DW é estatisticamente diferente de 2, ao nível de confiança desejado).\n",
        "\n",
        "A diferença num modelo destes e num teste de autocorrelação [ACF](https://s3.us-east-2.amazonaws.com/cbs.pg.repository/img/ACF.png) que vimos no capítulo anterior é que agora não estamos apenas a ver autocorrelação de uma só variável , mas também de ligações e autocorrelações entre  as diferentes variáveis."
      ]
    },
    {
      "cell_type": "markdown",
      "metadata": {
        "id": "5K_DomFGCGWw"
      },
      "source": [
        "#### Corrigir correlação em série\n",
        "\n",
        "O método para corrigir correlação em série é semelhante que para corrigir heterocedasticidade. Usar \"erros padrões robustos\" no modelo usando a opção *cov_type = \"HAC\"* no software.\n",
        "\n",
        "A vantagem é que usando HAC obtemos valores robustos quer para correlação em série como para heterocedasticidade."
      ]
    },
    {
      "cell_type": "markdown",
      "metadata": {
        "id": "CA9d2PraH2ZK"
      },
      "source": [
        "### Multicolinearidade"
      ]
    },
    {
      "cell_type": "markdown",
      "metadata": {
        "id": "6QlFvg60DbN0"
      },
      "source": [
        "#### Impacto da multicolinearidade\n",
        "\n",
        "Multicolinearidade acontece occore quando dois ou mais variáveis independentes (ou combinação entre elas) são altamente correlacionadas.\n",
        "\n",
        "O que queremos dizer com isso?\n",
        "\n",
        "No modelo em qua analisamos o fundo tecnológico temos como variáveis independentes o S&P 500 Growth e o S&P500 Value. O que acham que acontece se adicionarmos o S&P500?\n",
        "\n",
        "![](https://s3.us-east-2.amazonaws.com/cbs.pg.repository/img/Multicolinearidade1.PNG)\n",
        "\n",
        "![](https://s3.us-east-2.amazonaws.com/cbs.pg.repository/img/Multicolinearidade2.PNG)\n",
        "\n",
        "![](https://s3.us-east-2.amazonaws.com/cbs.pg.repository/img/Multicolinearidade3.PNG)\n",
        "\n",
        "Quais foram as consequências? Porque é que aconteceu?"
      ]
    },
    {
      "cell_type": "markdown",
      "metadata": {
        "id": "6e0unGI2HEE_"
      },
      "source": [
        "#### Como corrigir multicolinearidade?\n",
        "\n",
        "A forma mais simples é mesmo tirar a variável independente que está a criar o problema."
      ]
    },
    {
      "cell_type": "markdown",
      "metadata": {
        "id": "hv_FqfiOIwBv"
      },
      "source": [
        "### Resumo\n",
        "\n",
        "![](https://s3.us-east-2.amazonaws.com/cbs.pg.repository/img/resumo_errors.PNG)"
      ]
    },
    {
      "cell_type": "markdown",
      "metadata": {
        "id": "1vOfjqhnfvOE"
      },
      "source": [
        "## Princípios de especificação do modelo\n",
        "\n",
        "**1) O modelo deve ser fundamentado num raciocínio económico e/ou financeiro que faça sentido.**\n",
        "\n",
        "Deveríamos ser capazes de perceber e explicar o raciocínio económico por detrás da escolha das variáveis e oraciocínio deve fazer sentido. Quando esta condição é satisfeita, aumentamos as nossas hipóteses de que o modelo terá valor preditivo com novos dados.\n",
        "\n",
        "Esta abordagem contrasta com o processo de seleção de variáveis conhecido como data mining. Em data mining, o investigador desenvolve essencialmente um modelo que explora ao máximo as características de um conjunto de dados específico. Capacidade preditiva é limitada devido ao modelo ser demasiado ajustado aos dados do passado.\n",
        "\n",
        "**2) A forma funcional escolhida para as variáveis na regressão deve ser apropriada dada a natureza das variáveis.**\n",
        "\n",
        "**3) O modelo deve ser parcimonioso** .\n",
        "\n",
        "Neste contexto, “parcimonioso” significa realizando muito com pouco. Devemos esperar que cada variável incluída na regressão desempenhe um papel essencial.\n",
        "\n",
        "**4) O modelo deve ser examinado quanto a violações das suposições de regressão antes sendo aceito.**\n",
        "\n",
        "**5) O modelo deve ser testado e considerado útil fora da amostra antes de ser\n",
        "aceite**\n",
        "\n",
        "Um exemplo pode ser uma optimização de carteira. É noormal deixarmos os 2 ou 3 anos mais recentes fora da optimização e depois analisarmos se a optimização funciona fora da amostra e se a optimização não perdeu qualidade.\n",
        "\n",
        "O mesmo para testar a capacidade preditiva de modelos. Se temos dados desde 2000 até 2022 usamos 2000 a 2019 para fazer o modelo. Devemos depois testa-lo no período 2019 a 2022. Embora para nós 2019 a 2022 seja passado a verdade é que para o modelo é futuro.\n",
        "\n"
      ]
    },
    {
      "cell_type": "markdown",
      "metadata": {
        "id": "r6rX6bD0faZV"
      },
      "source": [
        "## Erros de especificação do modelo\n",
        "\n",
        "- Variáveis omitidas (propositadamente ou não);\n",
        "- Escala errada na variável (podemos ter de usar o log para o modelo fazer sentido como no caso do GDP e esperança média de vida);\n",
        "- Dados inadequados. A amostra pode não ser a melhor ou relevante (erro de capítulo 5);"
      ]
    },
    {
      "cell_type": "markdown",
      "metadata": {
        "id": "Hz_ZF8nAnKNu"
      },
      "source": [
        "## Erros de especificação particular de séries temporais\n",
        "\n",
        "- Incluindo variáveis dependentes defasadas como variáveis independentes em regressões com erros correlacionados serialmente;\n",
        "- Inclusão de uma função de uma variável dependente como variável independente, às vezes como resultado da datação incorreta das variáveis;\n",
        "- Variáveis independentes que são medidas com erro;\n",
        "- Uso de variáveis não estacionárias.\n",
        "\n",
        "De longe, a fonte mais frequente de especificação incorreta em regressões lineares que usam séries temporais de duas ou mais variáveis diferentes é uso de variáveis não estacionárias. Muito grosseiramente, não estacionariedade significa que as propriedades de uma variável, como média e variância, são não constante ao longo do tempo.\n",
        "\n",
        "Por exemplo usar as cotações dos fundos em análises, em vez de usar os retornos."
      ]
    },
    {
      "cell_type": "markdown",
      "metadata": {
        "id": "iG98qf8w-Ni-"
      },
      "source": [
        "## Modelos com variáveis dependentes qualitativas (ou categóricas)\n",
        "\n",
        "O que são variáveis categóricas?\n",
        "- O rating de uma obrigação por exemplo. AAA, AA, BB, B, C etc etc;\n",
        "- Uma empresa ir à falência;\n",
        "- Um cliente de um banco que vai falar o pagamento de um cartão de crédito.\n",
        "\n",
        "Ao contrário da com a regressão linear \"normal\", a variável dependente aqui não é contínua mas sim discreta. E o resultado que pretendemos analisar é binário. O cliente ou falha o pagamento do cartão de crédito ou não.\n",
        "\n",
        "Para estimar um modelo desse género, infelizmente, a regressão linear não é o melhor modelo estatístico.\n",
        "\n",
        "Temos, por isso, que transformar o nosso modelo e a transformação mais comum é usar uma Regressão logística.\n",
        "\n",
        "Modelos de regressão logística são usados ​​para estimar a probabilidade de um resultado discreto tendo em consideração os valores das variáveis ​​independentes usadas para explicar esse resultado.\n",
        "\n",
        "![](https://s3.us-east-2.amazonaws.com/cbs.pg.repository/img/Logit.PNG)"
      ]
    },
    {
      "cell_type": "markdown",
      "metadata": {
        "id": "wwhbff_rGpqV"
      },
      "source": [
        "### Problema e resolução (Example 3 pag. 647)\n",
        "\n",
        "Um modelo para estudar o que influência a atribuição de um prémio a um CEO resultou neste output (prémio não monetário mas mais estilo CEO do ano. Ou se ganha ou não).\n",
        "\n",
        "![](https://s3.us-east-2.amazonaws.com/cbs.pg.repository/img/CEOAwards.PNG)\n",
        "\n",
        "As variáveis independentes incluem\n",
        "- BOOK-TO-MARKET (rácio do valor contabilístico em relação ao de mercado);\n",
        "- LNSIZE (o logaritmo natural do valor de mercado do\n",
        "patrimônio da empresa);\n",
        "- RETURN-1TO3, RETURN-4TO6, RETURN-7TO12 (total\n",
        "retorno durante os meses 1–3, 4–6 e 7–12 antes do mês de premiação, respectivamente);\n",
        "- LNTENURE (o log natural do mandato do CEO com uma empresa em número\n",
        "de anos);\n",
        "- FEMALE (uma variável dummy que assume o valor 1 se o CEO for\n",
        "uma mulher).\n",
        "\n"
      ]
    },
    {
      "cell_type": "markdown",
      "metadata": {
        "id": "zWs0FVwQIwp_"
      },
      "source": [
        "**Conceito** - Variável Dummy. Podemos ter no nosso modelo variáveis independentes binárias, ou seja que tomam o valor 0 ou 1. Como neste caso o caso de a CEO ser uma mulher ou não. A leitura do output não é diferente de uma variável contínua.\n",
        "\n",
        "**Questões:**\n",
        "\n",
        "**1 -** Qual das opções a seguir é a razão para Kim Dalton escolher um logit\n",
        "regressão para sua análise?\n",
        "- **a)** AWARD é uma variável binária;\n",
        "- **b)** FEMALE é uma variável binária;\n",
        "- **c)** Duas variáveis binárias estão no modelo."
      ]
    },
    {
      "cell_type": "code",
      "execution_count": null,
      "metadata": {
        "cellView": "form",
        "id": "7vT-eEBhHMMC"
      },
      "outputs": [],
      "source": [
        "#@title\n",
        "'''\n",
        "A resposta correcta é a alínea A. Não interessa se há uma variável binárias nas variáveis independentes. O que interessa é se a variável dependente é binária ou não.\n",
        "\n",
        "'''"
      ]
    },
    {
      "cell_type": "markdown",
      "metadata": {
        "id": "NNxxdcm9KKA7"
      },
      "source": [
        "**2-** Que empresas são mais prováveis que tenham o CEO vencedor?\n",
        "\n",
        "- **a)** Grandes empresas com alto índice book-to-market e cujas acções\n",
        "obtiveram altos retornos nos meses 7–12 antes do mês da atribuição do prémio;\n",
        "- **b)** Grandes empresas com baixo índice book-to-market e cujas acções\n",
        "obtiveram altos retornos nos meses 4-6 antes do mês da atribuição do prémio;\n",
        "- **c)** Grandes empresas com baixo índice book-to-market e cujas acções\n",
        "obtiveram altos retornos nos meses 7–12 antes do mês da atribuição do prémio."
      ]
    },
    {
      "cell_type": "code",
      "execution_count": null,
      "metadata": {
        "cellView": "form",
        "id": "gTliRotyj9Ej",
        "tags": [
          "hide-input"
        ]
      },
      "outputs": [],
      "source": [
        "'''\n",
        "O book to market tem uma relação negativa com a atribuição do prémio (coeficiente −0.0618) logo a alína a) está excluída.\n",
        "\n",
        "Agora só temos de ver qual a variável, entre RETURN-4TO6 RETURN-7TO12, que contibui mais para a atribuição do prémio. Neste caso é a RETURN-7TO12 com um coeficiente de 0.9345.\n",
        "\n",
        "A resposta correcta é, por isso a alínea c).\n",
        "\n",
        "'''"
      ]
    },
    {
      "cell_type": "markdown",
      "metadata": {
        "id": "F17v8RmNkMcN"
      },
      "source": [
        "**3 -** Qual dos seguintes tipos de CEOs tem maior probabilidade de ganhar um prêmio?\n",
        "\n",
        "- **a)** Mulheres com um longo mandato na empresa.\n",
        "- **b)** Mulheres com um curto mandato na empresa.\n",
        "- **c)** Homens com um longo mandato na empresa."
      ]
    },
    {
      "cell_type": "code",
      "execution_count": null,
      "metadata": {
        "id": "UUCmaV-UkJAj",
        "tags": [
          "hide-input"
        ]
      },
      "outputs": [],
      "source": [
        "'''\n",
        "Ao analisarmos a variável independente LNTENURE podemos ver que CEOs que estão há mais tempo no seu mandato têm mais probabilidade de ganhar. Eliminamos a hipótese b).\n",
        "\n",
        "A comparação fica entre mulher ou homem com mandato longo. Podemos ver que FEMALE tem uma contribuição positiva face a não FEMALE, logo a resposta correcta é a a)\n",
        "'''"
      ]
    },
    {
      "cell_type": "markdown",
      "metadata": {
        "id": "ws6IdwCrlRNc"
      },
      "source": [
        "**4 -** Consideremos uma empresa para a qual as probabilidades de log de seu CEO ganhar um prêmio\n",
        "com base no modelo de regressão estimado é -2,3085. O CEO\n",
        "da empresa é um homem. Qual seria a probabilidade logarítmica de o CEO ganhar um prêmio se o CEO fosse uma mulher, matendo todas as outras variáveis constantes?\n",
        "- **a)** −4.0154\n",
        "- **b)** −3.1185\n",
        "- **c)** −1.4985"
      ]
    },
    {
      "cell_type": "code",
      "execution_count": null,
      "metadata": {
        "id": "OlwYOj8UliED",
        "tags": [
          "hide-input"
        ]
      },
      "outputs": [],
      "source": [
        "'''\n",
        "-2.3085 + 0.8100 = -1.4985\n",
        "'''"
      ]
    },
    {
      "cell_type": "markdown",
      "metadata": {
        "id": "GMRAFcLqmEn2"
      },
      "source": [
        "**5** - Quais são as odds do CEO masculino mencionado na pergunta anterior\n",
        "ganhar o prémio?\n",
        "\n",
        "- **a)** 0.0807\n",
        "- **b)** 0.0994\n",
        "- **c)** 0.2235\n",
        "\n",
        "**Conceito** - Odds\n",
        "\n",
        "Odds fornecem uma medida da probabilidade de um determinado resultado. São calculadas como a razão entre o número de eventos que produzem esse resultado e o número de eventos que não produz o resultado."
      ]
    },
    {
      "cell_type": "code",
      "execution_count": null,
      "metadata": {
        "id": "MfBQg9pbnaY8",
        "tags": [
          "hide-input"
        ]
      },
      "outputs": [],
      "source": [
        "'''\n",
        "O resultado do modelo foi de -2.3085. Recordando que o modelo logit é um modelo de log-odds só temos de elevar o valor ao e de euler para obter as odd \"normais\".\n",
        "\n",
        "e** -2.3085 =  0.0994\n",
        "'''\n",
        "\n",
        "# import math\n",
        "# math.e** -2.3085"
      ]
    },
    {
      "cell_type": "markdown",
      "metadata": {
        "id": "wQmXuT3ZpNfO"
      },
      "source": [
        "**6** - Supondo que as odds/hipóteses do CEO masculino ganhar o prêmio são de 0.0994, qual é a probabilidade de o CEO ganhar o prêmio?\n",
        "- **a)** 9,04%\n",
        "- **b)** 9,94%\n",
        "- **c)** 18,27%\n",
        "\n",
        "**Conceito** - Para converter de hipóteses para probabilidade, dividimos as hipóteses por odds + 1"
      ]
    },
    {
      "cell_type": "code",
      "execution_count": null,
      "metadata": {
        "id": "4U4agoZSo4RU",
        "tags": [
          "hide-input"
        ]
      },
      "outputs": [],
      "source": [
        "# 0.0994 / (1+0.0994) = 0.0904"
      ]
    },
    {
      "cell_type": "markdown",
      "metadata": {
        "id": "cz_ccBm0t3pS"
      },
      "source": [
        "**7 -** What is the ratio of odds that a female CEO wins an award to the odds\n",
        "that a male CEO wins an award?\n",
        "- **a)** 0.0807\n",
        "- **b)** 0.4449\n",
        "- **c)** 2.2479"
      ]
    },
    {
      "cell_type": "code",
      "execution_count": null,
      "metadata": {
        "id": "rdI_FAffuTfW",
        "tags": [
          "hide-input",
          "hide-output"
        ]
      },
      "outputs": [],
      "source": [
        "'''\n",
        "math.e** -1.4985 = 0.22346\n",
        "0.22346 / 0.0994 = 2.25\n",
        "\n",
        "O rácio é de 2.25, ou seja as hipóteses de uma CEO feminina ganhar o prémio são cerca de 2.25 vezes maior do que a do CEO masculino\n",
        "'''"
      ]
    },
    {
      "cell_type": "markdown",
      "metadata": {
        "id": "GF5EuF6RvOd8"
      },
      "source": [
        "**8 -** Ao estimar o modelo de regressão logit, usamos retornos\n",
        "expressos em frações. Por exemplo, um retorno de 10% é inserido como 0,10.\n",
        "Portanto, uma unidade é 1 ou 100%. Considere a empresa com um CEO masculino\n",
        "discutido anteriormente. Para esta empresa, o retorno total durante os meses 7 a 12 antes do mês da atribuição do prémio era de 11%. Sabemos que as log odds de seu CEO ganhar o prêmio com base no modelo de regressão estimado para\n",
        "−2.3085. Qual seriam as log odds do seu CEO ganhar o prêmio se o\n",
        "o retorno total durante os meses 7 a 12 antes do mês de premiação foi de 12%?"
      ]
    },
    {
      "cell_type": "code",
      "execution_count": null,
      "metadata": {
        "id": "ghFcht1CwAKP",
        "tags": [
          "hide-input",
          "hide-output"
        ]
      },
      "outputs": [],
      "source": [
        "'''\n",
        "valor inicial + diferencial no variável * coeficiente da variável\n",
        "−2.3085 + 0.01*0.9345=-2.299155\n",
        "\n",
        "\n",
        "\n",
        "\n",
        "\n",
        "  \n",
        "'''"
      ]
    }
  ],
  "metadata": {
    "colab": {
      "provenance": [],
      "toc_visible": true
    },
    "kernelspec": {
      "display_name": "Python 3",
      "name": "python3"
    },
    "language_info": {
      "name": "python"
    }
  },
  "nbformat": 4,
  "nbformat_minor": 0
}
