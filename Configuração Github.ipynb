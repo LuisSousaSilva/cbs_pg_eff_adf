{
 "cells": [
  {
   "cell_type": "markdown",
   "metadata": {},
   "source": [
    "# Configuração Github\n",
    "\n",
    "1) Abrir conta no github\n",
    "\n",
    "2) Irem para o repositório da disciplina em https://github.com/LuisSousaSilva/cbs_pg_eff_adf\n",
    "\n",
    "3) Seguirem os seguintes passos"
   ]
  },
  {
   "cell_type": "markdown",
   "metadata": {},
   "source": [
    "![](https://s3.us-east-2.amazonaws.com/cbs.pg.repository/github/Github_1.png)\n",
    "\n",
    "![](https://s3.us-east-2.amazonaws.com/cbs.pg.repository/github/Github_2.png)\n",
    "![](https://s3.us-east-2.amazonaws.com/cbs.pg.repository/github/Github_3.png)\n",
    "![](https://s3.us-east-2.amazonaws.com/cbs.pg.repository/github/Github_4.png)\n",
    "![](https://s3.us-east-2.amazonaws.com/cbs.pg.repository/github/Github_5.png)\n",
    "![](https://s3.us-east-2.amazonaws.com/cbs.pg.repository/github/Github_6.png)"
   ]
  },
  {
   "cell_type": "markdown",
   "metadata": {},
   "source": [
    "Depois de selecionarem o ambiente de trabalho as coisas básicas já deverão funcionar e ficará só a faltar a instalação do packages via correrem !pip install -r requirements.txt numa célula"
   ]
  }
 ],
 "metadata": {
  "language_info": {
   "name": "python"
  }
 },
 "nbformat": 4,
 "nbformat_minor": 2
}
