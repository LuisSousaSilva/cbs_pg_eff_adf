{
  "cells": [
    {
      "cell_type": "markdown",
      "metadata": {
        "id": "WDWuJEO1JlBz"
      },
      "source": [
        "# Capítulo 1.5 - Exercícios do Capítulo 1"
      ]
    },
    {
      "cell_type": "code",
      "execution_count": 1,
      "metadata": {
        "id": "QHlAfFVoCsNY"
      },
      "outputs": [],
      "source": [
        "def compute_FV_lump_sum(PV, r, N):\n",
        "    '''\n",
        "    FV = Future value / valor futuro\n",
        "    PV = Present value / Valor presente\n",
        "    r = Interest rate rate / Taxa de juro\n",
        "    N = Número de períodos de capitalização\n",
        "    '''\n",
        "    FV = PV * (1+r)**N\n",
        "    return FV\n",
        "\n",
        "# Esta é simplesmente uma evolução da fórumla acima por isso\n",
        "# não alterei o nome\n",
        "\n",
        "def compute_FV_lump_sum(PV, r, N, m=1):\n",
        "    '''\n",
        "    FV = Future value / valor futuro\n",
        "    PV = Present value / Valor actual\n",
        "    r = Stated rate / Taxa de juro cotada\n",
        "    N = número de anos\n",
        "    m = número de capitalizações anuais\n",
        "    '''\n",
        "    FV = PV * (1+r/m)**(N*m)\n",
        "    return FV\n",
        "\n",
        "import math\n",
        "\n",
        "def compute_FV_lump_sum_continuous(PV, r, N):\n",
        "    '''\n",
        "    FV = Future value / valor futuro\n",
        "    PV = Present value / Valor actual\n",
        "    r = Stated rate / Taxa de juro cotada\n",
        "    N = número de anos\n",
        "    '''\n",
        "    FV = PV * math.e**(r*N)\n",
        "    return FV\n",
        "\n",
        "def compute_ear(r, m):\n",
        "    '''\n",
        "    FV = Future value / valor futuro\n",
        "    PV = Present value / Valor actual\n",
        "    r = Stated rate / Taxa de juro cotada\n",
        "    m = número de capitalizações anuais\n",
        "    '''\n",
        "    ear = (1 + r/m)**m -1\n",
        "    return ear\n",
        "\n",
        "from numpy import log as ln\n",
        "\n",
        "def compute_ear_from_continous(r):\n",
        "    ear = math.e**(r) - 1\n",
        "    return ear\n",
        "\n",
        "def compute_FV_ordinary_annuity(A, r, N):\n",
        "    FV = A * (((1+r)**N -1) / r)\n",
        "    '''\n",
        "    FV = Future Value\n",
        "    A = Pagamento / cash flow\n",
        "    r = taxa de juro\n",
        "    N = Nr de anos\n",
        "    '''\n",
        "    return FV\n",
        "\n",
        "# Compute Future Value\n",
        "def compute_FV_ordinary_annuity_ucf(cf, r, N, m=1):\n",
        "    '''\n",
        "    ucf = unequal cash flows\n",
        "    cf = série de cash flows\n",
        "    r = taxa de juro\n",
        "    N = Nr de anos\n",
        "    '''\n",
        "    FV_total = 0 # criar uma variável para somar os valores futuros dos cash flows\n",
        "\n",
        "    for cash_flow in cf: # Para cada cash flow na série de cash flows\n",
        "        N = N - 1\n",
        "        FV = compute_FV_lump_sum(cash_flow, r=r, N=N) # calcular o cash flow\n",
        "        FV_total = FV_total + FV # somar cada valor futuro ao valor total\n",
        "\n",
        "    return FV_total\n",
        "\n",
        "def compute_PV_lump_sum(FV, r, N):\n",
        "    '''\n",
        "    PV = Present Value\n",
        "    r = taxa de juro\n",
        "    N = Nr de anos/períodos\n",
        "    '''\n",
        "    PV = FV * (1+r)**(-N)\n",
        "    return PV\n",
        "\n",
        "# A mesma situação de ser uma simples actualização da função e manter o nome\n",
        "\n",
        "def compute_PV_lump_sum(FV, r, N, m=1):\n",
        "    '''\n",
        "    FV = Future Value\n",
        "    r = taxa de juro\n",
        "    N = Nr de anos/períodos\n",
        "    m = 1 para ter capitalização anual por defeito\n",
        "    '''\n",
        "    PV = FV * (1+(r/m))**(-N*m)\n",
        "    return PV\n",
        "\n",
        "def compute_PV_ordinary_annuity(A, r, N):\n",
        "\n",
        "    # A = Pagamento / cash flow\n",
        "    # r = taxa de juro\n",
        "    # N = Nr. de anos\n",
        "\n",
        "    PV = A * (1-1/(1+r)**N)/ r\n",
        "    return PV\n",
        "\n",
        "def compute_annuity_due(A, r, N):\n",
        "    PV = (A * ((1-(1+r)**-N)) / r) * (1+r)\n",
        "    return PV\n",
        "\n",
        "def compute_PV_perpetuity(A, r):\n",
        "    return A/r\n",
        "\n",
        "def compute_g(FV, PV, N):\n",
        "    g = ((FV/PV)**(1/N))-1\n",
        "    return g\n",
        "\n",
        "from numpy import log as ln\n",
        "\n",
        "def compute_N(FV, PV, r):\n",
        "    N = ln(FV/PV) / ln(1+r)\n",
        "    return N\n",
        "\n",
        "from numpy import log as ln\n",
        "def compute_N(FV, PV, r):\n",
        "    N = ln(FV/PV) / ln(1+r)\n",
        "    return N\n",
        "\n",
        "def compute_A(PV, r, N, m=1):\n",
        "    PVAF = (1-1/(1+(r/m))**(m*N))/(r/m)\n",
        "    A=PV/PVAF\n",
        "    return A\n",
        "\n",
        "import numpy_financial as npf\n",
        "def compute_pmt(FV, r, N):\n",
        "    pmt = npf.pmt(rate=r, nper=N, fv=FV, pv=0)\n",
        "    return pmt"
      ]
    },
    {
      "cell_type": "markdown",
      "metadata": {
        "id": "H6fIIj6kBGEY"
      },
      "source": [
        "## Exercício 1.1\n",
        "\n",
        "<hr style=\"border-top: 3px solid #bbb; border-radius: 3px;\">\n",
        "\n",
        "A tabela abaixo fornece informações sobre as taxas de juros para dois investimentos de dois anos e dois de\n",
        "oito anos. A tabela também fornece as características de maturidade, liquidez e risco de default de uma nova\n",
        "possibilidade de investimento (Investimento 3). Todos os investimentos prometem apenas um único pagamento\n",
        "(pagamento na maturidade). Suponha que os prémios relativos à inflação, liquidez e risco de incumprimento\n",
        "são constantes em todos os horizontes temporais.\n",
        "\n",
        "![](https://s3.us-east-2.amazonaws.com/cbs.pg.repository/img/Chapter_1_exercice_1.PNG)\n",
        "\n",
        "Baseado na informação fornecida:\n",
        "\n",
        "A. Explique a diferença entre as taxas de juro do investimento 1 e do investimento 2;\n",
        "\n",
        "B. Estime o prémio de risco de incumprimento;\n",
        "\n",
        "C. Calcule o valor máximo e mínimo da taxa de juro do investimento 3, $r_3$"
      ]
    },
    {
      "cell_type": "markdown",
      "metadata": {
        "id": "QRzyORtjD2aY"
      },
      "source": [
        "## Exercício 1.2\n",
        "\n",
        "<hr style=\"border-top: 3px solid #bbb; border-radius: 3px;\">\n",
        "\n",
        "Ganhamos uma lotaria 5 milhões de dólares após impostos. Investimos a totalidade num depósito a prazo de cinco anos no banco. O depósito promete pagar 7% ao ano compostos anualmente. O banco também nos permite reinvestir os juros a essa taxa durante o período. Quanto teremos no final dos cinco anos se o dinheiro permanecer investido a 7%, sem levantamentos?"
      ]
    },
    {
      "cell_type": "markdown",
      "metadata": {
        "id": "nEWXpH09EvKI"
      },
      "source": [
        "## Exercício 1.3\n",
        "\n",
        "<hr style=\"border-top: 3px solid #bbb; border-radius: 3px;\">\n",
        "\n",
        "Um banco australiano oferece uma taxa para o depósito a prazo de 6% capitalizados mensalmente. Decidimos\n",
        "investir 1 milhão de dólares australianos por um ano. Qual é o valor futuro do nosso investimento\n",
        "se os pagamentos de juros forem reinvestidos a 6%?"
      ]
    },
    {
      "cell_type": "markdown",
      "metadata": {
        "id": "3weyulZYFnhi"
      },
      "source": [
        "## Exercício 1.4\n",
        "\n",
        "<hr style=\"border-top: 3px solid #bbb; border-radius: 3px;\">\n",
        "\n",
        "Supondo que um investimento de $10.000 renderá 8% compostos continuamente por dois anos. Qual é o valor final do investimento?"
      ]
    },
    {
      "cell_type": "markdown",
      "metadata": {
        "id": "uBe8TD32Gp8_"
      },
      "source": [
        "## Exercício 1.5\n",
        "\n",
        "<hr style=\"border-top: 3px solid #bbb; border-radius: 3px;\">\n",
        "\n",
        "Usando a fórmula acima comprove que uma taxa anual cotada de 8% capitalizada semestralmente tem mesmo uma rentabilidade superior a 8% ao final desse ano. O que acontece se aumentarmos para capitalização trimestral?"
      ]
    },
    {
      "cell_type": "markdown",
      "metadata": {
        "id": "xT53twrZH5Xb"
      },
      "source": [
        "## Exercício 1.6\n",
        "\n",
        "<hr style=\"border-top: 3px solid #bbb; border-radius: 3px;\">\n",
        "\n",
        "Com base nos dados do exercício 1.5 (taxa de juro anual cotada de 8%) calcule a rentabilidade efectiva caso a capitalização fosse contínua."
      ]
    },
    {
      "cell_type": "markdown",
      "metadata": {
        "id": "NUm4GjFAJve4"
      },
      "source": [
        "## Exercício 1.7\n",
        "\n",
        "<hr style=\"border-top: 3px solid #bbb; border-radius: 3px;\">\n",
        "\n",
        "Suponha que o vamos investir 20 mil euros por ano no nosso plano de poupança para a reforma. Se assumirmos\n",
        "que a rentabilidade do investimento será de 9% em média nos próximos 30 anos (altura que nos reformamos). Quanto dinheiro teremos quando começarmos a reforma?"
      ]
    },
    {
      "cell_type": "markdown",
      "metadata": {
        "id": "SQp1ZNtdK1qK"
      },
      "source": [
        "## Exercício 1.8\n",
        "\n",
        "<hr style=\"border-top: 3px solid #bbb; border-radius: 3px;\">\n",
        "\n",
        "Se fizermos um investimento com uma rentabilidade anualizada de 5% durante 5 anos, em que os cash flows anuais são 1000 euros no ano 1, 2000 euros no ano 2, 3000 euros no ano 3, 4000 euros no ano 4 e 5000 euros no ano 5 qual o montante que teremos no final do período?"
      ]
    },
    {
      "cell_type": "markdown",
      "metadata": {
        "id": "XAmJNEDXLdr6"
      },
      "source": [
        "## Exercício 1.9\n",
        "\n",
        "<hr style=\"border-top: 3px solid #bbb; border-radius: 3px;\">\n",
        "\n",
        "Uma companhia de seguros emitiu um Contrato de Investimento Garantido (GIC) que promete pagar 100.000 euros daqui a seis anos com uma taxa de retorno de 8%. Qual a quantia de dinheiro que a seguradora deve investir hoje a 8% por seis anos para realizar o pagamento prometido?"
      ]
    },
    {
      "cell_type": "markdown",
      "metadata": {
        "id": "AmMbu2N6LyRn"
      },
      "source": [
        "## Exercício 1.10\n",
        "\n",
        "<hr style=\"border-top: 3px solid #bbb; border-radius: 3px;\">\n",
        "\n",
        "Um cliente possui um activo financeiro líquido que lhe pagará 100.000 euros daqui a  10 anos. A sua filha planeia frequentar a faculdade daqui a quatro anos, e pretendemos saber qual será o valor presente do activo naquele momento. Dado um taxa de desconto de 8%, quanto valerá o activo daqui a quatro anos? Qual é o valor inicial do investimento?"
      ]
    },
    {
      "cell_type": "markdown",
      "metadata": {
        "id": "G4HAoRhUMCqE"
      },
      "source": [
        "## Exercício 1.11\n",
        "\n",
        "<hr style=\"border-top: 3px solid #bbb; border-radius: 3px;\">\n",
        "\n",
        "A administradora de um fundo de pensão no Canadá sabe que o fundo tem de fazer um pagamento único de 5 milhões de dólares canadianos daqui a 10 anos. Ela pretende investir um valor hoje num produto financeiro de forma a que o investimento valorize o necessário. A actual a taxa de juros desse investimento é de 6% ao ano, capitalizada mensalmente. Qual o valor que precisa de investir hoje?"
      ]
    },
    {
      "cell_type": "markdown",
      "metadata": {
        "id": "XsJ7HakqMQt0"
      },
      "source": [
        "## Exercício 1.12\n",
        "\n",
        "<hr style=\"border-top: 3px solid #bbb; border-radius: 3px;\">\n",
        "\n",
        "Suponhamos que pretendemos comprar um activo financeiro que promete pagar 1.000€ por ano durante cinco anos, com o primeiro pagamento daqui a um ano. A taxa de retorno exigida é de 12% ao ano. Quanto devemos pagar este activo?\n"
      ]
    },
    {
      "cell_type": "markdown",
      "metadata": {
        "id": "zcf-e534MeeB"
      },
      "source": [
        "## Exercício 1.13\n",
        "\n",
        "<hr style=\"border-top: 3px solid #bbb; border-radius: 3px;\">\n",
        "\n",
        "Um gestor de fundo de pensões alemão antecipa que terá de pagar de reformas no valor de 1 milhões de euros por ano. Contudo as reformas apenas ocorrerão daqui a 10 anos a partir de agora (no tempo t = 10). Assim que as reformas começarem a ser pagas, elas irão se estender no tempo até t = 39, totalizando 30 pagamentos. Qual é o valor presente do passivo se a taxa de desconto anual apropriada é de 5% capitalizada anualmente?"
      ]
    },
    {
      "cell_type": "markdown",
      "metadata": {
        "id": "aze_TZWjMzCP"
      },
      "source": [
        "## Exercício 1.14\n",
        "\n",
        "<hr style=\"border-top: 3px solid #bbb; border-radius: 3px;\">\n",
        "\n",
        "Vamo-nos reformar hoje e o director do fundo de aposentações da nossa empresa apresentou-nos duas alternativas:\n",
        "\n",
        "- Um montante fixo imediato de 2 milhões euros;\n",
        "- Uma anuidade com 20 pagamentos de 200.000 euros por ano com o primeiro pagamento a partir de hoje. A taxa de juros de desconto banco é de 7% por ano composto anualmente (porque hipoteticamente poderíamos investir num activo com essa rentabilidade).\n",
        "\n",
        "Qual opção tem o maior valor presente? (Ignorar quaisquer diferenças fiscais entre as duas opções.)"
      ]
    },
    {
      "cell_type": "markdown",
      "metadata": {
        "id": "XT7wKbOa7sYX"
      },
      "source": [
        "## Exercício 1.15\n",
        "\n",
        "<hr style=\"border-top: 3px solid #bbb; border-radius: 3px;\">\n",
        "\n",
        "O governo britânico emitiu uma obrigação perpétua, que prometeu pagar um fluxo de caixa nivelado indefinidamente. Se esta obrigação pagar £ 100 por ano para a perpetuidade, o que valeria hoje se a taxa de retorno exigida fosse 5 por cento?"
      ]
    },
    {
      "cell_type": "markdown",
      "metadata": {
        "id": "VtYgRq-p8OP-"
      },
      "source": [
        "## Exercício 1.16\n",
        "\n",
        "<hr style=\"border-top: 3px solid #bbb; border-radius: 3px;\">\n",
        "\n",
        "Consideremos a mesma obrigação perpétua do exercício anterior (com pagamentos anuais de £ 100). Mas o primeiro pagamento começa apenas em t = 5. Qual é seu valor presente hoje (em t = 0), dada uma taxa de desconto de 5%?"
      ]
    },
    {
      "cell_type": "markdown",
      "metadata": {
        "id": "5wot3AdA89of"
      },
      "source": [
        "## Exercício 1.17\n",
        "\n",
        "<hr style=\"border-top: 3px solid #bbb; border-radius: 3px;\">\n",
        "\n",
        "Sabendo que o nosso investimento subiu de 100 mil euros para 246 mil em 10 anos. Qual foi a taxa de crescimento anualizada?"
      ]
    },
    {
      "cell_type": "markdown",
      "metadata": {
        "id": "WaVMlkw3EdAF"
      },
      "source": [
        "## Exercício 1.18\n",
        "\n",
        "<hr style=\"border-top: 3px solid #bbb; border-radius: 3px;\">\n",
        "\n",
        "Queremos determinar quanto tempo levará um investimento de 10.000 € a duplicar em valor. A taxa de juros actual é de 7% compostos anualmente. Quantos anos levarão os 10 mil euros a duplicar para 20 mil?"
      ]
    },
    {
      "cell_type": "markdown",
      "metadata": {
        "id": "xDAo9gH3-9zs"
      },
      "source": [
        "## Exercício 1.19\n",
        "\n",
        "<hr style=\"border-top: 3px solid #bbb; border-radius: 3px;\">\n",
        "\n",
        "Estamos a planear comprar uma casa por 120 mil euros fazendo um pagamento inicial de 20 mil. O montante\n",
        "restante será um empréstimo hipotecário de taxa fica a 30 anos com pagamentos anuais e primeiro pagamento\n",
        "em t = 1. As taxas de juro hipotecárias, para um crédito de taxa fixa a 30 anos é 8%/ano com capitalização\n",
        "mensal. Qual será o pagamento mensal que teremos de efectuar?"
      ]
    },
    {
      "cell_type": "markdown",
      "metadata": {
        "id": "eaxI0TwP_pD2"
      },
      "source": [
        "## Exercício 1.20\n",
        "\n",
        "<hr style=\"border-top: 3px solid #bbb; border-radius: 3px;\">\n",
        "\n",
        "Um cliente planeia enviar o filho para a faculdade por quatro anos, 18 anos a partir de hoje. Tendo reservado dinheiro para as mensalidades decide planear os custos com estadia também. Ele estima esses custos em 20.000 euros por ano, com pagamento no início de cada ano, assim que o seu filho for para a faculdade. Se o cliente começar no próximo ano e fizer 17 pagamentos numa conta poupança com uma rentabilidade de 5% ao ano, que pagamentos anuais ela deve fazer?"
      ]
    }
  ],
  "metadata": {
    "colab": {
      "provenance": [],
      "toc_visible": true
    },
    "kernelspec": {
      "display_name": "Python 3",
      "name": "python3"
    },
    "language_info": {
      "codemirror_mode": {
        "name": "ipython",
        "version": 3
      },
      "file_extension": ".py",
      "mimetype": "text/x-python",
      "name": "python",
      "nbconvert_exporter": "python",
      "pygments_lexer": "ipython3",
      "version": "3.10.12"
    }
  },
  "nbformat": 4,
  "nbformat_minor": 0
}
