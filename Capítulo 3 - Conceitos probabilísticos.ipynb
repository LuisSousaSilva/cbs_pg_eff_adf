{
 "cells": [
  {
   "cell_type": "markdown",
   "metadata": {},
   "source": [
    "# Capítulo 3 - Conceitos probabilísticos\n",
    "\n",
    "<hr style=\"border-top: 3px solid #bbb; border-radius: 3px;\">"
   ]
  },
  {
   "cell_type": "code",
   "execution_count": null,
   "metadata": {},
   "outputs": [],
   "source": [
    "# !pip install -r requirements.txt"
   ]
  },
  {
   "cell_type": "markdown",
   "metadata": {},
   "source": [
    "## 1. Risco e probabilidade\n",
    "\n",
    "\n",
    "Todos os investimentos são feitos num ambiente de risco e as ferramentas que nos permitem tomar decisões com consistência e lógica neste ambiente acabam por estar ligadas à probabilidade."
   ]
  },
  {
   "cell_type": "markdown",
   "metadata": {},
   "source": [
    "## 2. Probabilidade, retornos e variância\n",
    "\n",
    "![](https://s3.us-east-2.amazonaws.com/cbs.pg.repository/img/capitulo_03/capitulo_3_prob_1.PNG)\n",
    "\n",
    "**Evento:** Um evento é um conjunto de resultados (um subconjunto do espaço amostral) ao qual é associado um valor de probabilidade. Habitualmente, quando o espaço amostral é finito, qualquer subconjunto seu é um evento.\n",
    "\n",
    "A e B são diferentes eventos.\n",
    "\n",
    "**Exaustivos:** Não há outra possibilidade que não esteja abrangida por um evento.\n",
    "\n",
    "A e B são exaustivos porque só há probabilidade de ser A ou B.\n",
    "\n",
    "Neste exemplo são também:\n",
    "\n",
    "**Mutuamente exclusivos:** Não podem acontecer simultaneamente.\n",
    "\n",
    "No exemplo ou acontece A ou B\n",
    "\n",
    "**Independentes:** São eventos em que a probabilidade de um acontecer em nada afecta a probabilidade de outro acontecer. A probabilidade de A acontecer dado B é igual à probabilidade de A.\n",
    "\n",
    "Naturalmente se o eventos não são independentes são dependentes. Ou seja saber que A aconteceu dá-nos informação sobre a probabilidade do B.\n",
    "\n",
    "<hr style=\"border-top: 3px solid #bbb; border-radius: 3px;\">\n",
    "\n",
    "### Propriedades de probabilidade\n",
    "\n",
    "A probabilidade de qualquer evento é um número entre 0 e 1. Sendo uma probabilidade de 0 o mesmo que dizer que o evento é impossível e uma probabilidade de 1 uma certeza absoluta.\n",
    "\n",
    "A soma das probabilidade de todos os eventos mutuamente exclusivos e exaustivos é de 1.\n",
    "\n",
    "No exemplo em cima P(A)+P(B)=1P(A) + P(B) = 1P(A)+P(B)=1\n",
    "\n",
    "![](https://s3.us-east-2.amazonaws.com/cbs.pg.repository/img/capitulo_03/capitulo_3_propriedades_de_prob.PNG)\n",
    "\n",
    "### Como calcular probabilidades e outros conceitos\n",
    "\n",
    "Mutuamente exclusivos e exaustivos\n",
    "\n",
    "![](https://s3.us-east-2.amazonaws.com/cbs.pg.repository/img/capitulo_03/capitulo_3_prob_2.PNG)\n"
   ]
  },
  {
   "cell_type": "markdown",
   "metadata": {},
   "source": [
    "$$ P(A) = \\frac{A}{\\text{Obs}} $$\n",
    "\n",
    "$$ P(A) = \\frac{4}{10} = 0.4 $$\n",
    "\n",
    "$$ P(B) = \\frac{6}{10} = 0.6 $$\n",
    "\n",
    "Porque os eventos A e B são exaustivos\n",
    "\n",
    "$$ P(A) + P(B) = 1 $$\n",
    "\n",
    "Porque os eventos A e B são mutuamente exclusivos\n",
    "\n",
    "$$ P(A \\cup B) = P(A) + P(B) $$\n",
    "\n",
    "#### Mutuamente exclusivos mas não exaustivos\n",
    "\n",
    "![](https://s3.us-east-2.amazonaws.com/cbs.pg.repository/img/capitulo_03/capitulo_3_prob_3.PNG)"
   ]
  },
  {
   "cell_type": "markdown",
   "metadata": {},
   "source": [
    "$$ P(A) = \\frac{A}{\\text{Obs}} $$\n",
    "$$ P(A) = \\frac{4}{10} = 0.4 $$\n",
    "$$ P(B) = \\frac{3}{10} = 0.3 $$\n",
    "\n",
    "Porque os eventos A e B são não exaustivos\n",
    "\n",
    "$$ P(A) + P(B) \\neq 1 $$\n",
    "\n",
    "Porque os eventos A e B são mutuamente exclusivos\n",
    "\n",
    "$$ P(A \\text{ ou } B) = P(A) + P(B) = 0.7 $$\n",
    "\n",
    "#### Não exclusivos e exaustivos\n",
    "\n",
    "![](https://s3.us-east-2.amazonaws.com/cbs.pg.repository/img/capitulo_03/capitulo_3_prob_4.PNG)\n",
    "\n",
    "$$ S = 9 $$\n",
    "\n",
    "$$ P(S) = 1 $$\n",
    "\n",
    "$$ P(A) = \\frac{5}{9} $$\n",
    "\n",
    "Porque os eventos A e B são exaustivos\n",
    "\n",
    "$$ P(A) + P(B) - P(A \\cap B) = \\frac{5}{9} + \\frac{5}{9} - \\frac{1}{9} = \\frac{9}{9} = 1 $$\n",
    "\n",
    "Temos de subtrair \\( P(A \\cap B) \\) pois senão contamos duas vezes.\n",
    "\n",
    "Porque os eventos A e B são não exclusivos\n",
    "\n",
    "$$ P(A \\cup B) = P(A) + P(B) - P(A \\cap B) $$\n",
    "\n",
    "Neste caso é A ou B é igual a 1 pois eles exaustivos, mas pode não ser o caso.\n",
    "\n",
    "Não A e não B\n",
    "\n",
    "Da mesma forma que podemos calcular a probabilidade do evento A (ou b) ocorrer também podemos calcular a probabilidade do evento não ocorrer.\n",
    "\n",
    "$$ P(\\overline{A}) = 1 - P(A) $$\n",
    "\n",
    "O evento não A ( \\( \\overline{A} \\) ) é denominado o complemento de A e a soma de A e não A é sempre 1 pois são sempre mutuamente exclusivos."
   ]
  },
  {
   "cell_type": "markdown",
   "metadata": {},
   "source": [
    "<hr style=\"border-top: 3px solid #bbb; border-radius: 3px;\">"
   ]
  },
  {
   "cell_type": "markdown",
   "metadata": {},
   "source": [
    "## 3. Casos práticos e probabilidade nos investimentos\n",
    "\n",
    "Nem sempre na realidade sabemos o S e ou a forma acima é a forma correcta de calcularmos a probabilidade de um acontecimento.\n",
    "\n",
    "### Probabilidades empíricas\n",
    "\n",
    "Em investimentos muitas vezes estima-se a probabilidade de um evento com base na frequência histórica com que aconteceu. Semelhante aos exemplos em cima.\n",
    "\n",
    "**Exemplo: Qual a probabilidade do S&P ter uma rentabilidade negativa em determinado dia?**"
   ]
  },
  {
   "cell_type": "code",
   "execution_count": 16,
   "metadata": {},
   "outputs": [
    {
     "data": {
      "text/plain": [
       "0.53"
      ]
     },
     "execution_count": 16,
     "metadata": {},
     "output_type": "execute_result"
    }
   ],
   "source": [
    "# !pip install yfinance\n",
    "import yfinance as yf\n",
    "\n",
    "data = yf.download(\"^GSPC\", start=\"1970-01-01\", end=\"2030-04-30\", progress=False)\n",
    "\n",
    "data['Change (%)'] = data['Close'].pct_change() # Calcular os retornos\n",
    "\n",
    "data = data.dropna() # Apagar os dias para os quais não há retorno\n",
    "                     # O primeiro dia, pois não há nenhum dia anterior\n",
    "                     # com o qual calcular o retorno\n",
    "\n",
    "data_p = data[data['Change (%)'] > 0] # Calcular dias positivos\n",
    "\n",
    "len_data = len(data)\n",
    "\n",
    "len_data_p = len(data_p)\n",
    "\n",
    "prob_p = round(len(data_p) / len(data), 2)\n",
    "\n",
    "prob_p"
   ]
  },
  {
   "cell_type": "code",
   "execution_count": 17,
   "metadata": {},
   "outputs": [],
   "source": [
    "last_day = data.iloc[-1].name.strftime('%Y-%m-%d')\n",
    "first_day = data.iloc[0].name.strftime('%Y-%m-%d')\n",
    "formatted_prob_p = f\"{prob_p:.0%}\""
   ]
  },
  {
   "cell_type": "code",
   "execution_count": 18,
   "metadata": {},
   "outputs": [
    {
     "name": "stdout",
     "output_type": "stream",
     "text": [
      "À data de 2023-11-09 o número de dias na dataframe com a cotação do S&P 500 é de 13584 dias e o número de dias positivos é de 7168. Logo a probabilidade empírica do S&P ter um retorno positivo em qualquer dia é por isso 7168 a dividir por 13584, ou seja, 0.53 ou 53%.\n"
     ]
    }
   ],
   "source": [
    "print(f'À data de {last_day} o número de dias na dataframe com a cotação do S&P 500 é de {len_data} dias e o número de dias positivos é de {len_data_p}. Logo a probabilidade empírica do S&P ter um retorno positivo em qualquer dia é por isso {len_data_p} a dividir por {len_data}, ou seja, {prob_p} ou {formatted_prob_p}.')"
   ]
  },
  {
   "cell_type": "markdown",
   "metadata": {},
   "source": [
    "### Probabilidades à priori\n",
    "\n",
    "Por vezes, dependendo dos problemas, podemos, com base em análise lógica deduzir probabilidades correctas. Estas não são nem as probabilidades empíricas nem são subjectivas.\n",
    "\n",
    "As probabilidades à priori e as empíricas são muitas vezes agrupadas como probabilidades objectivas, já que não variam de pessoa para pessoa.\n",
    "\n",
    "Ex: Lançamento de uma moeda\n",
    "\n",
    "### Probabilidades subjectivas\n",
    "\n",
    "Outro tipo de probabilidade é a probabilidade subjectiva, que tal como o nome indica vai depender do nosso julgamento subjectivo da nossa parte, com base nas nossas opniões e percepções pessoais.\n",
    "\n",
    "![](https://s3.us-east-2.amazonaws.com/cbs.pg.repository/img/capitulo_03/capitulo_3_calcular_prob.PNG)\n",
    "\n",
    "## Tipos de probabilidade (conceitos)\n",
    "\n",
    "### Probabilidade incondicional\n",
    "\n",
    "É a probabilidade de um evento isoladamente. Como no exemplo em cima, a probabilidade do S&P ter um retorno diário negativo.\n",
    "\n",
    "### Probabilidade condicional\n",
    "\n",
    "É a probabilidade de um evento dado que outro evento já aconteceu. Por exemplo a probabilidade do S&P ter um retorno diário positivo, sendo que ontem teve um retorno positivo."
   ]
  },
  {
   "cell_type": "code",
   "execution_count": 25,
   "metadata": {},
   "outputs": [
    {
     "data": {
      "text/plain": [
       "0.535"
      ]
     },
     "execution_count": 25,
     "metadata": {},
     "output_type": "execute_result"
    }
   ],
   "source": [
    "# Criar coluna com variação de ontem\n",
    "data[\"Yesterdays Change (%)\"] = data['Change (%)'].shift()\n",
    "\n",
    "# Seleccionar dias em que a variação de hoje foi positiva e a variação de ontem\n",
    "# foi positiva\n",
    "# Probabilidade condicionada: Qual a probabilidade de hoje ser positivo sabendo\n",
    "# que ontem foi positivo \n",
    "data_p_p = data[(data['Change (%)'] > 0) & (data['Yesterdays Change (%)'] > 0)]\n",
    "\n",
    "len_data_p_if_p = len(data_p_p)\n",
    "\n",
    "prob_p_p = len_data_p_if_p / len_data_p\n",
    "\n",
    "prob_p_p = round(prob_p_p, 3)\n",
    "\n",
    "prob_p_p"
   ]
  },
  {
   "cell_type": "code",
   "execution_count": 33,
   "metadata": {
    "tags": [
     "hide-input"
    ]
   },
   "outputs": [
    {
     "name": "stdout",
     "output_type": "stream",
     "text": [
      "O número de dias positivos é de 7168 e o número de dias em que o retorno é positivo \n",
      "dado que tinha sido positivo no dia anterior é de 3835.\n",
      "\n",
      "\n",
      "O que nos dá uma probabilidade empírica de um retorno diário ser positivo dado \n",
      "que tinha sido positivo no dia anterior de 0.535.\n"
     ]
    }
   ],
   "source": [
    "print(f'O número de dias positivos é de {len_data_p} e o número de dias em que o retorno é positivo \\ndado que tinha sido positivo no dia anterior é de {len_data_p_if_p}.')\n",
    "\n",
    "print('\\n')\n",
    "\n",
    "print(f\"O que nos dá uma probabilidade empírica de um retorno diário ser positivo dado \\nque tinha sido positivo no dia anterior de {prob_p_p}.\")"
   ]
  },
  {
   "cell_type": "markdown",
   "metadata": {},
   "source": [
    "A probabilidade condicional é igual à probabilidade conjunta do evento A e do evento B a dividir pela probabilidade do evento B, com a probabilidade de B diferente de 0.\n",
    "\n",
    "$$ P(A | B) = \\frac{P(AB)}{P(B)}, \\quad P(B) \\neq 0 $$"
   ]
  },
  {
   "cell_type": "markdown",
   "metadata": {},
   "source": [
    "<div class=\"alert alert-block alert-info\"><b>Exercício 3.1</b>\n",
    "\n",
    "Supondo que 5% das acções que vão de encontro com nossos critérios de selecção de investimentos são de empresas de telecomunicações. Sabemos também que empresas de telecomunicações que pagam dividendos representam 1% de todas as acções que vão de encontro com os nossos critérios. Qual a probabilidade que uma acção paga dividendos sendo que é um acção de telecomunicações que foi de encontro com os nossos critérios.\n",
    "\n",
    "</div>"
   ]
  },
  {
   "cell_type": "markdown",
   "metadata": {},
   "source": [
    "**Resolução**\n",
    "\n",
    "$$ P(A | B) = \\frac{P(AB)}{P(B)} =  \\frac{0.01}{0.05} = 0.2$$\n",
    "\n",
    "Com diagrama:\n",
    "\n",
    "![](https://s3.us-east-2.amazonaws.com/cbs.pg.repository/img/capitulo_03/capitulo_3_exercicio_1.PNG)\n",
    "\n",
    "S = Todas as empresas que vão de encontro com os nossos critérios de investimento\n",
    "\n",
    "T = 5\n",
    "\n",
    "T e PD = 1\n",
    "\n",
    "Quanto é que o PD representa dentro da elipse do T?\n",
    "\n",
    "1 em 5, ou 20%."
   ]
  },
  {
   "cell_type": "markdown",
   "metadata": {},
   "source": [
    "## Regra de multiplicação para eventos independentes\n",
    "\n",
    "Quando dois eventos são independentes a probabilidade conjunta de A e B é a multiplicação entre a probabilidade de A e a probabilidade de B"
   ]
  },
  {
   "cell_type": "markdown",
   "metadata": {},
   "source": [
    "<div class=\"alert alert-block alert-info\"><b>Exercício 3.2</b>\n",
    "\n",
    "Estamos a seleccionar empresas que poderão ser alvo de aquisição de uma lista de 1000 empresas. Usamos 3 critérios.\n",
    "\n",
    "![](https://s3.us-east-2.amazonaws.com/cbs.pg.repository/img/capitulo_03/capitulo_3_exercicio_2.PNG)\n",
    "\n",
    "Assumindo que todos os critérios são independentes quantas empresas passam nos 3 critérios?\n",
    "\n",
    "</div>"
   ]
  },
  {
   "cell_type": "markdown",
   "metadata": {},
   "source": [
    "0.2×0.45×0.3=0.027\n",
    "\n",
    "$$ P(AB) = P(A)\\times P(B) $$"
   ]
  },
  {
   "cell_type": "markdown",
   "metadata": {},
   "source": [
    "$$\n",
    "E(X) = E(X|S) \\times P(S) + E(X|\\overline{S}) \\times P(\\overline{S})\n",
    "$$\n",
    "\n",
    "ou\n",
    "\n",
    "$$\n",
    "E(X) = E(X|S_1) \\times P(S_1) + E(X|S_2) \\times P(S_2) + \\dots + E(X|S_n) \\times P(S_n)\n",
    "$$\n",
    "\n",
    "onde\n",
    "\n",
    "$$ ( S_1, S_2,  \\dots , S_n ) $$\n",
    "\n",
    "são eventos mutuamente exclusivos e exaustivos"
   ]
  },
  {
   "cell_type": "markdown",
   "metadata": {},
   "source": [
    "<div class=\"alert alert-block alert-info\"><b>Exercício 3.3</b>\n",
    "\n",
    "Supondo que as perspectivas de recuperação do principal (capital) de uma emissão de obrigações que entraram em incumprimento dependem de qual dos dois cenários económicos possíveis. O cenário 1 tem probabilidade 0,75 e resultará na recuperação de 0,90 cêntimos por cada 1 euro do principal com probabilidade de 0,45 ou na recuperação de 80 cêntimos por cada euro investido com probabilidade de 0.55. O cenário económico 2 tem probabilidade de 0.25 e poderá resultar numa recuperação de 50 cêntimos ao euro, com probabilidade 0,85 ou na recuperação de 40 cêntimos ao euro com probabilidade 0,15.\n",
    "\n",
    "Faça o diagrama em árvore das probabilidades e calcule a probabilidade de cada cenário.\n",
    "\n",
    "</div>"
   ]
  },
  {
   "cell_type": "markdown",
   "metadata": {},
   "source": [
    "**Reaolução**"
   ]
  },
  {
   "cell_type": "markdown",
   "metadata": {},
   "source": [
    "<div class=\"alert alert-block alert-info\"><b>Exercício 3.3</b>\n",
    "\n",
    "![](https://s3.us-east-2.amazonaws.com/cbs.pg.repository/img/capitulo_03/capitulo_3_exercicio_3.PNG)\n",
    "\n",
    "$$ P(90c)=0.75×0.45=0.3375 $$\n",
    "\n",
    "$$ P(80c)=0.75×0.55=0.4125P(80c) = 0.75 \\times 0.55 = 0.4125P(80c)=0.75 \\times 0.55=0.4125 $$\n",
    "\n",
    "$$ P(50c)=0.25×0.85=0.2125P(50c) = 0.25 \\times 0.85 = 0.2125P(50c)=0.25 \\times 0.85=0.2125 $$\n",
    "\n",
    "$$ P(40c)=0.25×0.15=0.0375P(40c) = 0.25 \\times 0.15 = 0.0375P(40c)=0.25 \\times 0.15=0.0375 $$\n",
    "\n",
    "$$ 0.3375+0.4125+0.2125+0.0375=10.3375 + 0.4125 + 0.2125 + 0.0375 = 10.3375+0.4125+0.2125+0.0375=1 $$\n",
    "\n",
    "</div>"
   ]
  },
  {
   "cell_type": "markdown",
   "metadata": {},
   "source": [
    "## Tópicos em probabilidade\n",
    "\n",
    "### Fórmula de Bayes\n",
    "\n",
    "Quando tomamos decisões que envolvem investimentos muitas vezes começamos com pontos de vista baseados em na nossa experiência e conhecimento. Esses pontos de vista podem ser alterados ou confirmados por novos conhecimentos e observações. A fórmula de Bayes é um método racional para ajustar os nossos pontos de vista à medida que confrontamos novas informações.\n",
    "\n",
    "Fórmula de Bayes: Dado um conjunto de probabilidades anteriores de um evento, se recebermos novas informações, a regra para actualizar a probabilidade do evento é:\n",
    "\n",
    "![](https://s3.us-east-2.amazonaws.com/cbs.pg.repository/img/capitulo_03/formula_bayes.PNG)"
   ]
  },
  {
   "cell_type": "markdown",
   "metadata": {},
   "source": [
    "<div class=\"alert alert-block alert-info\"><b>Exercício 3.4</b>\n",
    "\n",
    "Desenvolvemos um conjunto de critérios para avaliar crédito mal parado. Empresas que reprovam nos critérios são classificadas como propensas a falir dentro de 12 meses. Reunimos as seguintes informações ao validar os critérios:\n",
    "\n",
    "- 40 % das empresas nas quais o teste é aplicado irão à falência em 12 meses: $ P(\\bar S) = 0,40 $\n",
    "- 55% das empresas às quais o teste é aplicado são aprovadas: $ P(T)=0,55 $\n",
    "- A probabilidade de uma empresa passar no teste dado que sobreviverá os próximos 12 meses é de 0,85: $ P(PT∣S) = 0,85 $\n",
    "\n",
    "A) Calcule $ P(PT∣\\bar S) $\n",
    "\n",
    "B) Usando a fórmula de Bayes calcule a probabilidade da companhia sobreviver, dado que passou o teste. $ P(S|PT) $\n",
    "\n",
    "</div>\n",
    "\n",
    "PT = Passou Teste\n",
    "S = Sobreviveu"
   ]
  },
  {
   "cell_type": "markdown",
   "metadata": {},
   "source": [
    "**Resolução**"
   ]
  },
  {
   "cell_type": "markdown",
   "metadata": {},
   "source": [
    "\n",
    "**A)**\n",
    "\n",
    "Aqui podemos aplicar a fórmula de probabilidade total que nos diz que $ E(X) =(X∣S)\\times P(S)+E(X∣ \\bar S) \\times P( \\bar S)$\n",
    "\n",
    "Transpondo para o nosso caso: \n",
    "\n",
    "$ P(PT)= P(PT|S)\\times P(S) + P(PT| \\bar S) \\times P(\\bar S) $\n",
    "\n",
    "Para isso precisamos de primeiro calcular $ P(S)=1-P(\\bar S)=1-0.4=0.6 $\n",
    "\n",
    "ou seja:\n",
    "\n",
    "$ 0.55=0.85 \\times 0.6+P(PT∣ \\bar S) \\times 0.4⇔ $\n",
    "\n",
    "$ \\frac{0.55 - 0.85 \\times 0.60}{0.4} = P(PT| \\bar S)⇔ $\n",
    "\n",
    "$ P(PT| \\bar S) = 0.1 $\n",
    "\n",
    "**B)**\n",
    "\n",
    "$ P(S| PT) = \\frac{P(PT|S)}{P(PT)} \\times P(S) = $\n",
    "\n",
    "$ (\\frac{0.85}{0.55} \\times 0.6) = 0.9273 $"
   ]
  },
  {
   "cell_type": "markdown",
   "metadata": {},
   "source": [
    "## Princípios de contagem\n",
    "\n",
    "### Regra de multiplicação de contagem\n",
    "\n",
    "Se um operação pode ser feita de nnn formas e uma segunda operação pode ser feita de n1n_1n​1​​ formas e uma tarefa pode ser feita de n2n_2n​2​​ formas e por aí em diante, então um número de tarefas kkk pode ser feita em n×n1×n2​​...n​k​​ formas.\n",
    "\n",
    "**Exemplo:** *(possibilidades variam conforme os passos)* Imaginemos que há 3 passos num processo de decisão de investimento. O primeiro passo pode tem duas formas de ser feito, o segundo pode ser feito de 4 formas e o terceiro poder ser feito de três formas. Segundo a regra de multiplicação de contagem há 2×4×3=24 formas/caminhos de a nossa decisão pode tomar tendo em consideração os 3 passos acima descritos.\n",
    "\n",
    "**Exemplo 2:** *(possibilidades diminuem conforme os passos)* Suponhamos que pretendemos atribuir 3 analistas para analisar 3 indústrias (um analista em cada indústria). De quantas formas podemos fazer as nomeações? O primeiro analista pode ser assignado de 3 formas diferentes. Sobram dois analistas. O segundo analista pode ser assignado de 2 formas diferentes. Então um analista e uma indústria sobram, Esse analista só pode ser assignado de uma forma. O número total de possibilidade de nomeações é: 3×2×1=6. A notação matemática compacta da multiplicação que acabamos de fazer é $$ 3! $$ (três factorial)."
   ]
  },
  {
   "cell_type": "markdown",
   "metadata": {},
   "source": [
    "<div class=\"alert alert-block alert-info\"><b>Exercício 3.5</b>\n",
    "\n",
    "Quantas pares ordenados de pessoas conseguimos escolher num grupo de 5 pessoas?\n",
    "\n",
    "</div>"
   ]
  },
  {
   "cell_type": "markdown",
   "metadata": {},
   "source": [
    "**Resolução**\n",
    "\n",
    "Vamos denominar as cinco pessoas como A, B, C, D e E. Todas as possibilidades de pares ordenados são:\n",
    "\n",
    "![](https://s3.us-east-2.amazonaws.com/cbs.pg.repository/img/capitulo_03/capitulo_3_exercicio_4.PNG)\n",
    "\n",
    "A negrito as possibilidades impossíveis pois não podemos repetir uma pessoa. Só está para ajudar na visualização."
   ]
  },
  {
   "cell_type": "code",
   "execution_count": 34,
   "metadata": {},
   "outputs": [
    {
     "data": {
      "text/latex": [
       "$\\displaystyle 20$"
      ],
      "text/plain": [
       "20"
      ]
     },
     "execution_count": 34,
     "metadata": {},
     "output_type": "execute_result"
    }
   ],
   "source": [
    "from sympy.functions.combinatorial.numbers import nC, nP\n",
    "\n",
    "nP(5,2)"
   ]
  },
  {
   "cell_type": "markdown",
   "metadata": {},
   "source": [
    "## Contagem quando a ordem não interessa (Combinação)"
   ]
  },
  {
   "cell_type": "markdown",
   "metadata": {},
   "source": [
    "<div class=\"alert alert-block alert-info\"><b>Exercício 3.6</b>\n",
    "\n",
    "A partir do momento que a ordem não interessa o par (A, B) é o mesmo que o par (B, A). Pegando no rectângulo de pares em cima ficamos com dois conjuntos equivalentes de pares não ordenados:\n",
    "\n",
    "![](https://s3.us-east-2.amazonaws.com/cbs.pg.repository/img/capitulo_03/capitulo_3_exercicio_5.PNG)\n",
    "\n",
    "</div>"
   ]
  },
  {
   "cell_type": "code",
   "execution_count": 35,
   "metadata": {},
   "outputs": [
    {
     "data": {
      "text/latex": [
       "$\\displaystyle 10$"
      ],
      "text/plain": [
       "10"
      ]
     },
     "execution_count": 35,
     "metadata": {},
     "output_type": "execute_result"
    }
   ],
   "source": [
    "nC(5, 2)"
   ]
  },
  {
   "cell_type": "markdown",
   "metadata": {},
   "source": [
    "<div class=\"alert alert-block alert-warning\"><b>Aviso!!</b>\n",
    "\n",
    "Quando é que num par de duas pessoas a ordem pode interessar? Podemos por exemplo pensar que no caso de pares ordenados o que escolhemos primeiro é o \"líder\" do par na resolução de uma tarefa. . Afinal escolher a Joana e o João ou o João e a Joana não é a mesma coisa. No caso de pares não ordenadosseria por exemplo em casos em que não há líder por isso realmente tanto faz (A, B) como (B, A)\n",
    "\n",
    "</div>"
   ]
  },
  {
   "cell_type": "markdown",
   "metadata": {},
   "source": [
    "## Princípios de contagem\n",
    "\n",
    "## Regra de multiplicação de contagem\n",
    "\n",
    "Se um operação pode ser feita de nnn formas e uma segunda operação pode ser feita de n1n_1n​1​​ formas e uma tarefa pode ser feita de n2n_2n​2​​ formas e por aí em diante, então um número de tarefas kkk pode ser feita em n×n1×n2...nkn \\times n_1 \\times n_2 ... n_kn×n​1​​×n​2​​...n​k​​ formas.\n",
    "\n",
    "Exemplo: (possibilidades variam conforme os passos) Imaginemos que há 3 passos num processo de decisão de investimento. O primeiro passo pode tem duas formas de ser feito, o segundo pode ser feito de 4 formas e o terceiro poder ser feito de três formas. Segundo a regra de multiplicação de contagem há 2×4×3=242 \\times 4 \\times 3 = 242×4×3=24 formas/caminhos de a nossa decisão pode tomar tendo em consideração os 3 passos acima descritos.\n",
    "\n",
    "Exemplo 2: (possibilidades diminuem conforme os passos) Suponhamos que pretendemos atribuir 3 analistas para analisar 3 indústrias (um analista em cada indústria). De quantas formas podemos fazer as nomeações? O primeiro analista pode ser assignado de 3 formas diferentes. Sobram dois analistas. O segundo analista pode ser assignado de 2 formas diferentes. Então um analista e uma indústria sobram, Esse analista só pode ser assignado de uma forma. O número total de possibilidade de nomeações é: 3×2×1=63 \\times 2 \\times 1 = 63×2×1=6. A notação matemática compacta da multiplicação que acabamos de fazer é 3!3!3! (três factorial).\n",
    "Contagem quando a ordem interessa (Permutação)\n",
    "#"
   ]
  }
 ],
 "metadata": {
  "kernelspec": {
   "display_name": "Python 3",
   "language": "python",
   "name": "python3"
  },
  "language_info": {
   "codemirror_mode": {
    "name": "ipython",
    "version": 3
   },
   "file_extension": ".py",
   "mimetype": "text/x-python",
   "name": "python",
   "nbconvert_exporter": "python",
   "pygments_lexer": "ipython3",
   "version": "3.9.12"
  }
 },
 "nbformat": 4,
 "nbformat_minor": 2
}
